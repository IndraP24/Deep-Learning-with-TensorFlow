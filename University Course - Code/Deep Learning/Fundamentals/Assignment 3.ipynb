{
 "cells": [
  {
   "cell_type": "markdown",
   "metadata": {},
   "source": [
    "# Assignment 3\n",
    "\n",
    "### WAP to create two lists of 10 random numbers between 10 and 30 and find:\n",
    "- Common numbers in the two lists\n",
    "- Unique numbers in both the lists\n",
    "- Minimum in both lists\n",
    "- Maximum in both lists\n",
    "- Sum of both the lists"
   ]
  },
  {
   "cell_type": "code",
   "execution_count": 2,
   "metadata": {},
   "outputs": [],
   "source": [
    "import numpy as np"
   ]
  },
  {
   "cell_type": "code",
   "execution_count": 3,
   "metadata": {},
   "outputs": [
    {
     "name": "stdout",
     "output_type": "stream",
     "text": [
      "The two lists are: \n",
      "[28 26 28 17 26 13 10 20 22 29] \n",
      "[19 21 25 15 10 10 15 24 21 29]\n"
     ]
    }
   ],
   "source": [
    "L1 = np.random.randint(10, 30, size=10)\n",
    "L2 = np.random.randint(10, 30, size=10)\n",
    "\n",
    "print(f\"The two lists are: \\n{L1} \\n{L2}\")"
   ]
  },
  {
   "cell_type": "code",
   "execution_count": 7,
   "metadata": {},
   "outputs": [
    {
     "name": "stdout",
     "output_type": "stream",
     "text": [
      "The common elements are:  [10, 29]\n",
      "The unique elements are:  [10, 13, 15, 17, 19, 20, 21, 22, 24, 25, 26, 28, 29]\n"
     ]
    }
   ],
   "source": [
    "S1 = set(L1)\n",
    "S2 = set(L2)\n",
    "\n",
    "print(\"The common elements are: \", list(S1 & S2))\n",
    "print(\"The unique elements are: \", list(set((list(L1)+list(L2)))))\n"
   ]
  },
  {
   "cell_type": "code",
   "execution_count": null,
   "metadata": {},
   "outputs": [],
   "source": []
  }
 ],
 "metadata": {
  "interpreter": {
   "hash": "4476fe1481e390b114b1021416a2969c039ded7396dccfbdca9c6c68678e5f18"
  },
  "kernelspec": {
   "display_name": "Python 3.8.10 64-bit ('tfDL': conda)",
   "language": "python",
   "name": "python3"
  },
  "language_info": {
   "codemirror_mode": {
    "name": "ipython",
    "version": 3
   },
   "file_extension": ".py",
   "mimetype": "text/x-python",
   "name": "python",
   "nbconvert_exporter": "python",
   "pygments_lexer": "ipython3",
   "version": "3.8.10"
  },
  "orig_nbformat": 4
 },
 "nbformat": 4,
 "nbformat_minor": 2
}
