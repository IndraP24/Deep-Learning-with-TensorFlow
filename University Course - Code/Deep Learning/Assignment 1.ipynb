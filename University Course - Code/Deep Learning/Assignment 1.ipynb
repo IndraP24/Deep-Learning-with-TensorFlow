{
 "cells": [
  {
   "cell_type": "markdown",
   "metadata": {},
   "source": [
    "1.Python  Program  to  exchange  the  values  of  two  numbers  without  using  a  temporary variable.\n",
    "\n",
    "2.Python program to find the area of a circle.\n",
    "\n",
    "3.Python Program to read a number `n` and compute `n+nn+nnn`.\n",
    "\n",
    "4.Python Program to convert temperature in Celsius to Fahrenheit.\n",
    "\n",
    "5.Python program to find the largest number among the three input numbers using the `and` operator.\n",
    "\n",
    "6.Python program which will accept three numbers from user. If the numbers are different then  print  the  sum  of  these  numbers  and if  these  three  numbers  are  equal  then  print  the multiplication of these numbers. \n",
    "[For example, \n",
    "            If A=1,B= 2, C = 3 then print: 6\n",
    "            IfA=2, B=2, C=2 then print 8]\n",
    "\n",
    "7.Display     “This     is     my     first     Data     Science     Lab”     as `“This**is**my**first**data**science**lab”` using output formatting of a `print()` function\n",
    "\n",
    "8.Calculate income tax for the given income by adhering to the below rules\n",
    "\n",
    "For example, suppose that the taxable income is 65,000 the income tax payable is5000*0% + 10000*10% + 10000*20%+40000*30= 15000\n",
    "\n",
    "9.Display the following data using `string.format()` method as \n",
    "        Myself John and my roll no is 123456. I am from CSE1 group.\n",
    "\n",
    "10.Write a program for checking the speed of drivers.The program will accept the input speed from user and print the messages according to following conditions:\n",
    "    1. If speed is less than 70, it should print “Ok”.\n",
    "    2. Otherwise, for every 5km above the speed limit (70), it should give the driver one demerit point and print the total number of demerit points. For example, if the speed is 80, it should print: “Points: 2”.\n",
    "    3. If  the  driver  gets  more  than  12  points,  the  function  should  print:  “License suspended”"
   ]
  },
  {
   "cell_type": "code",
   "execution_count": null,
   "metadata": {},
   "outputs": [],
   "source": []
  }
 ],
 "metadata": {
  "language_info": {
   "name": "python"
  },
  "orig_nbformat": 4
 },
 "nbformat": 4,
 "nbformat_minor": 2
}
