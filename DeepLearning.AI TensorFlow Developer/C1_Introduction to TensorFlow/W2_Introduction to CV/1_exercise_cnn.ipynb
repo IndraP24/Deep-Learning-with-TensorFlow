{
  "cells": [
    {
      "cell_type": "markdown",
      "metadata": {
        "id": "rUx2OnCX7bsW"
      },
      "source": [
        "## Exercise 2\n",
        "In the course you learned how to do classificaiton using Fashion MNIST, a data set containing items of clothing. There's another, similar dataset called MNIST which has items of handwriting -- the digits 0 through 9.\n",
        "\n",
        "Write an MNIST classifier that trains to 99% accuracy or above, and does it without a fixed number of epochs -- i.e. you should stop training once you reach that level of accuracy.\n",
        "\n",
        "Some notes:\n",
        "1. It should succeed in less than 10 epochs, so it is okay to change epochs= to 10, but nothing larger\n",
        "2. When it reaches 99% or greater it should print out the string \"Reached 99% accuracy so cancelling training!\"\n",
        "3. If you add any additional variables, make sure you use the same names as the ones used in the class\n",
        "\n",
        "The following contains my implementation"
      ]
    },
    {
      "cell_type": "code",
      "execution_count": 1,
      "metadata": {
        "id": "g-qsvJF27bsZ"
      },
      "outputs": [],
      "source": [
        "import numpy as np\n",
        "np.set_printoptions(linewidth=200)\n",
        "import tensorflow as tf\n",
        "import matplotlib.pyplot as plt\n",
        "from tensorflow.keras.utils import to_categorical\n",
        "from tensorflow.keras.models import Sequential\n",
        "from tensorflow.keras.layers import Dense, Flatten, Conv2D, MaxPooling2D, Dropout, BatchNormalization\n",
        "import tensorflow.keras.backend as K"
      ]
    },
    {
      "cell_type": "code",
      "execution_count": 2,
      "metadata": {
        "id": "Je9ulSJt7bsb"
      },
      "outputs": [],
      "source": [
        "class myCallback(tf.keras.callbacks.Callback):\n",
        "    def on_epoch_end(self, epoch, logs={}):\n",
        "        thres = 1\n",
        "        if(logs.get('accuracy') is not None and logs.get('accuracy') >= thres) : # Experiment with changing this value\n",
        "            print(f\"\\nReached {thres*100}% accuracy on epoch = {epoch+1}!\")\n",
        "            self.model.stop_training = True"
      ]
    },
    {
      "cell_type": "code",
      "execution_count": 3,
      "metadata": {
        "id": "ElcikX287bsb"
      },
      "outputs": [],
      "source": [
        "# GRADED FUNCTION: train_mnist\n",
        "def train_mnist():\n",
        "    # Please write your code only where you are indicated.\n",
        "    # please do not remove # model fitting inline comments.\n",
        "\n",
        "    callback =myCallback()\n",
        "    num_classes = 10\n",
        "    #as we have 10 classes (0-9) \n",
        "    #we need to prdeict one out of 10 which has high probability\n",
        "    epochs = 30\n",
        "    img_rows = 28 \n",
        "    img_cols = 28\n",
        "    #as each image is 28 by 28 pixel\n",
        "\n",
        "    mnist = tf.keras.datasets.mnist\n",
        "\n",
        "    (x_train, y_train),(x_test, y_test) = mnist.load_data()\n",
        "    # YOUR CODE SHOULD START HERE\n",
        "    x_train =x_train.astype(float)\n",
        "    x_train =x_train/255\n",
        "    x_test =x_test.astype(float)\n",
        "    x_test =x_test/255\n",
        "\n",
        "    y_train = to_categorical(y_train, num_classes = 10, dtype = 'float32')\n",
        "    y_test = to_categorical(y_test, num_classes = 10, dtype = 'float32')\n",
        "\n",
        "    if K.image_data_format() =='channels_first':\n",
        "        x_train = x_train.reshape(x_train.shape[0],1,img_rows,img_cols)\n",
        "        x_test = x_test.reshape(x_test.shape[0],1,img_rows,img_cols)\n",
        "        input_shape = (1,img_rows,img_cols)\n",
        "    else:\n",
        "        x_train = x_train.reshape(x_train.shape[0],img_rows,img_cols,1)\n",
        "        x_test = x_test.reshape(x_test.shape[0],img_rows,img_cols,1)\n",
        "        input_shape = (img_rows,img_cols,1)\n",
        "    # YOUR CODE SHOULD END HERE\n",
        "    model = Sequential()\n",
        "    model.add(Conv2D(32, kernel_size = 3, activation='relu', input_shape = input_shape))\n",
        "    model.add(MaxPooling2D())\n",
        "    model.add(Conv2D(32, kernel_size = 3, activation='relu'))\n",
        "    model.add(BatchNormalization())\n",
        "    model.add(Conv2D(32, kernel_size = 5, strides=2, padding='same', activation='relu'))\n",
        "    model.add(BatchNormalization())\n",
        "    model.add(Dropout(0.4))\n",
        "    model.add(Conv2D(64, kernel_size = 3, activation='relu'))\n",
        "    model.add(BatchNormalization())\n",
        "    model.add(Conv2D(64, kernel_size = 3, activation='relu'))\n",
        "    model.add(BatchNormalization())\n",
        "    model.add(Conv2D(64, kernel_size = 5, strides=2, padding='same', activation='relu'))\n",
        "    model.add(BatchNormalization())\n",
        "    model.add(Dropout(0.4))\n",
        "    model.add(Flatten())\n",
        "    model.add(Dropout(0.4))\n",
        "    model.add(Dense(10, activation='softmax'))\n",
        "\n",
        "    model.compile(optimizer='adam',\n",
        "                  loss='categorical_crossentropy',\n",
        "                  metrics=['accuracy'])\n",
        "    \n",
        "    # model fitting\n",
        "    history = model.fit(x_train, y_train, epochs=10, validation_data=(x_test, y_test), callbacks=[callback], verbose=1)\n",
        "\n",
        "    # saving model\n",
        "    model.save(\"./artifacts/model.h5\")\n",
        "    # model fitting\n",
        "    return history.epoch, history.history['accuracy'][-1]"
      ]
    },
    {
      "cell_type": "code",
      "execution_count": 4,
      "metadata": {
        "colab": {
          "base_uri": "https://localhost:8080/"
        },
        "id": "edaRplvf7bsd",
        "outputId": "05f18112-c9f1-4c56-8930-365bbcf2d9cc"
      },
      "outputs": [
        {
          "name": "stdout",
          "output_type": "stream",
          "text": [
            "Downloading data from https://storage.googleapis.com/tensorflow/tf-keras-datasets/mnist.npz\n",
            "11493376/11490434 [==============================] - 0s 0us/step\n",
            "11501568/11490434 [==============================] - 0s 0us/step\n",
            "Epoch 1/10\n",
            "1875/1875 [==============================] - 50s 10ms/step - loss: 0.3094 - accuracy: 0.9125 - val_loss: 0.0510 - val_accuracy: 0.9842\n",
            "Epoch 2/10\n",
            "1875/1875 [==============================] - 19s 10ms/step - loss: 0.1019 - accuracy: 0.9729 - val_loss: 0.0347 - val_accuracy: 0.9885\n",
            "Epoch 3/10\n",
            "1875/1875 [==============================] - 18s 9ms/step - loss: 0.0812 - accuracy: 0.9785 - val_loss: 0.0446 - val_accuracy: 0.9871\n",
            "Epoch 4/10\n",
            "1875/1875 [==============================] - 17s 9ms/step - loss: 0.0717 - accuracy: 0.9809 - val_loss: 0.0368 - val_accuracy: 0.9881\n",
            "Epoch 5/10\n",
            "1875/1875 [==============================] - 17s 9ms/step - loss: 0.0556 - accuracy: 0.9848 - val_loss: 0.0434 - val_accuracy: 0.9864\n",
            "Epoch 6/10\n",
            "1875/1875 [==============================] - 17s 9ms/step - loss: 0.0512 - accuracy: 0.9865 - val_loss: 0.0250 - val_accuracy: 0.9921\n",
            "Epoch 7/10\n",
            "1875/1875 [==============================] - 17s 9ms/step - loss: 0.0437 - accuracy: 0.9883 - val_loss: 0.0346 - val_accuracy: 0.9898\n",
            "Epoch 8/10\n",
            "1875/1875 [==============================] - 17s 9ms/step - loss: 0.0443 - accuracy: 0.9882 - val_loss: 0.0274 - val_accuracy: 0.9921\n",
            "Epoch 9/10\n",
            "1875/1875 [==============================] - 17s 9ms/step - loss: 0.0363 - accuracy: 0.9900 - val_loss: 0.0371 - val_accuracy: 0.9887\n",
            "Epoch 10/10\n",
            "1875/1875 [==============================] - 17s 9ms/step - loss: 0.0344 - accuracy: 0.9902 - val_loss: 0.0182 - val_accuracy: 0.9944\n"
          ]
        },
        {
          "data": {
            "text/plain": [
              "([0, 1, 2, 3, 4, 5, 6, 7, 8, 9], 0.9902166724205017)"
            ]
          },
          "execution_count": 4,
          "metadata": {},
          "output_type": "execute_result"
        }
      ],
      "source": [
        "train_mnist()"
      ]
    },
    {
      "cell_type": "markdown",
      "metadata": {
        "id": "4RPdt0Ji7bsf"
      },
      "source": [
        "# "
      ]
    },
    {
      "cell_type": "code",
      "execution_count": 2,
      "metadata": {
        "colab": {
          "base_uri": "https://localhost:8080/"
        },
        "id": "vK4THoX97bsf",
        "outputId": "6d9ed93c-09bb-427f-cc3b-8029cc523c45"
      },
      "outputs": [],
      "source": [
        "!tensorflowjs_converter --input_format keras './artifacts/model.h5' './artifacts/model'"
      ]
    }
  ],
  "metadata": {
    "accelerator": "GPU",
    "colab": {
      "name": "1_exercise cnn.ipynb",
      "provenance": []
    },
    "interpreter": {
      "hash": "4476fe1481e390b114b1021416a2969c039ded7396dccfbdca9c6c68678e5f18"
    },
    "kernelspec": {
      "display_name": "Python 3.8.10 64-bit ('tfDL': conda)",
      "name": "python3"
    },
    "language_info": {
      "codemirror_mode": {
        "name": "ipython",
        "version": 3
      },
      "file_extension": ".py",
      "mimetype": "text/x-python",
      "name": "python",
      "nbconvert_exporter": "python",
      "pygments_lexer": "ipython3",
      "version": "3.8.10"
    },
    "orig_nbformat": 4
  },
  "nbformat": 4,
  "nbformat_minor": 0
}
