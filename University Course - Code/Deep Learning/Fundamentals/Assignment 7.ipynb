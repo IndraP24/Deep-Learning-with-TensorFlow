{
 "cells": [
  {
   "cell_type": "markdown",
   "metadata": {},
   "source": [
    "# Assignment 7"
   ]
  },
  {
   "cell_type": "markdown",
   "metadata": {},
   "source": [
    "### 1. Generate a .csv file consisting of 20,000 sequences of random strings consisting of asci letters and digits of varying length (6-10 both including).\n",
    "\n",
    "Example:\n",
    "|Sequences|\n",
    "|---------|\n",
    "|  EIHZQ  |\n",
    "| XcXsbaW |\n",
    "|  C2efhr |\n",
    "|  lRqfX  |\n",
    "| huNeASD9|\n",
    "|  aEiiOU |"
   ]
  },
  {
   "cell_type": "code",
   "execution_count": 1,
   "metadata": {},
   "outputs": [],
   "source": [
    "import pandas as pd\n",
    "import random, string, re"
   ]
  },
  {
   "cell_type": "code",
   "execution_count": 2,
   "metadata": {},
   "outputs": [],
   "source": [
    "def get_random_string():\n",
    "    \"\"\"function to get random strings of varying length 6 to 10\"\"\"\n",
    "    return ''.join(random.choices(string.ascii_letters + string.digits, k=random.randint(6, 10)))"
   ]
  },
  {
   "cell_type": "code",
   "execution_count": 3,
   "metadata": {},
   "outputs": [],
   "source": [
    "def generate_csv(n=20000):\n",
    "    \"\"\"function to generate a csv file with n sequences from get_random_string\"\"\"\n",
    "    df = pd.DataFrame(columns=['Sequences'])\n",
    "    for i in range(n):\n",
    "        df.loc[i] = [get_random_string()]\n",
    "    path = './data/random_strings_20000.csv'\n",
    "    df.to_csv(path, index=False)\n",
    "    return df, path"
   ]
  },
  {
   "cell_type": "code",
   "execution_count": 14,
   "metadata": {},
   "outputs": [
    {
     "data": {
      "text/plain": [
       "(        Sequences\n",
       " 0       INhdQkBfO\n",
       " 1         UmysQhl\n",
       " 2         j9AyeZc\n",
       " 3          WetS23\n",
       " 4      zjt8KP08tr\n",
       " ...           ...\n",
       " 19995    PVersIjz\n",
       " 19996     8ASgwAE\n",
       " 19997    zrqVowhU\n",
       " 19998    p6NlavwD\n",
       " 19999      9kEx8j\n",
       " \n",
       " [20000 rows x 1 columns],\n",
       " './data/random_strings_20000.csv')"
      ]
     },
     "execution_count": 14,
     "metadata": {},
     "output_type": "execute_result"
    }
   ],
   "source": [
    "generate_csv(20000)"
   ]
  },
  {
   "cell_type": "markdown",
   "metadata": {},
   "source": [
    "### 2. Identify the count of Vowels (A, E, I, O, U) and unique consonants. If the string consist of any digit then write that string into log file.\n",
    "\n",
    "Result file:\n",
    "|Sequences | A,a | E,e | I,i | O,o | U,u | Consonants|\n",
    "|----------|-----|-----|-----|-----|-----|-----------|\n",
    "|   EIHKQ  |  0  |  1  |  1  |  0  |  0  |     3     |\n",
    "| XcXKbkW  |  0  |  0  |  0  |  0  |  0  |     5     |\n",
    "|  aEiiOU  |  1  |  1  |  2  |  1  |  1  |     0     |\n",
    "\n",
    "Log file:\n",
    "|      |\n",
    "|------|\n",
    "|C2efhr|\n",
    "|1RqfX|\n",
    "|huNeASD9|"
   ]
  },
  {
   "cell_type": "code",
   "execution_count": null,
   "metadata": {},
   "outputs": [],
   "source": [
    "def generate_log():\n",
    "    \"\"\"function to generate a log file if a string consist of a digit\"\"\"\n",
    "    path = './data/random_strings_20000.csv'\n",
    "    df = pd.read_csv(path)\n",
    "    df['Digit'] = df['Sequences'].apply(lambda x: 1 if re.search('[0-9]', x) else 0)\n",
    "    df.to_csv('./data/random_strings_20000_log.csv', index=False)\n",
    "    return df"
   ]
  },
  {
   "cell_type": "markdown",
   "metadata": {},
   "source": [
    "### 3: Create two separate .csv files “Vowel.csv” and “Consonant.csv” having vowels and consonants only.\n",
    "\n",
    "Vowel.csv\n",
    "|      |\n",
    "|------|\n",
    "|aEiiOU|\n",
    "\n",
    "\n",
    "Consonant.csv\n",
    "|      |\n",
    "|------|\n",
    "|XcXKbkW|"
   ]
  },
  {
   "cell_type": "markdown",
   "metadata": {},
   "source": []
  }
 ],
 "metadata": {
  "interpreter": {
   "hash": "4ee915b603d310a130ac14c22c060351c31c866e2af29f7ee966b3d55f25a8c2"
  },
  "kernelspec": {
   "display_name": "Python 3.8.8 ('base')",
   "language": "python",
   "name": "python3"
  },
  "language_info": {
   "codemirror_mode": {
    "name": "ipython",
    "version": 3
   },
   "file_extension": ".py",
   "mimetype": "text/x-python",
   "name": "python",
   "nbconvert_exporter": "python",
   "pygments_lexer": "ipython3",
   "version": "3.8.8"
  },
  "orig_nbformat": 4
 },
 "nbformat": 4,
 "nbformat_minor": 2
}
