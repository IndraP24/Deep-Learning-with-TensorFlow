{
 "cells": [
  {
   "cell_type": "markdown",
   "metadata": {},
   "source": [
    "# AND Gate Output prediction using MLP"
   ]
  },
  {
   "cell_type": "markdown",
   "metadata": {},
   "source": [
    "## Imports"
   ]
  },
  {
   "cell_type": "code",
   "execution_count": 1,
   "metadata": {},
   "outputs": [],
   "source": [
    "import numpy as np\n",
    "\n",
    "import tensorflow as tf\n",
    "from tensorflow.keras.models import Sequential\n",
    "from tensorflow.keras.layers import Dense"
   ]
  },
  {
   "cell_type": "markdown",
   "metadata": {},
   "source": [
    "## Creating the data"
   ]
  },
  {
   "cell_type": "code",
   "execution_count": 2,
   "metadata": {},
   "outputs": [],
   "source": [
    "X = np.array([[0, 0],\n",
    "              [0, 1], \n",
    "              [1, 0], \n",
    "              [1, 1]], \"float32\")\n",
    "y = np.array([[0], \n",
    "              [0], \n",
    "              [0], \n",
    "              [1]], \"float32\")"
   ]
  },
  {
   "cell_type": "markdown",
   "metadata": {},
   "source": [
    "## Building, training and evaluating the model"
   ]
  },
  {
   "cell_type": "markdown",
   "metadata": {},
   "source": [
    "### Creating a custom Callback to stop when accuracy reaches 100"
   ]
  },
  {
   "cell_type": "code",
   "execution_count": 3,
   "metadata": {},
   "outputs": [],
   "source": [
    "class myCallback(tf.keras.callbacks.Callback):\n",
    "    def on_epoch_end(self, epoch, logs={}):\n",
    "        thres = 1.0\n",
    "        if(logs.get('accuracy') >= thres): # Experiment with changing this value\n",
    "            print(f\"\\nReached {thres*100}% accuracy on epoch = {epoch+1}!\")\n",
    "            self.model.stop_training = True"
   ]
  },
  {
   "cell_type": "markdown",
   "metadata": {},
   "source": [
    "### MLP Model with 2 Hidden Layers epochs: 200"
   ]
  },
  {
   "cell_type": "code",
   "execution_count": 4,
   "metadata": {},
   "outputs": [],
   "source": [
    "callback = myCallback()\n",
    "model = Sequential([\n",
    "    Dense(32, input_dim=2, activation='relu'),\n",
    "    Dense(16, activation='relu'),\n",
    "    Dense(8, activation='relu'),\n",
    "    Dense(1, activation='sigmoid')\n",
    "])\n",
    "\n",
    "model.compile(loss='mean_squared_error', \n",
    "              optimizer='adam',\n",
    "              metrics=['accuracy'])"
   ]
  },
  {
   "cell_type": "code",
   "execution_count": 5,
   "metadata": {},
   "outputs": [
    {
     "name": "stdout",
     "output_type": "stream",
     "text": [
      "Epoch 1/200\n",
      "1/1 - 3s - loss: 0.2425 - accuracy: 0.5000\n",
      "Epoch 2/200\n",
      "1/1 - 0s - loss: 0.2406 - accuracy: 0.5000\n",
      "Epoch 3/200\n",
      "1/1 - 0s - loss: 0.2385 - accuracy: 0.5000\n",
      "Epoch 4/200\n",
      "1/1 - 0s - loss: 0.2363 - accuracy: 0.5000\n",
      "Epoch 5/200\n",
      "1/1 - 0s - loss: 0.2344 - accuracy: 0.7500\n",
      "Epoch 6/200\n",
      "1/1 - 0s - loss: 0.2323 - accuracy: 0.7500\n",
      "Epoch 7/200\n",
      "1/1 - 0s - loss: 0.2301 - accuracy: 0.7500\n",
      "Epoch 8/200\n",
      "1/1 - 0s - loss: 0.2280 - accuracy: 0.7500\n",
      "Epoch 9/200\n",
      "1/1 - 0s - loss: 0.2259 - accuracy: 0.7500\n",
      "Epoch 10/200\n",
      "1/1 - 0s - loss: 0.2237 - accuracy: 0.7500\n",
      "Epoch 11/200\n",
      "1/1 - 0s - loss: 0.2217 - accuracy: 0.7500\n",
      "Epoch 12/200\n",
      "1/1 - 0s - loss: 0.2201 - accuracy: 0.7500\n",
      "Epoch 13/200\n",
      "1/1 - 0s - loss: 0.2183 - accuracy: 0.7500\n",
      "Epoch 14/200\n",
      "1/1 - 0s - loss: 0.2165 - accuracy: 0.7500\n",
      "Epoch 15/200\n",
      "1/1 - 0s - loss: 0.2146 - accuracy: 0.7500\n",
      "Epoch 16/200\n",
      "1/1 - 0s - loss: 0.2127 - accuracy: 0.7500\n",
      "Epoch 17/200\n",
      "1/1 - 0s - loss: 0.2108 - accuracy: 0.7500\n",
      "Epoch 18/200\n",
      "1/1 - 0s - loss: 0.2089 - accuracy: 0.7500\n",
      "Epoch 19/200\n",
      "1/1 - 0s - loss: 0.2069 - accuracy: 0.7500\n",
      "Epoch 20/200\n",
      "1/1 - 0s - loss: 0.2049 - accuracy: 0.7500\n",
      "Epoch 21/200\n",
      "1/1 - 0s - loss: 0.2030 - accuracy: 0.7500\n",
      "Epoch 22/200\n",
      "1/1 - 0s - loss: 0.2012 - accuracy: 0.7500\n",
      "Epoch 23/200\n",
      "1/1 - 0s - loss: 0.1995 - accuracy: 0.7500\n",
      "Epoch 24/200\n",
      "1/1 - 0s - loss: 0.1977 - accuracy: 0.7500\n",
      "Epoch 25/200\n",
      "1/1 - 0s - loss: 0.1958 - accuracy: 0.7500\n",
      "Epoch 26/200\n",
      "1/1 - 0s - loss: 0.1939 - accuracy: 0.7500\n",
      "Epoch 27/200\n",
      "1/1 - 0s - loss: 0.1919 - accuracy: 0.7500\n",
      "Epoch 28/200\n",
      "1/1 - 0s - loss: 0.1902 - accuracy: 0.7500\n",
      "Epoch 29/200\n",
      "1/1 - 0s - loss: 0.1884 - accuracy: 0.7500\n",
      "Epoch 30/200\n",
      "1/1 - 0s - loss: 0.1866 - accuracy: 0.7500\n",
      "Epoch 31/200\n",
      "1/1 - 0s - loss: 0.1848 - accuracy: 0.7500\n",
      "Epoch 32/200\n",
      "1/1 - 0s - loss: 0.1828 - accuracy: 1.0000\n",
      "\n",
      "Reached 100.0% accuracy on epoch = 32!\n"
     ]
    },
    {
     "data": {
      "text/plain": [
       "<keras.callbacks.History at 0x7f1cd4cb6820>"
      ]
     },
     "execution_count": 5,
     "metadata": {},
     "output_type": "execute_result"
    }
   ],
   "source": [
    "model.fit(X, y, epochs=200, callbacks=[callback], verbose=2)"
   ]
  },
  {
   "cell_type": "code",
   "execution_count": 6,
   "metadata": {},
   "outputs": [
    {
     "name": "stdout",
     "output_type": "stream",
     "text": [
      "[[0.]\n",
      " [0.]\n",
      " [0.]\n",
      " [1.]]\n"
     ]
    }
   ],
   "source": [
    "print(model.predict(X).round())"
   ]
  }
 ],
 "metadata": {
  "interpreter": {
   "hash": "f3bd96fac0d0361c8094fbd918b7160becd695dc2f26b6bcb4c8f727bae37135"
  },
  "kernelspec": {
   "display_name": "Python 3.8.10 64-bit ('tfDL': conda)",
   "name": "python3"
  },
  "language_info": {
   "codemirror_mode": {
    "name": "ipython",
    "version": 3
   },
   "file_extension": ".py",
   "mimetype": "text/x-python",
   "name": "python",
   "nbconvert_exporter": "python",
   "pygments_lexer": "ipython3",
   "version": "3.8.10"
  },
  "orig_nbformat": 4
 },
 "nbformat": 4,
 "nbformat_minor": 2
}
