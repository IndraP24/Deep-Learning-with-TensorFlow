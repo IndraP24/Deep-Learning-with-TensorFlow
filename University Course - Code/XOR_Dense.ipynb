{
 "cells": [
  {
   "cell_type": "markdown",
   "source": [
    "# Understanding XOR gate characteristics with Neural Networks"
   ],
   "metadata": {}
  },
  {
   "cell_type": "markdown",
   "source": [
    "## Imports"
   ],
   "metadata": {}
  },
  {
   "cell_type": "code",
   "execution_count": 1,
   "source": [
    "import numpy as np\n",
    "\n",
    "import tensorflow as tf\n",
    "from tensorflow.keras.models import Sequential\n",
    "from tensorflow.keras.layers import Dense"
   ],
   "outputs": [],
   "metadata": {}
  },
  {
   "cell_type": "markdown",
   "source": [
    "## Creating the data"
   ],
   "metadata": {}
  },
  {
   "cell_type": "code",
   "execution_count": 2,
   "source": [
    "X = np.array([[0, 0],\n",
    "              [0, 1], \n",
    "              [1, 0], \n",
    "              [1, 1]], \"float32\")\n",
    "y = np.array([[0], \n",
    "              [1], \n",
    "              [1], \n",
    "              [0]], \"float32\")"
   ],
   "outputs": [],
   "metadata": {}
  },
  {
   "cell_type": "markdown",
   "source": [
    "## Building, training and evaluating the model"
   ],
   "metadata": {}
  },
  {
   "cell_type": "markdown",
   "source": [
    "### Creating a custom Callback to stop when accuracy reaches 100"
   ],
   "metadata": {}
  },
  {
   "cell_type": "code",
   "execution_count": 32,
   "source": [
    "class myCallback(tf.keras.callbacks.Callback):\n",
    "    def on_epoch_end(self, epoch, logs={}):\n",
    "        thres = 1.0\n",
    "        if(logs.get('accuracy') >= thres): # Experiment with changing this value\n",
    "            print(f\"\\nReached {thres*100}% accuracy on epoch = {epoch+1}!\")\n",
    "            self.model.stop_training = True"
   ],
   "outputs": [],
   "metadata": {}
  },
  {
   "cell_type": "markdown",
   "source": [
    "### Model 1 -> Dense1: 16, epochs: 200"
   ],
   "metadata": {}
  },
  {
   "cell_type": "code",
   "execution_count": 40,
   "source": [
    "callback = myCallback()\n",
    "model = Sequential([\n",
    "    Dense(16, input_dim=2, activation='relu'),\n",
    "    Dense(1, activation='sigmoid')\n",
    "])\n",
    "\n",
    "model.compile(loss='mean_squared_error', \n",
    "              optimizer='adam',\n",
    "              metrics=['accuracy'])"
   ],
   "outputs": [],
   "metadata": {}
  },
  {
   "cell_type": "code",
   "execution_count": 41,
   "source": [
    "model.fit(X, y, epochs=200, callbacks=[callback], verbose=2)"
   ],
   "outputs": [
    {
     "output_type": "stream",
     "name": "stdout",
     "text": [
      "Epoch 1/200\n",
      "1/1 - 0s - loss: 0.2445 - accuracy: 0.7500\n",
      "Epoch 2/200\n",
      "1/1 - 0s - loss: 0.2442 - accuracy: 0.5000\n",
      "Epoch 3/200\n",
      "1/1 - 0s - loss: 0.2438 - accuracy: 0.5000\n",
      "Epoch 4/200\n",
      "1/1 - 0s - loss: 0.2434 - accuracy: 0.5000\n",
      "Epoch 5/200\n",
      "1/1 - 0s - loss: 0.2430 - accuracy: 0.5000\n",
      "Epoch 6/200\n",
      "1/1 - 0s - loss: 0.2427 - accuracy: 0.5000\n",
      "Epoch 7/200\n",
      "1/1 - 0s - loss: 0.2423 - accuracy: 0.5000\n",
      "Epoch 8/200\n",
      "1/1 - 0s - loss: 0.2420 - accuracy: 0.5000\n",
      "Epoch 9/200\n",
      "1/1 - 0s - loss: 0.2416 - accuracy: 0.5000\n",
      "Epoch 10/200\n",
      "1/1 - 0s - loss: 0.2412 - accuracy: 0.5000\n",
      "Epoch 11/200\n",
      "1/1 - 0s - loss: 0.2409 - accuracy: 0.5000\n",
      "Epoch 12/200\n",
      "1/1 - 0s - loss: 0.2405 - accuracy: 0.5000\n",
      "Epoch 13/200\n",
      "1/1 - 0s - loss: 0.2402 - accuracy: 0.5000\n",
      "Epoch 14/200\n",
      "1/1 - 0s - loss: 0.2398 - accuracy: 0.5000\n",
      "Epoch 15/200\n",
      "1/1 - 0s - loss: 0.2395 - accuracy: 0.5000\n",
      "Epoch 16/200\n",
      "1/1 - 0s - loss: 0.2391 - accuracy: 0.5000\n",
      "Epoch 17/200\n",
      "1/1 - 0s - loss: 0.2387 - accuracy: 0.5000\n",
      "Epoch 18/200\n",
      "1/1 - 0s - loss: 0.2384 - accuracy: 0.5000\n",
      "Epoch 19/200\n",
      "1/1 - 0s - loss: 0.2380 - accuracy: 0.5000\n",
      "Epoch 20/200\n",
      "1/1 - 0s - loss: 0.2377 - accuracy: 0.5000\n",
      "Epoch 21/200\n",
      "1/1 - 0s - loss: 0.2373 - accuracy: 0.5000\n",
      "Epoch 22/200\n",
      "1/1 - 0s - loss: 0.2370 - accuracy: 0.5000\n",
      "Epoch 23/200\n",
      "1/1 - 0s - loss: 0.2366 - accuracy: 0.5000\n",
      "Epoch 24/200\n",
      "1/1 - 0s - loss: 0.2362 - accuracy: 0.5000\n",
      "Epoch 25/200\n",
      "1/1 - 0s - loss: 0.2359 - accuracy: 0.5000\n",
      "Epoch 26/200\n",
      "1/1 - 0s - loss: 0.2355 - accuracy: 0.5000\n",
      "Epoch 27/200\n",
      "1/1 - 0s - loss: 0.2352 - accuracy: 0.5000\n",
      "Epoch 28/200\n",
      "1/1 - 0s - loss: 0.2348 - accuracy: 0.5000\n",
      "Epoch 29/200\n",
      "1/1 - 0s - loss: 0.2345 - accuracy: 0.5000\n",
      "Epoch 30/200\n",
      "1/1 - 0s - loss: 0.2341 - accuracy: 0.5000\n",
      "Epoch 31/200\n",
      "1/1 - 0s - loss: 0.2337 - accuracy: 0.5000\n",
      "Epoch 32/200\n",
      "1/1 - 0s - loss: 0.2334 - accuracy: 0.5000\n",
      "Epoch 33/200\n",
      "1/1 - 0s - loss: 0.2330 - accuracy: 0.5000\n",
      "Epoch 34/200\n",
      "1/1 - 0s - loss: 0.2327 - accuracy: 0.5000\n",
      "Epoch 35/200\n",
      "1/1 - 0s - loss: 0.2323 - accuracy: 0.5000\n",
      "Epoch 36/200\n",
      "1/1 - 0s - loss: 0.2319 - accuracy: 0.5000\n",
      "Epoch 37/200\n",
      "1/1 - 0s - loss: 0.2316 - accuracy: 0.5000\n",
      "Epoch 38/200\n",
      "1/1 - 0s - loss: 0.2312 - accuracy: 0.5000\n",
      "Epoch 39/200\n",
      "1/1 - 0s - loss: 0.2309 - accuracy: 0.5000\n",
      "Epoch 40/200\n",
      "1/1 - 0s - loss: 0.2305 - accuracy: 0.5000\n",
      "Epoch 41/200\n",
      "1/1 - 0s - loss: 0.2301 - accuracy: 0.5000\n",
      "Epoch 42/200\n",
      "1/1 - 0s - loss: 0.2298 - accuracy: 0.5000\n",
      "Epoch 43/200\n",
      "1/1 - 0s - loss: 0.2294 - accuracy: 0.5000\n",
      "Epoch 44/200\n",
      "1/1 - 0s - loss: 0.2290 - accuracy: 0.7500\n",
      "Epoch 45/200\n",
      "1/1 - 0s - loss: 0.2287 - accuracy: 0.7500\n",
      "Epoch 46/200\n",
      "1/1 - 0s - loss: 0.2283 - accuracy: 0.7500\n",
      "Epoch 47/200\n",
      "1/1 - 0s - loss: 0.2279 - accuracy: 1.0000\n",
      "\n",
      "Reached 100.0% accuracy on epoch = 47!\n"
     ]
    },
    {
     "output_type": "execute_result",
     "data": {
      "text/plain": [
       "<keras.callbacks.History at 0x7f0820226400>"
      ]
     },
     "metadata": {},
     "execution_count": 41
    }
   ],
   "metadata": {}
  },
  {
   "cell_type": "code",
   "execution_count": 42,
   "source": [
    "print(model.predict(X).round())"
   ],
   "outputs": [
    {
     "output_type": "stream",
     "name": "stdout",
     "text": [
      "[[0.]\n",
      " [1.]\n",
      " [1.]\n",
      " [0.]]\n"
     ]
    }
   ],
   "metadata": {}
  },
  {
   "cell_type": "markdown",
   "source": [
    "### Model 2 -> Dense1: 64, epochs: 100"
   ],
   "metadata": {}
  },
  {
   "cell_type": "code",
   "execution_count": 44,
   "source": [
    "callback = myCallback()\n",
    "model = Sequential([\n",
    "    Dense(64, input_dim=2, activation='relu'),\n",
    "    Dense(1, activation='sigmoid')\n",
    "])\n",
    "\n",
    "model.compile(loss='mean_squared_error', \n",
    "              optimizer='adam',\n",
    "              metrics=['accuracy'])"
   ],
   "outputs": [],
   "metadata": {}
  },
  {
   "cell_type": "code",
   "execution_count": 45,
   "source": [
    "model.fit(X, y, epochs=100, callbacks=[callback], verbose=2)"
   ],
   "outputs": [
    {
     "output_type": "stream",
     "name": "stdout",
     "text": [
      "Epoch 1/100\n",
      "1/1 - 0s - loss: 0.2551 - accuracy: 0.5000\n",
      "Epoch 2/100\n",
      "1/1 - 0s - loss: 0.2544 - accuracy: 0.2500\n",
      "Epoch 3/100\n",
      "1/1 - 0s - loss: 0.2536 - accuracy: 0.5000\n",
      "Epoch 4/100\n",
      "1/1 - 0s - loss: 0.2529 - accuracy: 0.5000\n",
      "Epoch 5/100\n",
      "1/1 - 0s - loss: 0.2523 - accuracy: 0.5000\n",
      "Epoch 6/100\n",
      "1/1 - 0s - loss: 0.2516 - accuracy: 0.5000\n",
      "Epoch 7/100\n",
      "1/1 - 0s - loss: 0.2510 - accuracy: 0.5000\n",
      "Epoch 8/100\n",
      "1/1 - 0s - loss: 0.2503 - accuracy: 0.5000\n",
      "Epoch 9/100\n",
      "1/1 - 0s - loss: 0.2497 - accuracy: 0.2500\n",
      "Epoch 10/100\n",
      "1/1 - 0s - loss: 0.2491 - accuracy: 0.2500\n",
      "Epoch 11/100\n",
      "1/1 - 0s - loss: 0.2485 - accuracy: 0.2500\n",
      "Epoch 12/100\n",
      "1/1 - 0s - loss: 0.2479 - accuracy: 0.2500\n",
      "Epoch 13/100\n",
      "1/1 - 0s - loss: 0.2473 - accuracy: 0.2500\n",
      "Epoch 14/100\n",
      "1/1 - 0s - loss: 0.2467 - accuracy: 0.5000\n",
      "Epoch 15/100\n",
      "1/1 - 0s - loss: 0.2461 - accuracy: 0.5000\n",
      "Epoch 16/100\n",
      "1/1 - 0s - loss: 0.2456 - accuracy: 0.5000\n",
      "Epoch 17/100\n",
      "1/1 - 0s - loss: 0.2450 - accuracy: 0.5000\n",
      "Epoch 18/100\n",
      "1/1 - 0s - loss: 0.2444 - accuracy: 0.7500\n",
      "Epoch 19/100\n",
      "1/1 - 0s - loss: 0.2438 - accuracy: 0.7500\n",
      "Epoch 20/100\n",
      "1/1 - 0s - loss: 0.2432 - accuracy: 0.7500\n",
      "Epoch 21/100\n",
      "1/1 - 0s - loss: 0.2427 - accuracy: 0.7500\n",
      "Epoch 22/100\n",
      "1/1 - 0s - loss: 0.2421 - accuracy: 0.7500\n",
      "Epoch 23/100\n",
      "1/1 - 0s - loss: 0.2415 - accuracy: 0.7500\n",
      "Epoch 24/100\n",
      "1/1 - 0s - loss: 0.2410 - accuracy: 0.7500\n",
      "Epoch 25/100\n",
      "1/1 - 0s - loss: 0.2404 - accuracy: 0.7500\n",
      "Epoch 26/100\n",
      "1/1 - 0s - loss: 0.2398 - accuracy: 0.7500\n",
      "Epoch 27/100\n",
      "1/1 - 0s - loss: 0.2393 - accuracy: 0.7500\n",
      "Epoch 28/100\n",
      "1/1 - 0s - loss: 0.2387 - accuracy: 0.7500\n",
      "Epoch 29/100\n",
      "1/1 - 0s - loss: 0.2381 - accuracy: 0.7500\n",
      "Epoch 30/100\n",
      "1/1 - 0s - loss: 0.2376 - accuracy: 0.7500\n",
      "Epoch 31/100\n",
      "1/1 - 0s - loss: 0.2370 - accuracy: 0.7500\n",
      "Epoch 32/100\n",
      "1/1 - 0s - loss: 0.2365 - accuracy: 1.0000\n",
      "\n",
      "Reached 100.0% accuracy on epoch = 32!\n"
     ]
    },
    {
     "output_type": "execute_result",
     "data": {
      "text/plain": [
       "<keras.callbacks.History at 0x7f0820077520>"
      ]
     },
     "metadata": {},
     "execution_count": 45
    }
   ],
   "metadata": {}
  },
  {
   "cell_type": "code",
   "execution_count": 46,
   "source": [
    "print(model.predict(X).round())"
   ],
   "outputs": [
    {
     "output_type": "stream",
     "name": "stdout",
     "text": [
      "[[0.]\n",
      " [1.]\n",
      " [1.]\n",
      " [0.]]\n"
     ]
    }
   ],
   "metadata": {}
  }
 ],
 "metadata": {
  "orig_nbformat": 4,
  "language_info": {
   "name": "python",
   "version": "3.8.10",
   "mimetype": "text/x-python",
   "codemirror_mode": {
    "name": "ipython",
    "version": 3
   },
   "pygments_lexer": "ipython3",
   "nbconvert_exporter": "python",
   "file_extension": ".py"
  },
  "kernelspec": {
   "name": "python3",
   "display_name": "Python 3.8.10 64-bit ('tfDL': conda)"
  },
  "interpreter": {
   "hash": "f3bd96fac0d0361c8094fbd918b7160becd695dc2f26b6bcb4c8f727bae37135"
  }
 },
 "nbformat": 4,
 "nbformat_minor": 2
}