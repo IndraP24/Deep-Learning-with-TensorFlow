{
 "cells": [
  {
   "cell_type": "markdown",
   "metadata": {},
   "source": [
    "# Assignment 6 \n",
    "\n",
    "### 1. WAP to create a sequence of numbers from 20 to 50 and find the mean of numbers from 20 to 60 and sum of numbers from 51 to 91."
   ]
  },
  {
   "cell_type": "markdown",
   "metadata": {},
   "source": [
    "### 2. Create the following vectors in Python. a = (5, 10, 15, 20, ..., 160) b = (87, 86, 85, ..., 56) Use vector arithmetic to multiply these vectors and call the result d. Select subsets of d to identify the following. \n",
    "    - a) What are the 19th, 20th, and 21st elements of d? \n",
    "    - b) What are all of the elements of d which are less than 2000? \n",
    "    - c) How many elementsof d are greater than 6000?\n",
    "### 3. Using d from problem 2, use python program tocompute the following statistics of d: \n",
    "    - a) Sum \n",
    "    - b) Median \n",
    "    - c) Standard deviation"
   ]
  },
  {
   "cell_type": "code",
   "execution_count": null,
   "metadata": {},
   "outputs": [],
   "source": []
  }
 ],
 "metadata": {
  "language_info": {
   "name": "python"
  },
  "orig_nbformat": 4
 },
 "nbformat": 4,
 "nbformat_minor": 2
}
