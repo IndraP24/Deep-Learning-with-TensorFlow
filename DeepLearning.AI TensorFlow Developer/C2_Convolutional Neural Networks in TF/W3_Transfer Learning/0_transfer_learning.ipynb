{
  "cells": [
    {
      "cell_type": "markdown",
      "metadata": {},
      "source": [
        "# Transfer Learning from the Inception Node"
      ]
    },
    {
      "cell_type": "code",
      "execution_count": 1,
      "metadata": {
        "colab": {
          "base_uri": "https://localhost:8080/"
        },
        "id": "1xJZ5glPPCRz",
        "outputId": "070779c6-0ea2-46c0-e955-a89acd7dfe61"
      },
      "outputs": [
        {
          "name": "stdout",
          "output_type": "stream",
          "text": [
            "--2021-11-02 21:09:14--  https://storage.googleapis.com/mledu-datasets/inception_v3_weights_tf_dim_ordering_tf_kernels_notop.h5\n",
            "Resolving storage.googleapis.com (storage.googleapis.com)... 142.250.195.144, 172.217.163.208, 172.217.163.176, ...\n",
            "Connecting to storage.googleapis.com (storage.googleapis.com)|142.250.195.144|:443... connected.\n",
            "HTTP request sent, awaiting response... 200 OK\n",
            "Length: 87910968 (84M) [application/x-hdf]\n",
            "Saving to: ‘./tmp/inception_v3_weights_tf_dim_ordering_tf_kernels_notop.h5’\n",
            "\n",
            "./tmp/inception_v3_ 100%[===================>]  83.84M  1.44MB/s    in 66s     \n",
            "\n",
            "2021-11-02 21:10:20 (1.27 MB/s) - ‘./tmp/inception_v3_weights_tf_dim_ordering_tf_kernels_notop.h5’ saved [87910968/87910968]\n",
            "\n"
          ]
        }
      ],
      "source": [
        "import os\n",
        "\n",
        "from tensorflow.keras import layers\n",
        "from tensorflow.keras import Model\n",
        "\n",
        "!wget --no-check-certificate \\\n",
        "    https://storage.googleapis.com/mledu-datasets/inception_v3_weights_tf_dim_ordering_tf_kernels_notop.h5 \\\n",
        "    -O ./tmp/inception_v3_weights_tf_dim_ordering_tf_kernels_notop.h5\n",
        "  \n"
      ]
    },
    {
      "cell_type": "code",
      "execution_count": 3,
      "metadata": {
        "colab": {
          "base_uri": "https://localhost:8080/"
        },
        "id": "KsiBCpQ1VvPp",
        "outputId": "e6ca1177-5a80-4b53-abe2-77c20a85d53d"
      },
      "outputs": [
        {
          "name": "stdout",
          "output_type": "stream",
          "text": [
            "last layer output shape:  (None, 7, 7, 768)\n"
          ]
        }
      ],
      "source": [
        "from tensorflow.keras.applications.inception_v3 import InceptionV3\n",
        "\n",
        "local_weights_file = './tmp/inception_v3_weights_tf_dim_ordering_tf_kernels_notop.h5'\n",
        "\n",
        "pre_trained_model = InceptionV3(input_shape = (150, 150, 3), \n",
        "                                include_top = False, \n",
        "                                weights = None)\n",
        "\n",
        "pre_trained_model.load_weights(local_weights_file)\n",
        "\n",
        "for layer in pre_trained_model.layers:\n",
        "  layer.trainable = False\n",
        "  \n",
        "# pre_trained_model.summary()\n",
        "\n",
        "last_layer = pre_trained_model.get_layer('mixed7')\n",
        "print('last layer output shape: ', last_layer.output_shape)\n",
        "last_output = last_layer.output"
      ]
    },
    {
      "cell_type": "code",
      "execution_count": 4,
      "metadata": {
        "id": "BMXb913pbvFg"
      },
      "outputs": [],
      "source": [
        "from tensorflow.keras.optimizers import RMSprop\n",
        "\n",
        "# Flatten the output layer to 1 dimension\n",
        "x = layers.Flatten()(last_output)\n",
        "# Add a fully connected layer with 1,024 hidden units and ReLU activation\n",
        "x = layers.Dense(1024, activation='relu')(x)\n",
        "# Add a dropout rate of 0.2\n",
        "x = layers.Dropout(0.2)(x)                  \n",
        "# Add a final sigmoid layer for classification\n",
        "x = layers.Dense  (1, activation='sigmoid')(x)           \n",
        "\n",
        "model = Model( pre_trained_model.input, x) \n",
        "\n",
        "model.compile(optimizer = RMSprop(learning_rate=0.0001), \n",
        "              loss = 'binary_crossentropy', \n",
        "              metrics = ['accuracy'])\n"
      ]
    },
    {
      "cell_type": "code",
      "execution_count": 5,
      "metadata": {
        "id": "O4s8HckqGlnb"
      },
      "outputs": [
        {
          "name": "stdout",
          "output_type": "stream",
          "text": [
            "Found 2000 images belonging to 2 classes.\n",
            "Found 1000 images belonging to 2 classes.\n"
          ]
        }
      ],
      "source": [
        "# !gdown --id 1RL0T7Rg4XqQNRCkjfnLo4goOJQ7XZro9\n",
        "\n",
        "from tensorflow.keras.preprocessing.image import ImageDataGenerator\n",
        "\n",
        "import os\n",
        "import zipfile\n",
        "\n",
        "zip_ref = zipfile.ZipFile(\"./cats_and_dogs_filtered.zip\", 'r')\n",
        "zip_ref.extractall(\"tmp/\")\n",
        "zip_ref.close()\n",
        "\n",
        "# Define our example directories and files\n",
        "base_dir = 'tmp/cats_and_dogs_filtered'\n",
        "\n",
        "train_dir = os.path.join( base_dir, 'train')\n",
        "validation_dir = os.path.join( base_dir, 'validation')\n",
        "\n",
        "\n",
        "train_cats_dir = os.path.join(train_dir, 'cats') # Directory with our training cat pictures\n",
        "train_dogs_dir = os.path.join(train_dir, 'dogs') # Directory with our training dog pictures\n",
        "validation_cats_dir = os.path.join(validation_dir, 'cats') # Directory with our validation cat pictures\n",
        "validation_dogs_dir = os.path.join(validation_dir, 'dogs')# Directory with our validation dog pictures\n",
        "\n",
        "train_cat_fnames = os.listdir(train_cats_dir)\n",
        "train_dog_fnames = os.listdir(train_dogs_dir)\n",
        "\n",
        "# Add our data-augmentation parameters to ImageDataGenerator\n",
        "train_datagen = ImageDataGenerator(rescale = 1./255.,\n",
        "                                   rotation_range = 40,\n",
        "                                   width_shift_range = 0.2,\n",
        "                                   height_shift_range = 0.2,\n",
        "                                   shear_range = 0.2,\n",
        "                                   zoom_range = 0.2,\n",
        "                                   horizontal_flip = True)\n",
        "\n",
        "# Note that the validation data should not be augmented!\n",
        "test_datagen = ImageDataGenerator( rescale = 1.0/255. )\n",
        "\n",
        "# Flow training images in batches of 20 using train_datagen generator\n",
        "train_generator = train_datagen.flow_from_directory(train_dir,\n",
        "                                                    batch_size = 20,\n",
        "                                                    class_mode = 'binary', \n",
        "                                                    target_size = (150, 150))     \n",
        "\n",
        "# Flow validation images in batches of 20 using test_datagen generator\n",
        "validation_generator =  test_datagen.flow_from_directory( validation_dir,\n",
        "                                                          batch_size  = 20,\n",
        "                                                          class_mode  = 'binary', \n",
        "                                                          target_size = (150, 150))"
      ]
    },
    {
      "cell_type": "code",
      "execution_count": 5,
      "metadata": {
        "colab": {
          "base_uri": "https://localhost:8080/"
        },
        "id": "Blhq2MAUeyGA",
        "outputId": "2eca71cc-e3c5-4251-f78c-f49f5416ca51"
      },
      "outputs": [
        {
          "name": "stdout",
          "output_type": "stream",
          "text": [
            "Epoch 1/20\n",
            "100/100 - 56s - loss: 0.4046 - accuracy: 0.8525 - val_loss: 0.0911 - val_accuracy: 0.9650\n",
            "Epoch 2/20\n",
            "100/100 - 22s - loss: 0.2079 - accuracy: 0.9160 - val_loss: 0.0988 - val_accuracy: 0.9600\n",
            "Epoch 3/20\n",
            "100/100 - 22s - loss: 0.2095 - accuracy: 0.9250 - val_loss: 0.0982 - val_accuracy: 0.9630\n",
            "Epoch 4/20\n",
            "100/100 - 21s - loss: 0.2158 - accuracy: 0.9180 - val_loss: 0.0793 - val_accuracy: 0.9730\n",
            "Epoch 5/20\n",
            "100/100 - 22s - loss: 0.1834 - accuracy: 0.9415 - val_loss: 0.1645 - val_accuracy: 0.9430\n",
            "Epoch 6/20\n",
            "100/100 - 22s - loss: 0.1735 - accuracy: 0.9400 - val_loss: 0.0926 - val_accuracy: 0.9700\n",
            "Epoch 7/20\n",
            "100/100 - 22s - loss: 0.1788 - accuracy: 0.9390 - val_loss: 0.1527 - val_accuracy: 0.9550\n",
            "Epoch 8/20\n",
            "100/100 - 22s - loss: 0.1715 - accuracy: 0.9415 - val_loss: 0.1143 - val_accuracy: 0.9550\n",
            "Epoch 9/20\n",
            "100/100 - 22s - loss: 0.1638 - accuracy: 0.9400 - val_loss: 0.1046 - val_accuracy: 0.9630\n",
            "Epoch 10/20\n",
            "100/100 - 22s - loss: 0.1301 - accuracy: 0.9515 - val_loss: 0.1037 - val_accuracy: 0.9670\n",
            "Epoch 11/20\n",
            "100/100 - 22s - loss: 0.1830 - accuracy: 0.9410 - val_loss: 0.1421 - val_accuracy: 0.9610\n",
            "Epoch 12/20\n",
            "100/100 - 23s - loss: 0.1490 - accuracy: 0.9455 - val_loss: 0.1035 - val_accuracy: 0.9720\n",
            "Epoch 13/20\n",
            "100/100 - 22s - loss: 0.1589 - accuracy: 0.9470 - val_loss: 0.1304 - val_accuracy: 0.9600\n",
            "Epoch 14/20\n",
            "100/100 - 21s - loss: 0.1388 - accuracy: 0.9575 - val_loss: 0.1206 - val_accuracy: 0.9660\n",
            "Epoch 15/20\n",
            "100/100 - 21s - loss: 0.1368 - accuracy: 0.9560 - val_loss: 0.1739 - val_accuracy: 0.9520\n",
            "Epoch 16/20\n",
            "100/100 - 21s - loss: 0.1647 - accuracy: 0.9565 - val_loss: 0.1183 - val_accuracy: 0.9680\n",
            "Epoch 17/20\n",
            "100/100 - 22s - loss: 0.1305 - accuracy: 0.9580 - val_loss: 0.1115 - val_accuracy: 0.9710\n",
            "Epoch 18/20\n",
            "100/100 - 23s - loss: 0.1414 - accuracy: 0.9570 - val_loss: 0.1193 - val_accuracy: 0.9710\n",
            "Epoch 19/20\n",
            "100/100 - 22s - loss: 0.1326 - accuracy: 0.9605 - val_loss: 0.1233 - val_accuracy: 0.9720\n",
            "Epoch 20/20\n",
            "100/100 - 22s - loss: 0.1182 - accuracy: 0.9565 - val_loss: 0.1256 - val_accuracy: 0.9670\n"
          ]
        }
      ],
      "source": [
        "history = model.fit(\n",
        "            train_generator,\n",
        "            validation_data = validation_generator,\n",
        "            steps_per_epoch = 100,\n",
        "            epochs = 20,\n",
        "            validation_steps = 50,\n",
        "            verbose = 2)"
      ]
    },
    {
      "cell_type": "code",
      "execution_count": 6,
      "metadata": {
        "colab": {
          "base_uri": "https://localhost:8080/",
          "height": 298
        },
        "id": "C2Fp6Se9rKuL",
        "outputId": "c20ca502-e381-472c-9a3d-e9ea7f2be155"
      },
      "outputs": [
        {
          "data": {
            "image/png": "[encoded data removed]",
            "text/plain": [
              "<Figure size 432x288 with 1 Axes>"
            ]
          },
          "metadata": {
            "needs_background": "light"
          },
          "output_type": "display_data"
        },
        {
          "data": {
            "text/plain": [
              "<Figure size 432x288 with 0 Axes>"
            ]
          },
          "metadata": {},
          "output_type": "display_data"
        }
      ],
      "source": [
        "import matplotlib.pyplot as plt\n",
        "acc = history.history['accuracy']\n",
        "val_acc = history.history['val_accuracy']\n",
        "loss = history.history['loss']\n",
        "val_loss = history.history['val_loss']\n",
        "\n",
        "epochs = range(len(acc))\n",
        "\n",
        "plt.plot(epochs, acc, 'r', label='Training accuracy')\n",
        "plt.plot(epochs, val_acc, 'b', label='Validation accuracy')\n",
        "plt.title('Training and validation accuracy')\n",
        "plt.legend(loc=0)\n",
        "plt.figure()\n",
        "\n",
        "\n",
        "plt.show()"
      ]
    }
  ],
  "metadata": {
    "accelerator": "GPU",
    "colab": {
      "collapsed_sections": [],
      "name": "C2_W3_Lab_1_transfer_learning.ipynb",
      "provenance": []
    },
    "interpreter": {
      "hash": "4476fe1481e390b114b1021416a2969c039ded7396dccfbdca9c6c68678e5f18"
    },
    "kernelspec": {
      "display_name": "Python 3.8.10 64-bit ('tfDL': conda)",
      "name": "python3"
    },
    "language_info": {
      "codemirror_mode": {
        "name": "ipython",
        "version": 3
      },
      "file_extension": ".py",
      "mimetype": "text/x-python",
      "name": "python",
      "nbconvert_exporter": "python",
      "pygments_lexer": "ipython3",
      "version": "3.8.10"
    }
  },
  "nbformat": 4,
  "nbformat_minor": 0
}
