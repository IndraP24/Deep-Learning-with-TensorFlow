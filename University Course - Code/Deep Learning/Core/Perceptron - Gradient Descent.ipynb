{
 "cells": [
  {
   "cell_type": "markdown",
   "metadata": {},
   "source": [
    "# Gradient Descent\n",
    "\n",
    "### Implementing `Batch` vs `Mini-batch` vs `Stochastic` Gradient Descent"
   ]
  },
  {
   "cell_type": "code",
   "execution_count": 1,
   "metadata": {},
   "outputs": [],
   "source": [
    "import numpy as np\n",
    "import matplotlib.pyplot as plt"
   ]
  },
  {
   "cell_type": "markdown",
   "metadata": {},
   "source": [
    "### Functions for Perceptron with 3 types of Gradient Descent"
   ]
  },
  {
   "cell_type": "code",
   "execution_count": 2,
   "metadata": {},
   "outputs": [],
   "source": [
    "# linear regression using gradient descent\n",
    "# function to compute hypothesis / predictions\n",
    "def hypothesis(X, weights, bias):\n",
    "    return np.dot(X, weights) + bias\n",
    "  \n",
    "# function to compute gradient of error function w.r.t. weights\n",
    "def gradient(X, y, weights, bias, learning_rate):\n",
    "    h = hypothesis(X, weights, bias)\n",
    "    grad_w = learning_rate * np.dot(X.transpose(), (h - y))\n",
    "    grad_b = learning_rate * np.sum(h - y)\n",
    "    return grad_w, grad_b\n",
    "\n",
    "# function to compute the error for current values of weights\n",
    "def cost(X, y, weights, bias):\n",
    "    h = hypothesis(X, weights, bias)\n",
    "    J = np.dot((h - y).transpose(), (h - y))\n",
    "    J /= 2\n",
    "    return J[0]\n",
    "\n",
    "def iterate_minibatches(X, y, batch_size, shuffle=False):\n",
    "    assert X.shape[0] == y.shape[0]\n",
    "    if shuffle:\n",
    "        indices = np.arange(X.shape[0])\n",
    "        np.random.shuffle(indices)\n",
    "    for start_idx in range(0, X.shape[0], batch_size):\n",
    "        end_idx = min(start_idx + batch_size, X.shape[0])\n",
    "        if shuffle:\n",
    "            excerpt = indices[start_idx:end_idx]\n",
    "        else:\n",
    "            excerpt = slice(start_idx, end_idx)\n",
    "        yield X[excerpt], y[excerpt]\n",
    "\n",
    "# function to perform batch gradient descent\n",
    "def batch_gradient_descent(X, y, learning_rate = 0.001, epochs = 10):\n",
    "    weights = np.zeros((X.shape[1], 1))\n",
    "    bias = 0\n",
    "    error_list = []\n",
    "    for _ in range(epochs):\n",
    "        grad_w, grad_b = gradient(X, y, weights, bias, learning_rate)\n",
    "        weights = weights - grad_w\n",
    "        bias = bias - grad_b\n",
    "        J = cost(X, y, weights, bias)\n",
    "        print(\"Epoch: {}, Cost: {}\".format(_, J))\n",
    "        error_list.append(J)\n",
    "  \n",
    "    return weights, bias, error_list\n",
    "\n",
    "# function to perform stochastic gradient descent\n",
    "def stochastic_gradient_descent(X, y, learning_rate = 0.001, epochs = 10):\n",
    "    weights = np.zeros((X.shape[1], 1))\n",
    "    bias = 0\n",
    "    error_list = []\n",
    "    for _ in range(epochs):\n",
    "        for i in range(X.shape[0]):\n",
    "            grad_w, grad_b = gradient(X[i:i+1, :], y[i:i+1], weights, bias, learning_rate)\n",
    "            weights = weights - grad_w\n",
    "            bias = bias - grad_b\n",
    "            J = cost(X[i:i+1, :], y[i:i+1], weights, bias)\n",
    "            error_list.append(J)\n",
    "        print(\"Epoch: {}, Cost: {}\".format(_, J))\n",
    "  \n",
    "    return weights, error_list\n",
    "\n",
    "# function to perform mini-batch gradient descent\n",
    "def mini_batch_gradient_descent(X, y, learning_rate = 0.001, batch_size = 2, epochs = 10):\n",
    "    weights = np.zeros((X.shape[1], 1))\n",
    "    bias = 0\n",
    "    error_list = []\n",
    "    for _ in range(epochs):\n",
    "        mini_batches = iterate_minibatches(X, y, batch_size, shuffle=True)\n",
    "        for mini_batch in mini_batches:\n",
    "            X_mini, y_mini = mini_batch\n",
    "            grad_w, grad_b = gradient(X_mini, y_mini, weights, bias, learning_rate)\n",
    "            weights = weights - grad_w\n",
    "            bias = bias - grad_b\n",
    "            J = cost(X_mini, y_mini, weights, bias)\n",
    "        error_list.append(J)\n",
    "        print(\"Epoch: {}, Cost: {}\".format(_, J))\n",
    "  \n",
    "    return weights, bias, error_list"
   ]
  },
  {
   "cell_type": "markdown",
   "metadata": {},
   "source": [
    "### Defining the Data"
   ]
  },
  {
   "cell_type": "code",
   "execution_count": 3,
   "metadata": {},
   "outputs": [],
   "source": [
    "X = np.array([[0, 0, 1], \n",
    "              [0, 1, 1], \n",
    "              [1, 0, 1], \n",
    "              [1, 1, 1]])\n",
    "y = np.array([[0], [1], [1], [0]])"
   ]
  },
  {
   "cell_type": "code",
   "execution_count": 4,
   "metadata": {},
   "outputs": [
    {
     "name": "stdout",
     "output_type": "stream",
     "text": [
      "(4, 3)\n"
     ]
    },
    {
     "data": {
      "text/plain": [
       "array([[0, 0, 1],\n",
       "       [0, 1, 1],\n",
       "       [1, 0, 1],\n",
       "       [1, 1, 1]])"
      ]
     },
     "execution_count": 4,
     "metadata": {},
     "output_type": "execute_result"
    }
   ],
   "source": [
    "print(X.shape)\n",
    "X"
   ]
  },
  {
   "cell_type": "code",
   "execution_count": 5,
   "metadata": {},
   "outputs": [
    {
     "name": "stdout",
     "output_type": "stream",
     "text": [
      "(4, 1)\n"
     ]
    },
    {
     "data": {
      "text/plain": [
       "array([[0],\n",
       "       [1],\n",
       "       [1],\n",
       "       [0]])"
      ]
     },
     "execution_count": 5,
     "metadata": {},
     "output_type": "execute_result"
    }
   ],
   "source": [
    "print(y.shape)\n",
    "y"
   ]
  },
  {
   "cell_type": "markdown",
   "metadata": {},
   "source": [
    "### Batch Gradient Descent"
   ]
  },
  {
   "cell_type": "code",
   "execution_count": 20,
   "metadata": {},
   "outputs": [
    {
     "name": "stdout",
     "output_type": "stream",
     "text": [
      "Epoch: 0, Cost: [0.990051]\n",
      "Epoch: 1, Cost: [0.98030392]\n",
      "Epoch: 2, Cost: [0.97075466]\n",
      "Epoch: 3, Cost: [0.96139919]\n",
      "Epoch: 4, Cost: [0.95223358]\n",
      "Epoch: 5, Cost: [0.94325397]\n",
      "Epoch: 6, Cost: [0.93445658]\n",
      "Epoch: 7, Cost: [0.92583769]\n",
      "Epoch: 8, Cost: [0.9173937]\n",
      "Epoch: 9, Cost: [0.90912103]\n"
     ]
    }
   ],
   "source": [
    "weights, bias, error_list = batch_gradient_descent(X, y, learning_rate = 0.001)"
   ]
  },
  {
   "cell_type": "code",
   "execution_count": 21,
   "metadata": {},
   "outputs": [
    {
     "name": "stdout",
     "output_type": "stream",
     "text": [
      "Bias =  0.019124047680166293\n",
      "Weights = \n",
      " [[0.00951832]\n",
      " [0.00951832]\n",
      " [0.01912405]]\n"
     ]
    },
    {
     "data": {
      "image/png": "[encoded data removed]",
      "text/plain": [
       "<Figure size 432x288 with 1 Axes>"
      ]
     },
     "metadata": {},
     "output_type": "display_data"
    }
   ],
   "source": [
    "print(\"Bias = \", bias)\n",
    "print(\"Weights = \\n\", weights)\n",
    "  \n",
    "# visualising gradient descent\n",
    "plt.plot(error_list)\n",
    "plt.xlabel(\"Number of iterations\")\n",
    "plt.ylabel(\"Cost\")\n",
    "plt.show()"
   ]
  },
  {
   "cell_type": "code",
   "execution_count": 8,
   "metadata": {},
   "outputs": [
    {
     "data": {
      "image/png": "[encoded data removed]",
      "text/plain": [
       "<Figure size 432x288 with 1 Axes>"
      ]
     },
     "metadata": {},
     "output_type": "display_data"
    },
    {
     "name": "stdout",
     "output_type": "stream",
     "text": [
      "Mean absolute error =  0.5\n"
     ]
    }
   ],
   "source": [
    "y_pred = hypothesis(X, weights, bias)\n",
    "plt.scatter(X[:, 1], y[:, ], marker = '.')\n",
    "plt.plot(X[:, 1], y_pred, color = 'orange')\n",
    "plt.show()\n",
    "  \n",
    "# calculating error in predictions\n",
    "error = np.sum(np.abs(y - y_pred) / y.shape[0])\n",
    "print(\"Mean absolute error = \", error)"
   ]
  },
  {
   "cell_type": "markdown",
   "metadata": {},
   "source": [
    "### Stochastic Gradient Descent"
   ]
  },
  {
   "cell_type": "code",
   "execution_count": 9,
   "metadata": {},
   "outputs": [
    {
     "name": "stdout",
     "output_type": "stream",
     "text": [
      "Epoch: 0, Cost: [0.00162587]\n",
      "Epoch: 1, Cost: [0.00587011]\n",
      "Epoch: 2, Cost: [0.01194244]\n",
      "Epoch: 3, Cost: [0.01923074]\n",
      "Epoch: 4, Cost: [0.02726466]\n",
      "Epoch: 5, Cost: [0.03568633]\n",
      "Epoch: 6, Cost: [0.04422684]\n",
      "Epoch: 7, Cost: [0.05268738]\n",
      "Epoch: 8, Cost: [0.0609241]\n",
      "Epoch: 9, Cost: [0.06883606]\n"
     ]
    }
   ],
   "source": [
    "theta, error_list = stochastic_gradient_descent(X, y, learning_rate = 0.01)"
   ]
  },
  {
   "cell_type": "code",
   "execution_count": 10,
   "metadata": {},
   "outputs": [
    {
     "name": "stdout",
     "output_type": "stream",
     "text": [
      "Bias =  0.019124047680166293\n",
      "Weights = \n",
      " [[0.00951832]\n",
      " [0.00951832]\n",
      " [0.01912405]]\n"
     ]
    },
    {
     "data": {
      "image/png": "[encoded data removed]",
      "text/plain": [
       "<Figure size 432x288 with 1 Axes>"
      ]
     },
     "metadata": {},
     "output_type": "display_data"
    }
   ],
   "source": [
    "print(\"Bias = \", bias)\n",
    "print(\"Weights = \\n\", weights)\n",
    "  \n",
    "# visualising gradient descent\n",
    "plt.plot(error_list)\n",
    "plt.xlabel(\"Number of iterations\")\n",
    "plt.ylabel(\"Cost\")\n",
    "plt.show()"
   ]
  },
  {
   "cell_type": "code",
   "execution_count": 11,
   "metadata": {},
   "outputs": [
    {
     "data": {
      "image/png": "[encoded data removed]",
      "text/plain": [
       "<Figure size 432x288 with 1 Axes>"
      ]
     },
     "metadata": {},
     "output_type": "display_data"
    },
    {
     "name": "stdout",
     "output_type": "stream",
     "text": [
      "Mean absolute error =  0.5\n"
     ]
    }
   ],
   "source": [
    "y_pred = hypothesis(X, weights, bias)\n",
    "plt.scatter(X[:, 1], y[:, ], marker = '.')\n",
    "plt.plot(X[:, 1], y_pred, color = 'orange')\n",
    "plt.show()\n",
    "  \n",
    "# calculating error in predictions\n",
    "error = np.sum(np.abs(y - y_pred) / y.shape[0])\n",
    "print(\"Mean absolute error = \", error)"
   ]
  },
  {
   "cell_type": "markdown",
   "metadata": {},
   "source": [
    "### Mini-Batch Gradient Descent "
   ]
  },
  {
   "cell_type": "code",
   "execution_count": 17,
   "metadata": {},
   "outputs": [
    {
     "name": "stdout",
     "output_type": "stream",
     "text": [
      "Epoch: 0, Cost: [0.49503042]\n",
      "Epoch: 1, Cost: [0.98021837]\n",
      "Epoch: 2, Cost: [0.48535224]\n",
      "Epoch: 3, Cost: [0.48064619]\n",
      "Epoch: 4, Cost: [0.47603169]\n",
      "Epoch: 5, Cost: [0.00088579]\n",
      "Epoch: 6, Cost: [0.46752709]\n",
      "Epoch: 7, Cost: [0.92442373]\n",
      "Epoch: 8, Cost: [0.4591412]\n",
      "Epoch: 9, Cost: [0.45419144]\n"
     ]
    }
   ],
   "source": [
    "weights, bias, error_list = mini_batch_gradient_descent(X, y, learning_rate = 0.001, batch_size=2)"
   ]
  },
  {
   "cell_type": "code",
   "execution_count": 18,
   "metadata": {},
   "outputs": [
    {
     "name": "stdout",
     "output_type": "stream",
     "text": [
      "Bias =  0.01908764667942487\n",
      "Weights = \n",
      " [[0.00949833]\n",
      " [0.00950401]\n",
      " [0.01908765]]\n"
     ]
    },
    {
     "data": {
      "image/png": "[encoded data removed]",
      "text/plain": [
       "<Figure size 432x288 with 1 Axes>"
      ]
     },
     "metadata": {},
     "output_type": "display_data"
    }
   ],
   "source": [
    "print(\"Bias = \", bias)\n",
    "print(\"Weights = \\n\", weights)\n",
    "  \n",
    "# visualising gradient descent\n",
    "plt.plot(error_list)\n",
    "plt.xlabel(\"Number of iterations\")\n",
    "plt.ylabel(\"Cost\")\n",
    "plt.show()"
   ]
  },
  {
   "cell_type": "code",
   "execution_count": 19,
   "metadata": {},
   "outputs": [
    {
     "data": {
      "image/png": "[encoded data removed]",
      "text/plain": [
       "<Figure size 432x288 with 1 Axes>"
      ]
     },
     "metadata": {},
     "output_type": "display_data"
    },
    {
     "name": "stdout",
     "output_type": "stream",
     "text": [
      "Mean absolute error =  0.5\n"
     ]
    }
   ],
   "source": [
    "y_pred = hypothesis(X, weights, bias)\n",
    "plt.scatter(X[:, 1], y[:, ], marker = '.')\n",
    "plt.plot(X[:, 1], y_pred, color = 'orange')\n",
    "plt.show()\n",
    "  \n",
    "# calculating error in predictions\n",
    "error = np.sum(np.abs(y - y_pred) / y.shape[0])\n",
    "print(\"Mean absolute error = \", error)"
   ]
  }
 ],
 "metadata": {
  "interpreter": {
   "hash": "79b33de42393e8658fe28031336af3db23fa82ce3021389ada07706bf647e02e"
  },
  "kernelspec": {
   "display_name": "Python 3.9.7 ('MLBasic')",
   "language": "python",
   "name": "python3"
  },
  "language_info": {
   "codemirror_mode": {
    "name": "ipython",
    "version": 3
   },
   "file_extension": ".py",
   "mimetype": "text/x-python",
   "name": "python",
   "nbconvert_exporter": "python",
   "pygments_lexer": "ipython3",
   "version": "3.9.7"
  },
  "orig_nbformat": 4
 },
 "nbformat": 4,
 "nbformat_minor": 2
}
