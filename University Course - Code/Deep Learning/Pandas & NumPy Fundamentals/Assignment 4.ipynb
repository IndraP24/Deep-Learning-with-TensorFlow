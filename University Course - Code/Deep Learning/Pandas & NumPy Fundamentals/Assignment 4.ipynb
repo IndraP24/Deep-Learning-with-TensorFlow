{
 "cells": [
  {
   "cell_type": "markdown",
   "metadata": {},
   "source": [
    "# Assignment 4\n",
    "\n",
    "\n",
    "### Q1: Create a python program that should take the input `“filename”` in `.csv` format from user and in case of duplicate entries, consider the last entries only. For missing values, you need to put mean of value column.File1.csvOutput1.csv\n",
    "File1.csv\n",
    "|Number |Value|\n",
    "|-------|-----|\n",
    "| 1  \t| 3   |\n",
    "| 2   \t| 4   |\n",
    "| 3   \t| 5   |\n",
    "| 2  \t| 5   |\n",
    "| 1  \t| 6   |\n",
    "\n",
    "Output1.csv\n",
    "|Number |Value|\n",
    "|-------|-----|\n",
    "| 1  \t| 6   |\n",
    "| 2   \t| 5   |\n",
    "| 3   \t| 5   |"
   ]
  },
  {
   "cell_type": "code",
   "execution_count": 2,
   "metadata": {},
   "outputs": [],
   "source": [
    "import pandas as pd"
   ]
  },
  {
   "cell_type": "code",
   "execution_count": 5,
   "metadata": {},
   "outputs": [
    {
     "data": {
      "text/html": [
       "<div>\n",
       "<style scoped>\n",
       "    .dataframe tbody tr th:only-of-type {\n",
       "        vertical-align: middle;\n",
       "    }\n",
       "\n",
       "    .dataframe tbody tr th {\n",
       "        vertical-align: top;\n",
       "    }\n",
       "\n",
       "    .dataframe thead th {\n",
       "        text-align: right;\n",
       "    }\n",
       "</style>\n",
       "<table border=\"1\" class=\"dataframe\">\n",
       "  <thead>\n",
       "    <tr style=\"text-align: right;\">\n",
       "      <th></th>\n",
       "      <th>Number</th>\n",
       "      <th>Value</th>\n",
       "    </tr>\n",
       "  </thead>\n",
       "  <tbody>\n",
       "    <tr>\n",
       "      <th>0</th>\n",
       "      <td>1</td>\n",
       "      <td>3</td>\n",
       "    </tr>\n",
       "    <tr>\n",
       "      <th>1</th>\n",
       "      <td>2</td>\n",
       "      <td>4</td>\n",
       "    </tr>\n",
       "    <tr>\n",
       "      <th>2</th>\n",
       "      <td>3</td>\n",
       "      <td>5</td>\n",
       "    </tr>\n",
       "    <tr>\n",
       "      <th>3</th>\n",
       "      <td>2</td>\n",
       "      <td>5</td>\n",
       "    </tr>\n",
       "    <tr>\n",
       "      <th>4</th>\n",
       "      <td>1</td>\n",
       "      <td>6</td>\n",
       "    </tr>\n",
       "  </tbody>\n",
       "</table>\n",
       "</div>"
      ],
      "text/plain": [
       "   Number  Value\n",
       "0       1      3\n",
       "1       2      4\n",
       "2       3      5\n",
       "3       2      5\n",
       "4       1      6"
      ]
     },
     "execution_count": 5,
     "metadata": {},
     "output_type": "execute_result"
    }
   ],
   "source": [
    "df = pd.read_csv(\"./data/File1.csv\")\n",
    "df"
   ]
  },
  {
   "cell_type": "code",
   "execution_count": 7,
   "metadata": {},
   "outputs": [
    {
     "data": {
      "text/plain": [
       "0    False\n",
       "1    False\n",
       "2    False\n",
       "3     True\n",
       "4     True\n",
       "dtype: bool"
      ]
     },
     "execution_count": 7,
     "metadata": {},
     "output_type": "execute_result"
    }
   ],
   "source": [
    "df.duplicated(subset=['Number'])"
   ]
  },
  {
   "cell_type": "code",
   "execution_count": 20,
   "metadata": {},
   "outputs": [
    {
     "data": {
      "text/html": [
       "<div>\n",
       "<style scoped>\n",
       "    .dataframe tbody tr th:only-of-type {\n",
       "        vertical-align: middle;\n",
       "    }\n",
       "\n",
       "    .dataframe tbody tr th {\n",
       "        vertical-align: top;\n",
       "    }\n",
       "\n",
       "    .dataframe thead th {\n",
       "        text-align: right;\n",
       "    }\n",
       "</style>\n",
       "<table border=\"1\" class=\"dataframe\">\n",
       "  <thead>\n",
       "    <tr style=\"text-align: right;\">\n",
       "      <th></th>\n",
       "      <th>Number</th>\n",
       "      <th>Value</th>\n",
       "    </tr>\n",
       "  </thead>\n",
       "  <tbody>\n",
       "    <tr>\n",
       "      <th>0</th>\n",
       "      <td>1</td>\n",
       "      <td>6</td>\n",
       "    </tr>\n",
       "    <tr>\n",
       "      <th>1</th>\n",
       "      <td>2</td>\n",
       "      <td>5</td>\n",
       "    </tr>\n",
       "    <tr>\n",
       "      <th>2</th>\n",
       "      <td>3</td>\n",
       "      <td>5</td>\n",
       "    </tr>\n",
       "  </tbody>\n",
       "</table>\n",
       "</div>"
      ],
      "text/plain": [
       "   Number  Value\n",
       "0       1      6\n",
       "1       2      5\n",
       "2       3      5"
      ]
     },
     "execution_count": 20,
     "metadata": {},
     "output_type": "execute_result"
    }
   ],
   "source": [
    "df_o = df.drop_duplicates(keep=\"last\", subset=['Number']).sort_values(by=['Number']).reset_index(drop=True)\n",
    "df_o"
   ]
  },
  {
   "cell_type": "code",
   "execution_count": 21,
   "metadata": {},
   "outputs": [],
   "source": [
    "df_o.to_csv(\"./data/Output1.csv\", index=False)"
   ]
  },
  {
   "cell_type": "markdown",
   "metadata": {},
   "source": [
    "### Q2: WAP to create a merged file namely “result.csv” from the given input files.\n",
    "\n",
    "Input:\n",
    "File1.csv\n",
    "|Number |Value|\n",
    "|-------|-----|\n",
    "| 1  \t| 3   |\n",
    "| 2   \t| 4   |\n",
    "| 3   \t| 5   |\n",
    "| 2  \t| 5   |\n",
    "| 1  \t| 6   |\n",
    "\n",
    "File2.csv\n",
    "|Number |Value|\n",
    "|-------|-----|\n",
    "| 1  \t| 1   |\n",
    "| 2   \t| 4   |\n",
    "| 3   \t|     |\n",
    "| 2  \t| 5   |\n",
    "| 4  \t| 6   |\n",
    "\n",
    "File3.csv\n",
    "|Number |Value|\n",
    "|-------|-----|\n",
    "| 1  \t| 2   |\n",
    "| 2   \t| 4   |\n",
    "| 3   \t|     |\n",
    "| 4  \t| 5   |\n",
    "| 5  \t| 6   |\n",
    "\n",
    "result.csv\n",
    "| Number | File1 | File2 | File3 |\n",
    "|--------|-------|-------|-------|\n",
    "| 1      | 6     | 1     | 2     |\n",
    "| 2      | 5     | 5     | 4     |\n",
    "| 3      | 5     | 1     | 2     |\n",
    "| 4      | 3     | 6     | 5     |\n",
    "| 5      | 3     | 1     | 6     |\n",
    "\n",
    "Instructions:\n",
    "\n",
    "1. For duplicate entry of No(Number)in input files, you need to consider the last entry only. For example, File1.csv contain two values for No 1. You need to consideronly last entry for No 1 i.e. 6.\n",
    "2. Replace the missing values with minimum value in that file. For example, File1.csv contain no entry for No 4 and 5. You need to put minimum value, i.e., 3 in output file in Column “File1”. The File3.csv contain no entry for No 3. You need to put minimum value, i.e., 2 in output file in Column “File3”.\n",
    "3. Create a log file for non-numeric entries. This log file should consist of entry of File Name, No and Value."
   ]
  },
  {
   "cell_type": "code",
   "execution_count": null,
   "metadata": {},
   "outputs": [],
   "source": []
  }
 ],
 "metadata": {
  "interpreter": {
   "hash": "4476fe1481e390b114b1021416a2969c039ded7396dccfbdca9c6c68678e5f18"
  },
  "kernelspec": {
   "display_name": "Python 3.8.10 64-bit ('tfDL': conda)",
   "language": "python",
   "name": "python3"
  },
  "language_info": {
   "codemirror_mode": {
    "name": "ipython",
    "version": 3
   },
   "file_extension": ".py",
   "mimetype": "text/x-python",
   "name": "python",
   "nbconvert_exporter": "python",
   "pygments_lexer": "ipython3",
   "version": "3.8.10"
  },
  "orig_nbformat": 4
 },
 "nbformat": 4,
 "nbformat_minor": 2
}
