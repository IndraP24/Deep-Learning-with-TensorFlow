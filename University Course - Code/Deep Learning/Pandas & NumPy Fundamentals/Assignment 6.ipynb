{
 "cells": [
  {
   "cell_type": "markdown",
   "metadata": {},
   "source": [
    "# Assignment 6 \n",
    "\n",
    "### 1. WAP to create a sequence of numbers from 20 to 50 and find the mean of numbers from 20 to 60 and sum of numbers from 51 to 91."
   ]
  },
  {
   "cell_type": "code",
   "execution_count": 1,
   "metadata": {},
   "outputs": [],
   "source": [
    "import numpy as np"
   ]
  },
  {
   "cell_type": "code",
   "execution_count": 2,
   "metadata": {},
   "outputs": [
    {
     "name": "stdout",
     "output_type": "stream",
     "text": [
      "A sequence of numbers from 20 to 50 are \n",
      "[20 21 22 23 24 25 26 27 28 29 30 31 32 33 34 35 36 37 38 39 40 41 42 43\n",
      " 44 45 46 47 48 49]\n"
     ]
    }
   ],
   "source": [
    "print(f\"A sequence of numbers from 20 to 50 are \\n{np.arange(start=20, stop=51, step=1)}\")"
   ]
  },
  {
   "cell_type": "code",
   "execution_count": 5,
   "metadata": {},
   "outputs": [
    {
     "name": "stdout",
     "output_type": "stream",
     "text": [
      "The mean of a sequence of numbers from 20 to 60 is 40.0\n"
     ]
    }
   ],
   "source": [
    "print(f\"The mean of a sequence of numbers from 20 to 60 is {np.mean(np.arange(start=20, stop=61, step=1))}\")"
   ]
  },
  {
   "cell_type": "code",
   "execution_count": 6,
   "metadata": {},
   "outputs": [
    {
     "name": "stdout",
     "output_type": "stream",
     "text": [
      "The sum of a sequence of numbers from 51 to 91 is 2911\n"
     ]
    }
   ],
   "source": [
    "print(f\"The sum of a sequence of numbers from 51 to 91 is {np.sum(np.arange(start=51, stop=92, step=1))}\")"
   ]
  },
  {
   "cell_type": "markdown",
   "metadata": {},
   "source": [
    "### 2. Create the following vectors in Python. a = (5, 10, 15, 20, ..., 160) b = (87, 86, 85, ..., 56) Use vector arithmetic to multiply these vectors and call the result d. Select subsets of d to identify the following. \n",
    "    - a) What are the 19th, 20th, and 21st elements of d? \n",
    "    - b) What are all of the elements of d which are less than 2000? \n",
    "    - c) How many elements of d are greater than 6000?"
   ]
  },
  {
   "cell_type": "code",
   "execution_count": 25,
   "metadata": {},
   "outputs": [
    {
     "name": "stdout",
     "output_type": "stream",
     "text": [
      "d is: [ 435  860 1275 1680 2075 2460 2835 3200 3555 3900 4235 4560 4875 5180\n",
      " 5475 5760 6035 6300 6555 6800 7035 7260 7475 7680 7875 8060 8235 8400\n",
      " 8555 8700 8835 8960]\n",
      "a) The 19th, 20th, and 21st elements of d are (6800, 7035, 7260)\n",
      "b) The elements of d which are less than 2000 are [ 435  860 1275 1680]\n",
      "c) The number of elements of d which are greater than 6000 are 16\n"
     ]
    }
   ],
   "source": [
    "a = np.arange(start=5, stop=161, step=5)\n",
    "b = np.arange(start=87, stop=55, step=-1)\n",
    "\n",
    "# program to multiply two vectors\n",
    "d = np.multiply(a, b)\n",
    "\n",
    "print(f\"d is: {d}\")\n",
    "print(f\"a) The 19th, 20th, and 21st elements of d are {d[19], d[20], d[21]}\")\n",
    "print(f\"b) The elements of d which are less than 2000 are {d[d < 2000]}\")\n",
    "print(f\"c) The number of elements of d which are greater than 6000 are {len(d[d > 6000])}\")"
   ]
  },
  {
   "cell_type": "markdown",
   "metadata": {},
   "source": [
    "### 3. Using d from problem 2, use python program to compute the following statistics of d: \n",
    "    - a) Sum \n",
    "    - b) Median \n",
    "    - c) Standard deviation"
   ]
  },
  {
   "cell_type": "code",
   "execution_count": 26,
   "metadata": {},
   "outputs": [
    {
     "name": "stdout",
     "output_type": "stream",
     "text": [
      "a) The Sum of d is 175120\n",
      "b) The Median of d is 5897.5\n",
      "c) The Standard Deviation of d is 2567.480525729455\n"
     ]
    }
   ],
   "source": [
    "print(f\"a) The Sum of d is {np.sum(d)}\")\n",
    "print(f\"b) The Median of d is {np.median(d)}\")\n",
    "print(f\"c) The Standard Deviation of d is {np.std(d)}\")"
   ]
  }
 ],
 "metadata": {
  "interpreter": {
   "hash": "4ee915b603d310a130ac14c22c060351c31c866e2af29f7ee966b3d55f25a8c2"
  },
  "kernelspec": {
   "display_name": "Python 3.8.8 ('base')",
   "language": "python",
   "name": "python3"
  },
  "language_info": {
   "codemirror_mode": {
    "name": "ipython",
    "version": 3
   },
   "file_extension": ".py",
   "mimetype": "text/x-python",
   "name": "python",
   "nbconvert_exporter": "python",
   "pygments_lexer": "ipython3",
   "version": "3.8.8"
  },
  "orig_nbformat": 4
 },
 "nbformat": 4,
 "nbformat_minor": 2
}
