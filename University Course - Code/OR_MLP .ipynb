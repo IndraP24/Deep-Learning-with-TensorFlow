{
 "cells": [
  {
   "cell_type": "markdown",
   "metadata": {},
   "source": [
    "# OR Gate Output prediction using predefined Network from Paper"
   ]
  },
  {
   "cell_type": "markdown",
   "metadata": {},
   "source": [
    "## Imports"
   ]
  },
  {
   "cell_type": "code",
   "execution_count": 18,
   "metadata": {},
   "outputs": [],
   "source": [
    "import numpy as np"
   ]
  },
  {
   "cell_type": "markdown",
   "metadata": {},
   "source": [
    "## Creating the data"
   ]
  },
  {
   "cell_type": "markdown",
   "metadata": {},
   "source": [
    "### Regular OR Data"
   ]
  },
  {
   "cell_type": "code",
   "execution_count": 19,
   "metadata": {},
   "outputs": [],
   "source": [
    "Xr = np.array([[0, 0],\n",
    "               [0, 1], \n",
    "               [1, 0], \n",
    "               [1, 1]], \"float32\")\n",
    "yr = np.array([[0], \n",
    "               [1], \n",
    "               [1], \n",
    "               [1]], \"float32\")"
   ]
  },
  {
   "cell_type": "markdown",
   "metadata": {},
   "source": [
    "### Bipolar OR Data"
   ]
  },
  {
   "cell_type": "code",
   "execution_count": 20,
   "metadata": {},
   "outputs": [],
   "source": [
    "Xb = np.array([[1, 1],\n",
    "               [1, -1], \n",
    "               [-1, 1], \n",
    "               [-1, -1]], \"float32\")\n",
    "yb = np.array([[1], \n",
    "               [0], \n",
    "               [0], \n",
    "               [-1]], \"float32\")"
   ]
  },
  {
   "cell_type": "markdown",
   "metadata": {},
   "source": [
    "## Building provided model"
   ]
  },
  {
   "cell_type": "code",
   "execution_count": 9,
   "metadata": {},
   "outputs": [],
   "source": [
    "def threshold(x):\n",
    "    if x>0:\n",
    "        return 1\n",
    "    elif x == 0:\n",
    "        return 0\n",
    "    return -1\n",
    "\n",
    "def trained_nn(x, y):\n",
    "    w3 = [0.4, -0.7]\n",
    "    w4 = [0.6, -0.5]\n",
    "    b3 = -0.3\n",
    "    b4 = 0.4\n",
    "    w5 = [2.0, 1.0]\n",
    "    b5 = 0.0\n",
    "    yhat = []\n",
    "    \n",
    "    for xi in x:\n",
    "        yhat.append(threshold(xi@w3+b3 + xi@w4+b4 + b5))\n",
    "    \n",
    "    return yhat\n",
    "\n",
    "def accuracy(y, yhat):\n",
    "    res = []\n",
    "    if len(y) == len(yhat):\n",
    "        for i in range(len(y)):\n",
    "            if y[i] == yhat[i]:\n",
    "                res.append(True)\n",
    "            else:\n",
    "                res.append(False)\n",
    "    \n",
    "    return res"
   ]
  },
  {
   "cell_type": "markdown",
   "metadata": {},
   "source": [
    "### Testing Regular Data"
   ]
  },
  {
   "cell_type": "code",
   "execution_count": 21,
   "metadata": {},
   "outputs": [
    {
     "name": "stdout",
     "output_type": "stream",
     "text": [
      "Accuracy: [False, False, True, False]\n"
     ]
    }
   ],
   "source": [
    "yhat = trained_nn(Xr, yr)\n",
    "res = accuracy(yr, yhat)\n",
    "print(\"Accuracy:\", res)"
   ]
  },
  {
   "cell_type": "markdown",
   "metadata": {},
   "source": [
    "### Testing Bipolar Data"
   ]
  },
  {
   "cell_type": "code",
   "execution_count": 22,
   "metadata": {},
   "outputs": [
    {
     "name": "stdout",
     "output_type": "stream",
     "text": [
      "Accuracy: [False, False, False, False]\n"
     ]
    }
   ],
   "source": [
    "yhat = trained_nn(Xb, yb)\n",
    "res = accuracy(yb, yhat)\n",
    "print(\"Accuracy:\", res)"
   ]
  }
 ],
 "metadata": {
  "interpreter": {
   "hash": "f3bd96fac0d0361c8094fbd918b7160becd695dc2f26b6bcb4c8f727bae37135"
  },
  "kernelspec": {
   "display_name": "Python 3.8.10 64-bit ('tfDL': conda)",
   "name": "python3"
  },
  "language_info": {
   "codemirror_mode": {
    "name": "ipython",
    "version": 3
   },
   "file_extension": ".py",
   "mimetype": "text/x-python",
   "name": "python",
   "nbconvert_exporter": "python",
   "pygments_lexer": "ipython3",
   "version": "3.8.10"
  },
  "orig_nbformat": 4
 },
 "nbformat": 4,
 "nbformat_minor": 2
}
