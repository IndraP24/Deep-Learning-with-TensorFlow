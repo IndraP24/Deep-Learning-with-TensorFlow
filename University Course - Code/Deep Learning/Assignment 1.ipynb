{
 "cells": [
  {
   "cell_type": "markdown",
   "metadata": {},
   "source": [
    "# Assignment 1"
   ]
  },
  {
   "cell_type": "markdown",
   "metadata": {},
   "source": [
    "### 1. Python  Program  to  exchange  the  values  of  two  numbers  without  using  a  temporary variable."
   ]
  },
  {
   "cell_type": "code",
   "execution_count": 1,
   "metadata": {},
   "outputs": [
    {
     "name": "stdout",
     "output_type": "stream",
     "text": [
      "The actual values are: a = 5, b = 10\n",
      "The swapped values are: a = 10, b = 5\n"
     ]
    }
   ],
   "source": [
    "a = 5\n",
    "b = 10\n",
    "print(f\"The actual values are: a = {a}, b = {b}\")\n",
    "\n",
    "a, b = b, a\n",
    "print(f\"The swapped values are: a = {a}, b = {b}\")"
   ]
  },
  {
   "cell_type": "markdown",
   "metadata": {},
   "source": [
    "### 2. Python program to find the area of a circle."
   ]
  },
  {
   "cell_type": "code",
   "execution_count": 3,
   "metadata": {},
   "outputs": [],
   "source": [
    "import math"
   ]
  },
  {
   "cell_type": "code",
   "execution_count": 5,
   "metadata": {},
   "outputs": [
    {
     "name": "stdout",
     "output_type": "stream",
     "text": [
      "The area of the circle with a radius of 5 units is: 78.53981633974483\n"
     ]
    }
   ],
   "source": [
    "r = int(input(\"Enter the value of the radius\"))\n",
    "\n",
    "def circle_area(r: int) -> float:\n",
    "    return math.pi*r*r\n",
    "\n",
    "print(f\"The area of the circle with a radius of {r} units is: {circle_area(r)}\")"
   ]
  },
  {
   "cell_type": "markdown",
   "metadata": {},
   "source": [
    "### 3. Python Program to read a number `n` and compute `n+nn+nnn`."
   ]
  },
  {
   "cell_type": "code",
   "execution_count": 7,
   "metadata": {},
   "outputs": [
    {
     "name": "stdout",
     "output_type": "stream",
     "text": [
      "The computation of n+nn+nnn with a value of 4 is: 84\n"
     ]
    }
   ],
   "source": [
    "n = int(input(\"Enter the value\"))\n",
    "\n",
    "def compute_sop(n: int) -> int:\n",
    "    return n+n**2+n**3\n",
    "\n",
    "print(f\"The computation of n+nn+nnn with a value of {n} is: {compute_sop(n)}\")"
   ]
  },
  {
   "cell_type": "markdown",
   "metadata": {},
   "source": [
    "### 4. Python Program to convert temperature in Celsius to Fahrenheit."
   ]
  },
  {
   "cell_type": "code",
   "execution_count": 9,
   "metadata": {},
   "outputs": [
    {
     "name": "stdout",
     "output_type": "stream",
     "text": [
      "The Fahrenheit value of 32.0 °C is: 89.6\n"
     ]
    }
   ],
   "source": [
    "c = float(input(\"Enter the temperature in Celsius\"))\n",
    "\n",
    "def C_to_F(c: float) -> float:\n",
    "    return (c * 9/5)+32\n",
    "\n",
    "print(f\"The Fahrenheit value of {c} °C is: {C_to_F(c)}\")"
   ]
  },
  {
   "cell_type": "markdown",
   "metadata": {},
   "source": [
    "### 5. Python program to find the largest number among the three input numbers using the `and` operator."
   ]
  },
  {
   "cell_type": "code",
   "execution_count": 10,
   "metadata": {},
   "outputs": [
    {
     "name": "stdout",
     "output_type": "stream",
     "text": [
      "The largest number is 14\n"
     ]
    }
   ],
   "source": [
    "num1 = 10\n",
    "num2 = 14\n",
    "num3 = 12\n",
    "\n",
    "# lines for input from user\n",
    "#num1 = float(input(\"Enter first number: \"))\n",
    "#num2 = float(input(\"Enter second number: \"))\n",
    "#num3 = float(input(\"Enter third number: \"))\n",
    "\n",
    "if (num1 >= num2) and (num1 >= num3):\n",
    "   largest = num1\n",
    "elif (num2 >= num1) and (num2 >= num3):\n",
    "   largest = num2\n",
    "else:\n",
    "   largest = num3\n",
    "\n",
    "print(\"The largest number is\", largest)"
   ]
  },
  {
   "cell_type": "markdown",
   "metadata": {},
   "source": [
    "### 6. Python program which will accept three numbers from user. If the numbers are different then  print  the  sum  of  these  numbers  and if  these  three  numbers  are  equal  then  print  the multiplication of these numbers. \n",
    "For example, \n",
    ">            If A = 1, B = 2, C = 3 then print: 6\n",
    ">            If A = 2, B = 2, C = 2 then print: 8"
   ]
  },
  {
   "cell_type": "code",
   "execution_count": 12,
   "metadata": {},
   "outputs": [
    {
     "name": "stdout",
     "output_type": "stream",
     "text": [
      "The output result is 1000\n"
     ]
    }
   ],
   "source": [
    "num1 = 10\n",
    "num2 = 10\n",
    "num3 = 10\n",
    "\n",
    "# lines for input from user\n",
    "#num1 = float(input(\"Enter first number: \"))\n",
    "#num2 = float(input(\"Enter second number: \"))\n",
    "#num3 = float(input(\"Enter third number: \"))\n",
    "def sum_prod(num1: int, num2: int, num3: int) -> float:\n",
    "    if num1 == num2 == num3:\n",
    "        return num1*num2*num3\n",
    "    return num1+num2+num3\n",
    "    \n",
    "\n",
    "print(\"The output result is:\", sum_prod(num1, num2, num3))"
   ]
  },
  {
   "cell_type": "markdown",
   "metadata": {},
   "source": [
    "### 7. Display     **“This     is     my     first     Data     Science     Lab”**     as `“This**is**my**first**data**science**lab”` using output formatting of a `print()` function"
   ]
  },
  {
   "cell_type": "code",
   "execution_count": 15,
   "metadata": {},
   "outputs": [
    {
     "name": "stdout",
     "output_type": "stream",
     "text": [
      "This**is**my**first**Data**Science**Lab\n"
     ]
    }
   ],
   "source": [
    "print(\"This\", \"is\", \"my\", \"first\", \"Data\", \"Science\", \"Lab\", sep=\"**\")"
   ]
  },
  {
   "cell_type": "markdown",
   "metadata": {},
   "source": [
    "### 8. Calculate income tax for the given income by adhering to the below rules\n",
    "| Taxable Income \t| Rate (%) \t|\n",
    "|----------------\t|----------\t|\n",
    "| First 5,000    \t| 0        \t|\n",
    "| Next 10,000    \t| 10       \t|\n",
    "| Next 10,000    \t| 20       \t|\n",
    "| The remaining  \t| 30       \t|\n",
    "\n",
    "For example, suppose that the taxable income is **65,000** the income tax payable is \n",
    "\n",
    "**`5000*0% + 10000*10% + 10000*20% + 40000*30% = 15000`**"
   ]
  },
  {
   "cell_type": "code",
   "execution_count": 1,
   "metadata": {},
   "outputs": [
    {
     "name": "stdout",
     "output_type": "stream",
     "text": [
      "Total tax to pay is 15000.0\n"
     ]
    }
   ],
   "source": [
    "def income_tax(n: float) -> float:\n",
    "    tax = 0\n",
    "    \n",
    "    if n <= 5000:\n",
    "        tax = 0\n",
    "    elif n <= 15000:\n",
    "        tax = (n - 5000) * 10 / 100\n",
    "    elif n <= 25000:\n",
    "        tax = 10000 * 10/100 + (n - 15000) * 20 / 100\n",
    "    else:\n",
    "        tax = 10000 * 10/100 + 10000 * 20/100 + (n - 25000) * 30 / 100\n",
    "    \n",
    "    return tax\n",
    "\n",
    "print(\"Total tax to pay is\", income_tax(65000))"
   ]
  },
  {
   "cell_type": "markdown",
   "metadata": {},
   "source": [
    "### 9.Display the following data using `string.format()` method as \n",
    "        Myself John and my roll no is 123456. I am from CSE1 group.\n",
    "|Name    |Branch    |Group    |RollNO    |\n",
    "|--------|----------|---------|----------|\n",
    "|John    |CSE       |1        |123456    |"
   ]
  },
  {
   "cell_type": "code",
   "execution_count": 2,
   "metadata": {},
   "outputs": [
    {
     "name": "stdout",
     "output_type": "stream",
     "text": [
      "Myself John and my roll no is 123456. I am from CSE1 group.\n"
     ]
    }
   ],
   "source": [
    "print(\"Myself {} and my roll no is {}. I am from {}{} group.\".format(\"John\", \"123456\", \"CSE\", \"1\"))"
   ]
  },
  {
   "cell_type": "markdown",
   "metadata": {},
   "source": [
    "### 10. Write a program for checking the speed of drivers. The program will accept the input speed from user and print the messages according to following conditions:\n",
    "    1. If speed is less than 70, it should print “Ok”.\n",
    "    2. Otherwise, for every 5km above the speed limit (70), it should give the driver one demerit point and print the total number of demerit points. For example, if the speed is 80, it should print: “Points: 2”.\n",
    "    3. If  the  driver  gets  more  than  12  points,  the  function  should  print:  “License suspended”"
   ]
  },
  {
   "cell_type": "code",
   "execution_count": 9,
   "metadata": {},
   "outputs": [
    {
     "name": "stdout",
     "output_type": "stream",
     "text": [
      "The message for Speed 150 is = License suspended\n"
     ]
    }
   ],
   "source": [
    "def speed_check(n: int) -> str:\n",
    "    demerit = 0\n",
    "    \n",
    "    if n <= 70:\n",
    "        return \"OK\"\n",
    "    elif n > 70:\n",
    "        demerit = (n - 70) / 5\n",
    "        if demerit > 12:\n",
    "            return \"License suspended\"\n",
    "        elif demerit >= 1:\n",
    "            return \"Points: \"+str(int(demerit))\n",
    "        else:\n",
    "            return \"OK\"\n",
    "\n",
    "s = int(input(\"Enter the speed: \"))\n",
    "print(f\"The message for Speed {s} is = {speed_check(s)}\")"
   ]
  }
 ],
 "metadata": {
  "interpreter": {
   "hash": "4ee915b603d310a130ac14c22c060351c31c866e2af29f7ee966b3d55f25a8c2"
  },
  "kernelspec": {
   "display_name": "Python 3.8.8 64-bit ('base': conda)",
   "language": "python",
   "name": "python3"
  },
  "language_info": {
   "codemirror_mode": {
    "name": "ipython",
    "version": 3
   },
   "file_extension": ".py",
   "mimetype": "text/x-python",
   "name": "python",
   "nbconvert_exporter": "python",
   "pygments_lexer": "ipython3",
   "version": "3.8.8"
  },
  "orig_nbformat": 4
 },
 "nbformat": 4,
 "nbformat_minor": 2
}
