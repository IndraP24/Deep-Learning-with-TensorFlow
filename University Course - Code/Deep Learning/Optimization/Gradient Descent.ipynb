{
 "cells": [
  {
   "cell_type": "markdown",
   "metadata": {},
   "source": [
    "# Gradient Descent Algorithm\n",
    "\n",
    "A simple implementation of convergence and divergence of the algorithm."
   ]
  },
  {
   "cell_type": "code",
   "execution_count": 1,
   "metadata": {},
   "outputs": [],
   "source": [
    "import numpy as np\n",
    "import matplotlib.pyplot as plt"
   ]
  },
  {
   "cell_type": "code",
   "execution_count": 11,
   "metadata": {},
   "outputs": [],
   "source": [
    "\"\"\"Defining the custom cost function\"\"\"\n",
    "def cost_function(w1, w2):\n",
    "    return w1**2 + w2**2 + 4"
   ]
  },
  {
   "cell_type": "code",
   "execution_count": 12,
   "metadata": {},
   "outputs": [],
   "source": [
    "# Gradient Descent Function\n",
    "# Here no parameters are tuned, so we can use the default or provided values\n",
    "\n",
    "def gradient_descent(w1, w2, learning_rate=0.01, iterations=100):\n",
    "    for i in range(iterations):\n",
    "        w1 = w1 - learning_rate * 2 * w1\n",
    "        w2 = w2 - learning_rate * 2 * w2\n",
    "        print(\"Cost after iteration %i: %f\" % (i, cost_function(w1, w2)))\n",
    "    return w1, w2"
   ]
  },
  {
   "cell_type": "markdown",
   "metadata": {},
   "source": [
    "### Testing the optimization algorithm with learning_rate = 0.1, 0.5, 2.1 and iterations = 30"
   ]
  },
  {
   "cell_type": "code",
   "execution_count": 13,
   "metadata": {},
   "outputs": [
    {
     "name": "stdout",
     "output_type": "stream",
     "text": [
      "Cost after iteration 0: 20.000000\n",
      "Cost after iteration 1: 14.240000\n",
      "Cost after iteration 2: 10.553600\n",
      "Cost after iteration 3: 8.194304\n",
      "Cost after iteration 4: 6.684355\n",
      "Cost after iteration 5: 5.717987\n",
      "Cost after iteration 6: 5.099512\n",
      "Cost after iteration 7: 4.703687\n",
      "Cost after iteration 8: 4.450360\n",
      "Cost after iteration 9: 4.288230\n",
      "Cost after iteration 10: 4.184467\n",
      "Cost after iteration 11: 4.118059\n",
      "Cost after iteration 12: 4.075558\n",
      "Cost after iteration 13: 4.048357\n",
      "Cost after iteration 14: 4.030949\n",
      "Cost after iteration 15: 4.019807\n",
      "Cost after iteration 16: 4.012677\n",
      "Cost after iteration 17: 4.008113\n",
      "Cost after iteration 18: 4.005192\n",
      "Cost after iteration 19: 4.003323\n",
      "Cost after iteration 20: 4.002127\n",
      "Cost after iteration 21: 4.001361\n",
      "Cost after iteration 22: 4.000871\n",
      "Cost after iteration 23: 4.000558\n",
      "Cost after iteration 24: 4.000357\n",
      "Cost after iteration 25: 4.000228\n",
      "Cost after iteration 26: 4.000146\n",
      "Cost after iteration 27: 4.000094\n",
      "Cost after iteration 28: 4.000060\n",
      "Cost after iteration 29: 4.000038\n"
     ]
    },
    {
     "data": {
      "text/plain": [
       "(0.003713820117856142, 0.004951760157141522)"
      ]
     },
     "execution_count": 13,
     "metadata": {},
     "output_type": "execute_result"
    }
   ],
   "source": [
    "# With learning_rate = 0.1\n",
    "gradient_descent(3, 4, learning_rate=0.1, iterations=30)"
   ]
  },
  {
   "cell_type": "code",
   "execution_count": 14,
   "metadata": {},
   "outputs": [
    {
     "name": "stdout",
     "output_type": "stream",
     "text": [
      "Cost after iteration 0: 4.000000\n",
      "Cost after iteration 1: 4.000000\n",
      "Cost after iteration 2: 4.000000\n",
      "Cost after iteration 3: 4.000000\n",
      "Cost after iteration 4: 4.000000\n",
      "Cost after iteration 5: 4.000000\n",
      "Cost after iteration 6: 4.000000\n",
      "Cost after iteration 7: 4.000000\n",
      "Cost after iteration 8: 4.000000\n",
      "Cost after iteration 9: 4.000000\n",
      "Cost after iteration 10: 4.000000\n",
      "Cost after iteration 11: 4.000000\n",
      "Cost after iteration 12: 4.000000\n",
      "Cost after iteration 13: 4.000000\n",
      "Cost after iteration 14: 4.000000\n",
      "Cost after iteration 15: 4.000000\n",
      "Cost after iteration 16: 4.000000\n",
      "Cost after iteration 17: 4.000000\n",
      "Cost after iteration 18: 4.000000\n",
      "Cost after iteration 19: 4.000000\n",
      "Cost after iteration 20: 4.000000\n",
      "Cost after iteration 21: 4.000000\n",
      "Cost after iteration 22: 4.000000\n",
      "Cost after iteration 23: 4.000000\n",
      "Cost after iteration 24: 4.000000\n",
      "Cost after iteration 25: 4.000000\n",
      "Cost after iteration 26: 4.000000\n",
      "Cost after iteration 27: 4.000000\n",
      "Cost after iteration 28: 4.000000\n",
      "Cost after iteration 29: 4.000000\n"
     ]
    },
    {
     "data": {
      "text/plain": [
       "(0.0, 0.0)"
      ]
     },
     "execution_count": 14,
     "metadata": {},
     "output_type": "execute_result"
    }
   ],
   "source": [
    "# With learning_rate = 0.5\n",
    "gradient_descent(3, 4, learning_rate=0.5, iterations=30)"
   ]
  },
  {
   "cell_type": "code",
   "execution_count": 15,
   "metadata": {},
   "outputs": [
    {
     "name": "stdout",
     "output_type": "stream",
     "text": [
      "Cost after iteration 0: 260.000000\n",
      "Cost after iteration 1: 2625.440000\n",
      "Cost after iteration 2: 26847.545600\n",
      "Cost after iteration 3: 274881.906944\n",
      "Cost after iteration 4: 2814753.767107\n",
      "Cost after iteration 5: 28823041.615171\n",
      "Cost after iteration 6: 295147909.179353\n",
      "Cost after iteration 7: 3022314553.036577\n",
      "Cost after iteration 8: 30948500986.134544\n",
      "Cost after iteration 9: 316912650061.057739\n",
      "Cost after iteration 10: 3245185536588.271484\n",
      "Cost after iteration 11: 33230699894626.949219\n",
      "Cost after iteration 12: 340282366920943.125000\n",
      "Cost after iteration 13: 3484491437270421.500000\n",
      "Cost after iteration 14: 35681192317649076.000000\n",
      "Cost after iteration 15: 365375409332726528.000000\n",
      "Cost after iteration 16: 3741444191567119872.000000\n",
      "Cost after iteration 17: 38312388521647316992.000000\n",
      "Cost after iteration 18: 392318858461668573184.000000\n",
      "Cost after iteration 19: 4017345110647486021632.000000\n",
      "Cost after iteration 20: 41137613933030265585664.000000\n",
      "Cost after iteration 21: 421249166674230037708800.000000\n",
      "Cost after iteration 22: 4313591466744116659879936.000000\n",
      "Cost after iteration 23: 44171176619459755284365312.000000\n",
      "Cost after iteration 24: 452312848583267888614342656.000000\n",
      "Cost after iteration 25: 4631683569492663245381566464.000000\n",
      "Cost after iteration 26: 47428439751604872336394682368.000000\n",
      "Cost after iteration 27: 485667223056433830800186671104.000000\n",
      "Cost after iteration 28: 4973232364097882945307868659712.000000\n",
      "Cost after iteration 29: 50925899408362324602544306782208.000000\n"
     ]
    },
    {
     "data": {
      "text/plain": [
       "(4281743078117888.0, 5708990770823848.0)"
      ]
     },
     "execution_count": 15,
     "metadata": {},
     "output_type": "execute_result"
    }
   ],
   "source": [
    "# With learning_rate = 2.1\n",
    "gradient_descent(3, 4, learning_rate=2.1, iterations=30)"
   ]
  }
 ],
 "metadata": {
  "interpreter": {
   "hash": "4ee915b603d310a130ac14c22c060351c31c866e2af29f7ee966b3d55f25a8c2"
  },
  "kernelspec": {
   "display_name": "Python 3.8.8 ('base')",
   "language": "python",
   "name": "python3"
  },
  "language_info": {
   "codemirror_mode": {
    "name": "ipython",
    "version": 3
   },
   "file_extension": ".py",
   "mimetype": "text/x-python",
   "name": "python",
   "nbconvert_exporter": "python",
   "pygments_lexer": "ipython3",
   "version": "3.8.8"
  },
  "orig_nbformat": 4
 },
 "nbformat": 4,
 "nbformat_minor": 2
}
