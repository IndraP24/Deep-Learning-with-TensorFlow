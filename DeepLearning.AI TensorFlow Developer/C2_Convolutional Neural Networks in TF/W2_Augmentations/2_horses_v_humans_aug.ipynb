{
  "nbformat": 4,
  "nbformat_minor": 0,
  "metadata": {
    "accelerator": "GPU",
    "colab": {
      "name": "C2_W2_Lab_2_horses_v_humans_augmentation.ipynb",
      "provenance": [],
      "collapsed_sections": []
    },
    "kernelspec": {
      "display_name": "Python 3",
      "language": "python",
      "name": "python3"
    },
    "language_info": {
      "codemirror_mode": {
        "name": "ipython",
        "version": 3
      },
      "file_extension": ".py",
      "mimetype": "text/x-python",
      "name": "python",
      "nbconvert_exporter": "python",
      "pygments_lexer": "ipython3",
      "version": "3.8.5"
    }
  },
  "cells": [
    {
      "cell_type": "markdown",
      "metadata": {
        "id": "85ZjGA-uulEv"
      },
      "source": [
        "# Horse vs Humans with Augmentation"
      ]
    },
    {
      "cell_type": "markdown",
      "metadata": {
        "id": "OAXQMecguvDM"
      },
      "source": [
        "## Data Loading and Pre-processing"
      ]
    },
    {
      "cell_type": "code",
      "metadata": {
        "id": "RXZT2UsyIVe_",
        "outputId": "e13ed229-98b2-49ab-a11b-7ad89e8fa72a",
        "colab": {
          "base_uri": "https://localhost:8080/"
        }
      },
      "source": [
        "# horses-or-humans dataset\n",
        "!gdown --id 1onaG42NZft3wCE1WH0GDEbUhu75fedP5\n",
        "\n",
        "# horses-or-humans validation dataset\n",
        "!gdown --id 1LYeusSEIiZQpwN-mthh5nKdA75VsKG1U\n",
        "  \n",
        "import os\n",
        "import zipfile\n",
        "\n",
        "zip_ref = zipfile.ZipFile('./horse-or-human.zip', 'r')\n",
        "zip_ref.extractall('tmp/horse-or-human')\n",
        "\n",
        "zip_ref = zipfile.ZipFile('./validation-horse-or-human.zip', 'r')\n",
        "zip_ref.extractall('tmp/validation-horse-or-human')\n",
        "\n",
        "zip_ref.close()\n",
        "\n",
        "# Directory with our training horse pictures\n",
        "train_horse_dir = os.path.join('tmp/horse-or-human/horses')\n",
        "\n",
        "# Directory with our training human pictures\n",
        "train_human_dir = os.path.join('tmp/horse-or-human/humans')\n",
        "\n",
        "# Directory with our training horse pictures\n",
        "validation_horse_dir = os.path.join('tmp/validation-horse-or-human/horses')\n",
        "\n",
        "# Directory with our training human pictures\n",
        "validation_human_dir = os.path.join('tmp/validation-horse-or-human/humans')"
      ],
      "execution_count": 1,
      "outputs": [
        {
          "output_type": "stream",
          "name": "stdout",
          "text": [
            "Downloading...\n",
            "From: https://drive.google.com/uc?id=1onaG42NZft3wCE1WH0GDEbUhu75fedP5\n",
            "To: /content/horse-or-human.zip\n",
            "100% 150M/150M [00:00<00:00, 171MB/s]\n",
            "Downloading...\n",
            "From: https://drive.google.com/uc?id=1LYeusSEIiZQpwN-mthh5nKdA75VsKG1U\n",
            "To: /content/validation-horse-or-human.zip\n",
            "100% 11.5M/11.5M [00:00<00:00, 101MB/s]\n"
          ]
        }
      ]
    },
    {
      "cell_type": "markdown",
      "metadata": {
        "id": "5oqBkNBJmtUv"
      },
      "source": [
        "## Building a Small Model from Scratch\n",
        "\n",
        "But before we continue, let's start defining the model:\n",
        "\n",
        "Step 1 will be to import tensorflow."
      ]
    },
    {
      "cell_type": "code",
      "metadata": {
        "id": "qvfZg3LQbD-5"
      },
      "source": [
        "import tensorflow as tf"
      ],
      "execution_count": 2,
      "outputs": []
    },
    {
      "cell_type": "markdown",
      "metadata": {
        "id": "BnhYCP4tdqjC"
      },
      "source": [
        "We then add convolutional layers as in the previous example, and flatten the final result to feed into the densely connected layers."
      ]
    },
    {
      "cell_type": "markdown",
      "metadata": {
        "id": "gokG5HKpdtzm"
      },
      "source": [
        "Finally we add the densely connected layers. \n",
        "\n",
        "Note that because we are facing a two-class classification problem, i.e. a *binary classification problem*, we will end our network with a [*sigmoid* activation](https://wikipedia.org/wiki/Sigmoid_function), so that the output of our network will be a single scalar between 0 and 1, encoding the probability that the current image is class 1 (as opposed to class 0)."
      ]
    },
    {
      "cell_type": "code",
      "metadata": {
        "id": "PixZ2s5QbYQ3"
      },
      "source": [
        "model = tf.keras.models.Sequential([\n",
        "    # Note the input shape is the desired size of the image 300x300 with 3 bytes color\n",
        "    # This is the first convolution\n",
        "    tf.keras.layers.Conv2D(16, (3,3), activation='relu', input_shape=(300, 300, 3)),\n",
        "    tf.keras.layers.MaxPooling2D(2, 2),\n",
        "    # The second convolution\n",
        "    tf.keras.layers.Conv2D(32, (3,3), activation='relu'),\n",
        "    tf.keras.layers.MaxPooling2D(2,2),\n",
        "    # The third convolution\n",
        "    tf.keras.layers.Conv2D(64, (3,3), activation='relu'),\n",
        "    tf.keras.layers.MaxPooling2D(2,2),\n",
        "    # The fourth convolution\n",
        "    tf.keras.layers.Conv2D(64, (3,3), activation='relu'),\n",
        "    tf.keras.layers.MaxPooling2D(2,2),\n",
        "    # The fifth convolution\n",
        "    tf.keras.layers.Conv2D(64, (3,3), activation='relu'),\n",
        "    tf.keras.layers.MaxPooling2D(2,2),\n",
        "    # Flatten the results to feed into a DNN\n",
        "    tf.keras.layers.Flatten(),\n",
        "    # 512 neuron hidden layer\n",
        "    tf.keras.layers.Dense(512, activation='relu'),\n",
        "    # Only 1 output neuron. It will contain a value from 0-1 where 0 for 1 class ('horses') and 1 for the other ('humans')\n",
        "    tf.keras.layers.Dense(1, activation='sigmoid')\n",
        "])"
      ],
      "execution_count": 3,
      "outputs": []
    },
    {
      "cell_type": "code",
      "metadata": {
        "id": "k1ODkqXCu8Ve",
        "outputId": "c90009cc-3240-4e99-c390-783f10c2415b",
        "colab": {
          "base_uri": "https://localhost:8080/"
        }
      },
      "source": [
        "model.summary()"
      ],
      "execution_count": 4,
      "outputs": [
        {
          "output_type": "stream",
          "name": "stdout",
          "text": [
            "Model: \"sequential\"\n",
            "_________________________________________________________________\n",
            "Layer (type)                 Output Shape              Param #   \n",
            "=================================================================\n",
            "conv2d (Conv2D)              (None, 298, 298, 16)      448       \n",
            "_________________________________________________________________\n",
            "max_pooling2d (MaxPooling2D) (None, 149, 149, 16)      0         \n",
            "_________________________________________________________________\n",
            "conv2d_1 (Conv2D)            (None, 147, 147, 32)      4640      \n",
            "_________________________________________________________________\n",
            "max_pooling2d_1 (MaxPooling2 (None, 73, 73, 32)        0         \n",
            "_________________________________________________________________\n",
            "conv2d_2 (Conv2D)            (None, 71, 71, 64)        18496     \n",
            "_________________________________________________________________\n",
            "max_pooling2d_2 (MaxPooling2 (None, 35, 35, 64)        0         \n",
            "_________________________________________________________________\n",
            "conv2d_3 (Conv2D)            (None, 33, 33, 64)        36928     \n",
            "_________________________________________________________________\n",
            "max_pooling2d_3 (MaxPooling2 (None, 16, 16, 64)        0         \n",
            "_________________________________________________________________\n",
            "conv2d_4 (Conv2D)            (None, 14, 14, 64)        36928     \n",
            "_________________________________________________________________\n",
            "max_pooling2d_4 (MaxPooling2 (None, 7, 7, 64)          0         \n",
            "_________________________________________________________________\n",
            "flatten (Flatten)            (None, 3136)              0         \n",
            "_________________________________________________________________\n",
            "dense (Dense)                (None, 512)               1606144   \n",
            "_________________________________________________________________\n",
            "dense_1 (Dense)              (None, 1)                 513       \n",
            "=================================================================\n",
            "Total params: 1,704,097\n",
            "Trainable params: 1,704,097\n",
            "Non-trainable params: 0\n",
            "_________________________________________________________________\n"
          ]
        }
      ]
    },
    {
      "cell_type": "code",
      "metadata": {
        "id": "8DHWhFP_uhq3"
      },
      "source": [
        "from tensorflow.keras.optimizers import RMSprop\n",
        "\n",
        "model.compile(loss='binary_crossentropy',\n",
        "              optimizer=RMSprop(learning_rate=1e-4),\n",
        "              metrics=['accuracy'])"
      ],
      "execution_count": 5,
      "outputs": []
    },
    {
      "cell_type": "code",
      "metadata": {
        "id": "ClebU9NJg99G",
        "outputId": "58e6e6d2-0cec-495c-8314-36677f76189a",
        "colab": {
          "base_uri": "https://localhost:8080/"
        }
      },
      "source": [
        "from tensorflow.keras.preprocessing.image import ImageDataGenerator\n",
        "\n",
        "# All images will be rescaled by 1./255\n",
        "train_datagen = ImageDataGenerator(\n",
        "      rescale=1./255,\n",
        "      rotation_range=40,\n",
        "      width_shift_range=0.2,\n",
        "      height_shift_range=0.2,\n",
        "      shear_range=0.2,\n",
        "      zoom_range=0.2,\n",
        "      horizontal_flip=True,\n",
        "      fill_mode='nearest')\n",
        "\n",
        "validation_datagen = ImageDataGenerator(rescale=1/255)\n",
        "\n",
        "# Flow training images in batches of 128 using train_datagen generator\n",
        "train_generator = train_datagen.flow_from_directory(\n",
        "        'tmp/horse-or-human/',  # This is the source directory for training images\n",
        "        target_size=(300, 300),  # All images will be resized to 150x150\n",
        "        batch_size=128,\n",
        "        # Since we use binary_crossentropy loss, we need binary labels\n",
        "        class_mode='binary')\n",
        "\n",
        "# Flow training images in batches of 128 using train_datagen generator\n",
        "validation_generator = validation_datagen.flow_from_directory(\n",
        "        'tmp/validation-horse-or-human/',  # This is the source directory for training images\n",
        "        target_size=(300, 300),  # All images will be resized to 150x150\n",
        "        batch_size=32,\n",
        "        # Since we use binary_crossentropy loss, we need binary labels\n",
        "        class_mode='binary')"
      ],
      "execution_count": 6,
      "outputs": [
        {
          "output_type": "stream",
          "name": "stdout",
          "text": [
            "Found 1027 images belonging to 2 classes.\n",
            "Found 256 images belonging to 2 classes.\n"
          ]
        }
      ]
    },
    {
      "cell_type": "code",
      "metadata": {
        "id": "Fb1_lgobv81m",
        "outputId": "78d8210a-47fb-4eef-f578-e083c50b8ddc",
        "colab": {
          "base_uri": "https://localhost:8080/"
        }
      },
      "source": [
        "history = model.fit(\n",
        "      train_generator,\n",
        "      steps_per_epoch=8,  \n",
        "      epochs=100,\n",
        "      verbose=1,\n",
        "      validation_data = validation_generator,\n",
        "      validation_steps=8)"
      ],
      "execution_count": 7,
      "outputs": [
        {
          "output_type": "stream",
          "name": "stdout",
          "text": [
            "Epoch 1/100\n",
            "8/8 [==============================] - 59s 3s/step - loss: 0.6840 - accuracy: 0.5717 - val_loss: 0.6629 - val_accuracy: 0.8594\n",
            "Epoch 2/100\n",
            "8/8 [==============================] - 25s 3s/step - loss: 0.6600 - accuracy: 0.6452 - val_loss: 0.6534 - val_accuracy: 0.5078\n",
            "Epoch 3/100\n",
            "8/8 [==============================] - 24s 3s/step - loss: 0.6309 - accuracy: 0.7152 - val_loss: 0.6467 - val_accuracy: 0.5352\n",
            "Epoch 4/100\n",
            "8/8 [==============================] - 27s 3s/step - loss: 0.5919 - accuracy: 0.7422 - val_loss: 0.6539 - val_accuracy: 0.5508\n",
            "Epoch 5/100\n",
            "8/8 [==============================] - 25s 3s/step - loss: 0.5811 - accuracy: 0.7164 - val_loss: 0.6636 - val_accuracy: 0.5781\n",
            "Epoch 6/100\n",
            "8/8 [==============================] - 24s 3s/step - loss: 0.5316 - accuracy: 0.7375 - val_loss: 0.9221 - val_accuracy: 0.5195\n",
            "Epoch 7/100\n",
            "8/8 [==============================] - 24s 3s/step - loss: 0.5705 - accuracy: 0.6952 - val_loss: 0.7961 - val_accuracy: 0.5352\n",
            "Epoch 8/100\n",
            "8/8 [==============================] - 24s 3s/step - loss: 0.5080 - accuracy: 0.7675 - val_loss: 0.9945 - val_accuracy: 0.5273\n",
            "Epoch 9/100\n",
            "8/8 [==============================] - 27s 3s/step - loss: 0.4947 - accuracy: 0.7666 - val_loss: 0.7257 - val_accuracy: 0.6250\n",
            "Epoch 10/100\n",
            "8/8 [==============================] - 24s 3s/step - loss: 0.4677 - accuracy: 0.7853 - val_loss: 0.5738 - val_accuracy: 0.7344\n",
            "Epoch 11/100\n",
            "8/8 [==============================] - 24s 3s/step - loss: 0.4774 - accuracy: 0.7931 - val_loss: 1.5564 - val_accuracy: 0.5039\n",
            "Epoch 12/100\n",
            "8/8 [==============================] - 25s 3s/step - loss: 0.5080 - accuracy: 0.7508 - val_loss: 1.1291 - val_accuracy: 0.5430\n",
            "Epoch 13/100\n",
            "8/8 [==============================] - 25s 3s/step - loss: 0.4780 - accuracy: 0.7853 - val_loss: 1.0953 - val_accuracy: 0.5625\n",
            "Epoch 14/100\n",
            "8/8 [==============================] - 24s 3s/step - loss: 0.4342 - accuracy: 0.7998 - val_loss: 1.2589 - val_accuracy: 0.5469\n",
            "Epoch 15/100\n",
            "8/8 [==============================] - 27s 3s/step - loss: 0.4486 - accuracy: 0.7861 - val_loss: 0.9609 - val_accuracy: 0.6328\n",
            "Epoch 16/100\n",
            "8/8 [==============================] - 24s 3s/step - loss: 0.3977 - accuracy: 0.8220 - val_loss: 1.3572 - val_accuracy: 0.5469\n",
            "Epoch 17/100\n",
            "8/8 [==============================] - 26s 3s/step - loss: 0.4532 - accuracy: 0.7852 - val_loss: 1.1922 - val_accuracy: 0.5898\n",
            "Epoch 18/100\n",
            "8/8 [==============================] - 24s 3s/step - loss: 0.4072 - accuracy: 0.8187 - val_loss: 0.7138 - val_accuracy: 0.7500\n",
            "Epoch 19/100\n",
            "8/8 [==============================] - 24s 3s/step - loss: 0.4394 - accuracy: 0.8042 - val_loss: 1.3601 - val_accuracy: 0.5703\n",
            "Epoch 20/100\n",
            "8/8 [==============================] - 27s 3s/step - loss: 0.3589 - accuracy: 0.8535 - val_loss: 1.7986 - val_accuracy: 0.5430\n",
            "Epoch 21/100\n",
            "8/8 [==============================] - 24s 3s/step - loss: 0.4220 - accuracy: 0.8220 - val_loss: 1.5159 - val_accuracy: 0.5586\n",
            "Epoch 22/100\n",
            "8/8 [==============================] - 24s 3s/step - loss: 0.3872 - accuracy: 0.8287 - val_loss: 1.3618 - val_accuracy: 0.5938\n",
            "Epoch 23/100\n",
            "8/8 [==============================] - 24s 3s/step - loss: 0.3773 - accuracy: 0.8254 - val_loss: 1.5357 - val_accuracy: 0.5703\n",
            "Epoch 24/100\n",
            "8/8 [==============================] - 24s 3s/step - loss: 0.3565 - accuracy: 0.8420 - val_loss: 1.6795 - val_accuracy: 0.5664\n",
            "Epoch 25/100\n",
            "8/8 [==============================] - 24s 3s/step - loss: 0.4007 - accuracy: 0.8209 - val_loss: 1.5360 - val_accuracy: 0.5625\n",
            "Epoch 26/100\n",
            "8/8 [==============================] - 24s 3s/step - loss: 0.3733 - accuracy: 0.8276 - val_loss: 1.5698 - val_accuracy: 0.5703\n",
            "Epoch 27/100\n",
            "8/8 [==============================] - 24s 3s/step - loss: 0.3321 - accuracy: 0.8676 - val_loss: 2.2288 - val_accuracy: 0.5234\n",
            "Epoch 28/100\n",
            "8/8 [==============================] - 24s 3s/step - loss: 0.3269 - accuracy: 0.8587 - val_loss: 1.8139 - val_accuracy: 0.5781\n",
            "Epoch 29/100\n",
            "8/8 [==============================] - 24s 3s/step - loss: 0.3159 - accuracy: 0.8765 - val_loss: 1.8239 - val_accuracy: 0.5781\n",
            "Epoch 30/100\n",
            "8/8 [==============================] - 23s 3s/step - loss: 0.3613 - accuracy: 0.8320 - val_loss: 1.6922 - val_accuracy: 0.5938\n",
            "Epoch 31/100\n",
            "8/8 [==============================] - 24s 3s/step - loss: 0.3866 - accuracy: 0.8343 - val_loss: 1.7369 - val_accuracy: 0.5859\n",
            "Epoch 32/100\n",
            "8/8 [==============================] - 23s 3s/step - loss: 0.3750 - accuracy: 0.8309 - val_loss: 2.0310 - val_accuracy: 0.5391\n",
            "Epoch 33/100\n",
            "8/8 [==============================] - 24s 3s/step - loss: 0.3021 - accuracy: 0.8710 - val_loss: 1.7615 - val_accuracy: 0.5898\n",
            "Epoch 34/100\n",
            "8/8 [==============================] - 25s 3s/step - loss: 0.3599 - accuracy: 0.8409 - val_loss: 1.7649 - val_accuracy: 0.5547\n",
            "Epoch 35/100\n",
            "8/8 [==============================] - 24s 3s/step - loss: 0.2874 - accuracy: 0.8854 - val_loss: 2.3483 - val_accuracy: 0.5234\n",
            "Epoch 36/100\n",
            "8/8 [==============================] - 24s 3s/step - loss: 0.3115 - accuracy: 0.8532 - val_loss: 1.5551 - val_accuracy: 0.6289\n",
            "Epoch 37/100\n",
            "8/8 [==============================] - 24s 3s/step - loss: 0.3002 - accuracy: 0.8621 - val_loss: 2.2606 - val_accuracy: 0.5312\n",
            "Epoch 38/100\n",
            "8/8 [==============================] - 23s 3s/step - loss: 0.3189 - accuracy: 0.8543 - val_loss: 2.1284 - val_accuracy: 0.5586\n",
            "Epoch 39/100\n",
            "8/8 [==============================] - 23s 3s/step - loss: 0.3015 - accuracy: 0.8732 - val_loss: 2.4087 - val_accuracy: 0.5312\n",
            "Epoch 40/100\n",
            "8/8 [==============================] - 23s 3s/step - loss: 0.3600 - accuracy: 0.8521 - val_loss: 1.6353 - val_accuracy: 0.6016\n",
            "Epoch 41/100\n",
            "8/8 [==============================] - 23s 3s/step - loss: 0.2904 - accuracy: 0.8687 - val_loss: 2.4011 - val_accuracy: 0.5312\n",
            "Epoch 42/100\n",
            "8/8 [==============================] - 23s 3s/step - loss: 0.2636 - accuracy: 0.8954 - val_loss: 2.0709 - val_accuracy: 0.5586\n",
            "Epoch 43/100\n",
            "8/8 [==============================] - 24s 3s/step - loss: 0.2801 - accuracy: 0.8676 - val_loss: 2.5373 - val_accuracy: 0.5156\n",
            "Epoch 44/100\n",
            "8/8 [==============================] - 27s 3s/step - loss: 0.2787 - accuracy: 0.8896 - val_loss: 1.5118 - val_accuracy: 0.6445\n",
            "Epoch 45/100\n",
            "8/8 [==============================] - 27s 3s/step - loss: 0.2420 - accuracy: 0.8965 - val_loss: 2.0657 - val_accuracy: 0.5859\n",
            "Epoch 46/100\n",
            "8/8 [==============================] - 24s 3s/step - loss: 0.3329 - accuracy: 0.8532 - val_loss: 2.3507 - val_accuracy: 0.5469\n",
            "Epoch 47/100\n",
            "8/8 [==============================] - 24s 3s/step - loss: 0.2592 - accuracy: 0.8899 - val_loss: 2.4907 - val_accuracy: 0.5156\n",
            "Epoch 48/100\n",
            "8/8 [==============================] - 24s 3s/step - loss: 0.2640 - accuracy: 0.8943 - val_loss: 1.8316 - val_accuracy: 0.5977\n",
            "Epoch 49/100\n",
            "8/8 [==============================] - 24s 3s/step - loss: 0.2420 - accuracy: 0.8977 - val_loss: 1.5620 - val_accuracy: 0.6211\n",
            "Epoch 50/100\n",
            "8/8 [==============================] - 24s 3s/step - loss: 0.2438 - accuracy: 0.8977 - val_loss: 1.5880 - val_accuracy: 0.6562\n",
            "Epoch 51/100\n",
            "8/8 [==============================] - 23s 3s/step - loss: 0.2985 - accuracy: 0.8621 - val_loss: 2.3159 - val_accuracy: 0.5469\n",
            "Epoch 52/100\n",
            "8/8 [==============================] - 24s 3s/step - loss: 0.2564 - accuracy: 0.8921 - val_loss: 2.0455 - val_accuracy: 0.5781\n",
            "Epoch 53/100\n",
            "8/8 [==============================] - 24s 3s/step - loss: 0.2594 - accuracy: 0.8776 - val_loss: 3.6637 - val_accuracy: 0.5039\n",
            "Epoch 54/100\n",
            "8/8 [==============================] - 24s 3s/step - loss: 0.2297 - accuracy: 0.8999 - val_loss: 3.3768 - val_accuracy: 0.5156\n",
            "Epoch 55/100\n",
            "8/8 [==============================] - 24s 3s/step - loss: 0.2221 - accuracy: 0.9077 - val_loss: 1.4940 - val_accuracy: 0.6914\n",
            "Epoch 56/100\n",
            "8/8 [==============================] - 24s 3s/step - loss: 0.2411 - accuracy: 0.8977 - val_loss: 3.3243 - val_accuracy: 0.5117\n",
            "Epoch 57/100\n",
            "8/8 [==============================] - 24s 3s/step - loss: 0.2189 - accuracy: 0.9066 - val_loss: 2.6641 - val_accuracy: 0.5664\n",
            "Epoch 58/100\n",
            "8/8 [==============================] - 24s 3s/step - loss: 0.3363 - accuracy: 0.8665 - val_loss: 2.7362 - val_accuracy: 0.5508\n",
            "Epoch 59/100\n",
            "8/8 [==============================] - 24s 3s/step - loss: 0.1970 - accuracy: 0.9299 - val_loss: 3.2482 - val_accuracy: 0.5234\n",
            "Epoch 60/100\n",
            "8/8 [==============================] - 24s 3s/step - loss: 0.2406 - accuracy: 0.8954 - val_loss: 2.9419 - val_accuracy: 0.5312\n",
            "Epoch 61/100\n",
            "8/8 [==============================] - 24s 3s/step - loss: 0.2985 - accuracy: 0.8821 - val_loss: 2.8869 - val_accuracy: 0.5312\n",
            "Epoch 62/100\n",
            "8/8 [==============================] - 25s 3s/step - loss: 0.1866 - accuracy: 0.9375 - val_loss: 1.6923 - val_accuracy: 0.6758\n",
            "Epoch 63/100\n",
            "8/8 [==============================] - 23s 3s/step - loss: 0.3290 - accuracy: 0.8743 - val_loss: 2.8914 - val_accuracy: 0.5430\n",
            "Epoch 64/100\n",
            "8/8 [==============================] - 23s 3s/step - loss: 0.2012 - accuracy: 0.9299 - val_loss: 2.4487 - val_accuracy: 0.5820\n",
            "Epoch 65/100\n",
            "8/8 [==============================] - 24s 3s/step - loss: 0.1906 - accuracy: 0.9244 - val_loss: 3.0419 - val_accuracy: 0.5352\n",
            "Epoch 66/100\n",
            "8/8 [==============================] - 26s 3s/step - loss: 0.2245 - accuracy: 0.8975 - val_loss: 2.5390 - val_accuracy: 0.5703\n",
            "Epoch 67/100\n",
            "8/8 [==============================] - 26s 3s/step - loss: 0.1696 - accuracy: 0.9365 - val_loss: 2.5233 - val_accuracy: 0.5820\n",
            "Epoch 68/100\n",
            "8/8 [==============================] - 24s 3s/step - loss: 0.2673 - accuracy: 0.8832 - val_loss: 1.9395 - val_accuracy: 0.6367\n",
            "Epoch 69/100\n",
            "8/8 [==============================] - 24s 3s/step - loss: 0.1716 - accuracy: 0.9344 - val_loss: 3.2484 - val_accuracy: 0.5352\n",
            "Epoch 70/100\n",
            "8/8 [==============================] - 24s 3s/step - loss: 0.2063 - accuracy: 0.9121 - val_loss: 2.8412 - val_accuracy: 0.5742\n",
            "Epoch 71/100\n",
            "8/8 [==============================] - 26s 3s/step - loss: 0.1622 - accuracy: 0.9385 - val_loss: 2.0809 - val_accuracy: 0.6445\n",
            "Epoch 72/100\n",
            "8/8 [==============================] - 24s 3s/step - loss: 0.2471 - accuracy: 0.9010 - val_loss: 2.0339 - val_accuracy: 0.6328\n",
            "Epoch 73/100\n",
            "8/8 [==============================] - 24s 3s/step - loss: 0.2482 - accuracy: 0.9021 - val_loss: 3.1536 - val_accuracy: 0.5391\n",
            "Epoch 74/100\n",
            "8/8 [==============================] - 24s 3s/step - loss: 0.1606 - accuracy: 0.9410 - val_loss: 2.4549 - val_accuracy: 0.6133\n",
            "Epoch 75/100\n",
            "8/8 [==============================] - 24s 3s/step - loss: 0.2505 - accuracy: 0.8966 - val_loss: 2.7657 - val_accuracy: 0.5820\n",
            "Epoch 76/100\n",
            "8/8 [==============================] - 24s 3s/step - loss: 0.1519 - accuracy: 0.9377 - val_loss: 2.3752 - val_accuracy: 0.6133\n",
            "Epoch 77/100\n",
            "8/8 [==============================] - 24s 3s/step - loss: 0.1964 - accuracy: 0.9232 - val_loss: 2.8865 - val_accuracy: 0.5898\n",
            "Epoch 78/100\n",
            "8/8 [==============================] - 24s 3s/step - loss: 0.3339 - accuracy: 0.8932 - val_loss: 3.0594 - val_accuracy: 0.5859\n",
            "Epoch 79/100\n",
            "8/8 [==============================] - 24s 3s/step - loss: 0.1439 - accuracy: 0.9422 - val_loss: 3.1063 - val_accuracy: 0.5781\n",
            "Epoch 80/100\n",
            "8/8 [==============================] - 24s 3s/step - loss: 0.1565 - accuracy: 0.9455 - val_loss: 1.8165 - val_accuracy: 0.6875\n",
            "Epoch 81/100\n",
            "8/8 [==============================] - 24s 3s/step - loss: 0.1775 - accuracy: 0.9232 - val_loss: 3.6480 - val_accuracy: 0.5391\n",
            "Epoch 82/100\n",
            "8/8 [==============================] - 26s 3s/step - loss: 0.2114 - accuracy: 0.9082 - val_loss: 2.9623 - val_accuracy: 0.5703\n",
            "Epoch 83/100\n",
            "8/8 [==============================] - 24s 3s/step - loss: 0.2168 - accuracy: 0.9210 - val_loss: 2.5608 - val_accuracy: 0.5938\n",
            "Epoch 84/100\n",
            "8/8 [==============================] - 24s 3s/step - loss: 0.1486 - accuracy: 0.9455 - val_loss: 3.0069 - val_accuracy: 0.5742\n",
            "Epoch 85/100\n",
            "8/8 [==============================] - 24s 3s/step - loss: 0.1333 - accuracy: 0.9544 - val_loss: 2.0414 - val_accuracy: 0.6719\n",
            "Epoch 86/100\n",
            "8/8 [==============================] - 24s 3s/step - loss: 0.2087 - accuracy: 0.9055 - val_loss: 3.3802 - val_accuracy: 0.5547\n",
            "Epoch 87/100\n",
            "8/8 [==============================] - 24s 3s/step - loss: 0.2330 - accuracy: 0.9055 - val_loss: 2.3530 - val_accuracy: 0.6094\n",
            "Epoch 88/100\n",
            "8/8 [==============================] - 24s 3s/step - loss: 0.1455 - accuracy: 0.9466 - val_loss: 1.9213 - val_accuracy: 0.6719\n",
            "Epoch 89/100\n",
            "8/8 [==============================] - 24s 3s/step - loss: 0.1462 - accuracy: 0.9399 - val_loss: 5.1080 - val_accuracy: 0.5078\n",
            "Epoch 90/100\n",
            "8/8 [==============================] - 24s 3s/step - loss: 0.1668 - accuracy: 0.9232 - val_loss: 3.0013 - val_accuracy: 0.5859\n",
            "Epoch 91/100\n",
            "8/8 [==============================] - 25s 3s/step - loss: 0.1542 - accuracy: 0.9266 - val_loss: 2.0118 - val_accuracy: 0.6680\n",
            "Epoch 92/100\n",
            "8/8 [==============================] - 24s 3s/step - loss: 0.1701 - accuracy: 0.9299 - val_loss: 2.4559 - val_accuracy: 0.6484\n",
            "Epoch 93/100\n",
            "8/8 [==============================] - 24s 3s/step - loss: 0.1659 - accuracy: 0.9321 - val_loss: 3.7210 - val_accuracy: 0.5664\n",
            "Epoch 94/100\n",
            "8/8 [==============================] - 24s 3s/step - loss: 0.1910 - accuracy: 0.9244 - val_loss: 2.2423 - val_accuracy: 0.6406\n",
            "Epoch 95/100\n",
            "8/8 [==============================] - 26s 3s/step - loss: 0.1223 - accuracy: 0.9541 - val_loss: 3.5281 - val_accuracy: 0.5703\n",
            "Epoch 96/100\n",
            "8/8 [==============================] - 24s 3s/step - loss: 0.2204 - accuracy: 0.9032 - val_loss: 2.7387 - val_accuracy: 0.5938\n",
            "Epoch 97/100\n",
            "8/8 [==============================] - 24s 3s/step - loss: 0.1479 - accuracy: 0.9455 - val_loss: 3.1451 - val_accuracy: 0.5938\n",
            "Epoch 98/100\n",
            "8/8 [==============================] - 24s 3s/step - loss: 0.1163 - accuracy: 0.9566 - val_loss: 2.9160 - val_accuracy: 0.6094\n",
            "Epoch 99/100\n",
            "8/8 [==============================] - 27s 3s/step - loss: 0.1739 - accuracy: 0.9229 - val_loss: 3.4477 - val_accuracy: 0.5781\n",
            "Epoch 100/100\n",
            "8/8 [==============================] - 24s 3s/step - loss: 0.0960 - accuracy: 0.9711 - val_loss: 3.5633 - val_accuracy: 0.5820\n"
          ]
        }
      ]
    },
    {
      "cell_type": "code",
      "metadata": {
        "id": "7zNPRWOVJdOH",
        "outputId": "5bad22e9-09c3-4f06-e5e2-dd926424db4b",
        "colab": {
          "base_uri": "https://localhost:8080/",
          "height": 545
        }
      },
      "source": [
        "import matplotlib.pyplot as plt\n",
        "acc = history.history['accuracy']\n",
        "val_acc = history.history['val_accuracy']\n",
        "loss = history.history['loss']\n",
        "val_loss = history.history['val_loss']\n",
        "\n",
        "epochs = range(len(acc))\n",
        "\n",
        "plt.plot(epochs, acc, 'r', label='Training accuracy')\n",
        "plt.plot(epochs, val_acc, 'b', label='Validation accuracy')\n",
        "plt.title('Training and validation accuracy')\n",
        "\n",
        "plt.figure()\n",
        "\n",
        "plt.plot(epochs, loss, 'r', label='Training Loss')\n",
        "plt.plot(epochs, val_loss, 'b', label='Validation Loss')\n",
        "plt.title('Training and validation loss')\n",
        "plt.legend()\n",
        "\n",
        "plt.show()"
      ],
      "execution_count": 8,
      "outputs": [
        {
          "output_type": "display_data",
          "data": {
            "image/png": "[encoded data removed]",
            "text/plain": [
              "<Figure size 432x288 with 1 Axes>"
            ]
          },
          "metadata": {
            "needs_background": "light"
          }
        },
        {
          "output_type": "display_data",
          "data": {
            "image/png": "[encoded data removed]",
            "text/plain": [
              "<Figure size 432x288 with 1 Axes>"
            ]
          },
          "metadata": {
            "needs_background": "light"
          }
        }
      ]
    }
  ]
}