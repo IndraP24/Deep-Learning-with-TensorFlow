{
 "cells": [
  {
   "cell_type": "markdown",
   "metadata": {},
   "source": [
    "# Assignment 2"
   ]
  },
  {
   "cell_type": "markdown",
   "metadata": {},
   "source": [
    "### 1. Program to create a vector in Python"
   ]
  },
  {
   "cell_type": "code",
   "execution_count": 1,
   "metadata": {},
   "outputs": [],
   "source": [
    "import numpy as np"
   ]
  },
  {
   "cell_type": "code",
   "execution_count": 6,
   "metadata": {},
   "outputs": [
    {
     "name": "stdout",
     "output_type": "stream",
     "text": [
      "Horizontal Vector:  [1. 2. 3. 4. 5.]\n",
      "Vertical Vector: \n",
      " [[1.]\n",
      " [2.]\n",
      " [3.]\n",
      " [4.]\n",
      " [5.]]\n",
      "The data types are: <class 'numpy.ndarray'>, <class 'numpy.ndarray'>\n"
     ]
    }
   ],
   "source": [
    "vector_h = np.array([1., 2., 3., 4., 5.])\n",
    "vector_v = np.array([[1.],\n",
    "                     [2.],\n",
    "                     [3.],\n",
    "                     [4.],\n",
    "                     [5.]])\n",
    "\n",
    "print(\"Horizontal Vector: \", vector_h)\n",
    "print(\"Vertical Vector: \\n\", vector_v)\n",
    "print(\"The data types are: {}, {}\".format(type(vector_h), type(vector_v)))"
   ]
  },
  {
   "cell_type": "markdown",
   "metadata": {},
   "source": [
    "### 2. Program to add two vectors"
   ]
  },
  {
   "cell_type": "code",
   "execution_count": 7,
   "metadata": {},
   "outputs": [
    {
     "name": "stdout",
     "output_type": "stream",
     "text": [
      "The Vector A is:  [1 2 3]\n",
      "The Vector B is:  [2 3 4]\n",
      "The Addition of Vector A and B is:  [3 5 7]\n"
     ]
    }
   ],
   "source": [
    "a = np.array([1, 2, 3])\n",
    "print(\"The Vector A is: \", a)\n",
    "b = np.array([2, 3, 4])\n",
    "print(\"The Vector B is: \", b)\n",
    "c = a + b\n",
    "print(\"The Addition of Vector A and B is: \", c)"
   ]
  },
  {
   "cell_type": "markdown",
   "metadata": {},
   "source": [
    "### 3. Program to multiply two vectors"
   ]
  },
  {
   "cell_type": "code",
   "execution_count": 8,
   "metadata": {},
   "outputs": [
    {
     "name": "stdout",
     "output_type": "stream",
     "text": [
      "The Vector A is:  [1 2 3]\n",
      "The Vector B is:  [2 3 4]\n",
      "The Multiplication of Vector A and B is:  [ 2  6 12]\n"
     ]
    }
   ],
   "source": [
    "a = np.array([1, 2, 3])\n",
    "print(\"The Vector A is: \", a)\n",
    "b = np.array([2, 3, 4])\n",
    "print(\"The Vector B is: \", b)\n",
    "c = a * b\n",
    "print(\"The Multiplication of Vector A and B is: \", c)"
   ]
  },
  {
   "cell_type": "markdown",
   "metadata": {},
   "source": [
    "### 4. Program to find Dot Product of two vectors"
   ]
  },
  {
   "cell_type": "code",
   "execution_count": 11,
   "metadata": {},
   "outputs": [
    {
     "name": "stdout",
     "output_type": "stream",
     "text": [
      "The Vector A is:  [1 2 3]\n",
      "The Vector B is:  [2 3 4]\n",
      "The Dot Product of Vector A and B is:  20\n"
     ]
    }
   ],
   "source": [
    "a = np.array([1, 2, 3])\n",
    "print(\"The Vector A is: \", a)\n",
    "b = np.array([2, 3, 4])\n",
    "print(\"The Vector B is: \", b)\n",
    "c = a @ b\n",
    "print(\"The Dot Product of Vector A and B is: \", c)"
   ]
  },
  {
   "cell_type": "markdown",
   "metadata": {},
   "source": [
    "### 5. Program to multiply scalars with vectors"
   ]
  },
  {
   "cell_type": "code",
   "execution_count": 12,
   "metadata": {},
   "outputs": [
    {
     "name": "stdout",
     "output_type": "stream",
     "text": [
      "The Vector A is:  [1 2 3]\n",
      "The Scalar is:  5\n",
      "The Multiplication of a scalar with Vector A is:  [ 5 10 15]\n"
     ]
    }
   ],
   "source": [
    "a = np.array([1, 2, 3])\n",
    "print(\"The Vector A is: \", a)\n",
    "b = 5\n",
    "print(\"The Scalar is: \", b)\n",
    "c = b * a\n",
    "print(\"The Multiplication of a scalar with Vector A is: \", c)"
   ]
  },
  {
   "cell_type": "markdown",
   "metadata": {},
   "source": [
    "### 6. Program to transpose a matrix"
   ]
  },
  {
   "cell_type": "code",
   "execution_count": 18,
   "metadata": {},
   "outputs": [
    {
     "name": "stdout",
     "output_type": "stream",
     "text": [
      "The Matrix is: \n",
      " [[1 2 3]\n",
      " [4 5 6]\n",
      " [7 8 9]]\n",
      "The Transpose of the Matrix is: \n",
      " [[1 4 7]\n",
      " [2 5 8]\n",
      " [3 6 9]]\n"
     ]
    }
   ],
   "source": [
    "m = np.array([[1, 2, 3], \n",
    "              [4, 5, 6], \n",
    "              [7, 8, 9]])\n",
    "print(\"The Matrix is: \\n\", m)\n",
    "print(\"The Transpose of the Matrix is: \\n\", m.T)"
   ]
  },
  {
   "cell_type": "markdown",
   "metadata": {},
   "source": [
    "### 7. Program to find the trace of a matrix"
   ]
  },
  {
   "cell_type": "code",
   "execution_count": 19,
   "metadata": {},
   "outputs": [
    {
     "name": "stdout",
     "output_type": "stream",
     "text": [
      "The Matrix is: \n",
      " [[1 2 3]\n",
      " [4 5 6]\n",
      " [7 8 9]]\n",
      "The Trace of the Matrix is: \n",
      " 15\n"
     ]
    }
   ],
   "source": [
    "print(\"The Matrix is: \\n\", m)\n",
    "print(\"The Trace of the Matrix is: \\n\", m.trace())"
   ]
  },
  {
   "cell_type": "markdown",
   "metadata": {},
   "source": [
    "### 8. Program to flatten a matrix"
   ]
  },
  {
   "cell_type": "code",
   "execution_count": 20,
   "metadata": {},
   "outputs": [
    {
     "name": "stdout",
     "output_type": "stream",
     "text": [
      "The Matrix is: \n",
      " [[1 2 3]\n",
      " [4 5 6]\n",
      " [7 8 9]]\n",
      "The Flattened Matrix is: \n",
      " [1 2 3 4 5 6 7 8 9]\n"
     ]
    }
   ],
   "source": [
    "print(\"The Matrix is: \\n\", m)\n",
    "print(\"The Flattened Matrix is: \\n\", m.flatten())"
   ]
  },
  {
   "cell_type": "markdown",
   "metadata": {},
   "source": [
    "### 9. Program to find the rank of a matrix"
   ]
  },
  {
   "cell_type": "code",
   "execution_count": 21,
   "metadata": {},
   "outputs": [
    {
     "name": "stdout",
     "output_type": "stream",
     "text": [
      "The Matrix is: \n",
      " [[1 2 3]\n",
      " [4 5 6]\n",
      " [7 8 9]]\n",
      "The Rank of the Matrix is: \n",
      " 2\n"
     ]
    }
   ],
   "source": [
    "print(\"The Matrix is: \\n\", m)\n",
    "print(\"The Rank of the Matrix is: \\n\", np.linalg.matrix_rank(m))"
   ]
  },
  {
   "cell_type": "markdown",
   "metadata": {},
   "source": [
    "### 10. Program for finding out Determinant of a Matrix"
   ]
  },
  {
   "cell_type": "code",
   "execution_count": 23,
   "metadata": {},
   "outputs": [
    {
     "name": "stdout",
     "output_type": "stream",
     "text": [
      "The Matrix is: \n",
      " [[1 2 3]\n",
      " [4 5 6]\n",
      " [7 8 9]]\n",
      "The Determinant of the Matrix is: \n",
      " 0.0\n"
     ]
    }
   ],
   "source": [
    "print(\"The Matrix is: \\n\", m)\n",
    "print(\"The Determinant of the Matrix is: \\n\", np.linalg.det(m))"
   ]
  },
  {
   "cell_type": "markdown",
   "metadata": {},
   "source": [
    "### 11. Program for finding out eigen values and eigen vectors of a given matrix"
   ]
  },
  {
   "cell_type": "code",
   "execution_count": 26,
   "metadata": {},
   "outputs": [
    {
     "name": "stdout",
     "output_type": "stream",
     "text": [
      "The Matrix is: \n",
      " [[1 2 3]\n",
      " [4 5 6]\n",
      " [7 8 9]]\n",
      "The Eigenvalues and Eigenvectors of the Matrix are:\n",
      " (array([ 1.61168440e+01, -1.11684397e+00, -9.75918483e-16]), array([[-0.23197069, -0.78583024,  0.40824829],\n",
      "       [-0.52532209, -0.08675134, -0.81649658],\n",
      "       [-0.8186735 ,  0.61232756,  0.40824829]]))\n"
     ]
    }
   ],
   "source": [
    "print(\"The Matrix is: \\n\", m)\n",
    "print(\"The Eigenvalues and Eigenvectors of the Matrix are:\\n\", np.linalg.eig(m))"
   ]
  },
  {
   "cell_type": "markdown",
   "metadata": {},
   "source": [
    "### 12. Program for finding out inverse of a matrix"
   ]
  },
  {
   "cell_type": "code",
   "execution_count": 29,
   "metadata": {},
   "outputs": [
    {
     "name": "stdout",
     "output_type": "stream",
     "text": [
      "The Non-Singular Matrix is: \n",
      " [[ 6  1  1]\n",
      " [ 4 -2  5]\n",
      " [ 2  8  7]]\n",
      "The Inverse of the Matrix is: \n",
      " [[ 0.17647059 -0.00326797 -0.02287582]\n",
      " [ 0.05882353 -0.13071895  0.08496732]\n",
      " [-0.11764706  0.1503268   0.05228758]]\n"
     ]
    }
   ],
   "source": [
    "A = np.array([[6, 1, 1],\n",
    "              [4, -2, 5],\n",
    "              [2, 8, 7]])\n",
    "print(\"The Non-Singular Matrix is: \\n\", A)\n",
    "print(\"The Inverse of the Matrix is: \\n\", np.linalg.inv(A))"
   ]
  },
  {
   "cell_type": "markdown",
   "metadata": {},
   "source": [
    "### 13. Program for finding oul L1, L2 and Infinity norm of a given vector"
   ]
  },
  {
   "cell_type": "code",
   "execution_count": 33,
   "metadata": {},
   "outputs": [
    {
     "name": "stdout",
     "output_type": "stream",
     "text": [
      "The Vector A is: \n",
      " [1 2 3]\n",
      "The L1 Norm of the Vector A is:  6.0\n",
      "The L2 Norm of the Vector A is:  3.7416573867739413\n",
      "The Infinity Norm of the Vector A is:  3.0\n"
     ]
    }
   ],
   "source": [
    "a = np.array([1, 2, 3])\n",
    "print(\"The Vector A is: \\n\", a)\n",
    "\n",
    "print(\"The L1 Norm of the Vector A is: \", np.linalg.norm(a, 1))\n",
    "print(\"The L2 Norm of the Vector A is: \", np.linalg.norm(a))\n",
    "print(\"The Infinity Norm of the Vector A is: \", np.linalg.norm(a, np.inf))"
   ]
  }
 ],
 "metadata": {
  "interpreter": {
   "hash": "4476fe1481e390b114b1021416a2969c039ded7396dccfbdca9c6c68678e5f18"
  },
  "kernelspec": {
   "display_name": "Python 3.8.10 64-bit ('tfDL': conda)",
   "language": "python",
   "name": "python3"
  },
  "language_info": {
   "codemirror_mode": {
    "name": "ipython",
    "version": 3
   },
   "file_extension": ".py",
   "mimetype": "text/x-python",
   "name": "python",
   "nbconvert_exporter": "python",
   "pygments_lexer": "ipython3",
   "version": "3.8.8"
  },
  "orig_nbformat": 4
 },
 "nbformat": 4,
 "nbformat_minor": 2
}
