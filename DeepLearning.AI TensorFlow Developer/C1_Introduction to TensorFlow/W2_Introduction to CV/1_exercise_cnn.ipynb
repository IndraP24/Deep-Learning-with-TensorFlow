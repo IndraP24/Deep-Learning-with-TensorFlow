{
  "cells": [
    {
      "cell_type": "markdown",
      "metadata": {
        "id": "rUx2OnCX7bsW"
      },
      "source": [
        "## Exercise 2\n",
        "In the course you learned how to do classificaiton using Fashion MNIST, a data set containing items of clothing. There's another, similar dataset called MNIST which has items of handwriting -- the digits 0 through 9.\n",
        "\n",
        "Write an MNIST classifier that trains to 99% accuracy or above, and does it without a fixed number of epochs -- i.e. you should stop training once you reach that level of accuracy.\n",
        "\n",
        "Some notes:\n",
        "1. It should succeed in less than 10 epochs, so it is okay to change epochs= to 10, but nothing larger\n",
        "2. When it reaches 99% or greater it should print out the string \"Reached 99% accuracy so cancelling training!\"\n",
        "3. If you add any additional variables, make sure you use the same names as the ones used in the class\n",
        "\n",
        "The following contains my implementation"
      ]
    },
    {
      "cell_type": "code",
      "execution_count": 1,
      "metadata": {
        "id": "g-qsvJF27bsZ"
      },
      "outputs": [],
      "source": [
        "import numpy as np\n",
        "np.set_printoptions(linewidth=200)\n",
        "import tensorflow as tf\n",
        "import matplotlib.pyplot as plt\n",
        "from tensorflow.keras.utils import to_categorical\n",
        "from tensorflow.keras.models import Sequential\n",
        "from tensorflow.keras.layers import Dense, Flatten, Conv2D, MaxPooling2D, Dropout, BatchNormalization\n",
        "import tensorflow.keras.backend as K"
      ]
    },
    {
      "cell_type": "code",
      "execution_count": 3,
      "metadata": {
        "id": "Je9ulSJt7bsb"
      },
      "outputs": [],
      "source": [
        "class myCallback(tf.keras.callbacks.Callback):\n",
        "    def on_epoch_end(self, epoch, logs={}):\n",
        "        thres = 1\n",
        "        if(logs.get('accuracy') is not None and logs.get('accuracy') >= thres) : # Experiment with changing this value\n",
        "            print(f\"\\nReached {thres*100}% accuracy on epoch = {epoch+1}!\")\n",
        "            self.model.stop_training = True"
      ]
    },
    {
      "cell_type": "code",
      "execution_count": 4,
      "metadata": {
        "id": "ElcikX287bsb"
      },
      "outputs": [],
      "source": [
        "# GRADED FUNCTION: train_mnist\n",
        "def train_cnn_mnist():\n",
        "    # Please write your code only where you are indicated.\n",
        "    # please do not remove # model fitting inline comments.\n",
        "\n",
        "    callback =myCallback()\n",
        "    num_classes = 10\n",
        "    #as we have 10 classes (0-9) \n",
        "    #we need to prdeict one out of 10 which has high probability\n",
        "    epochs = 30\n",
        "    img_rows = 28 \n",
        "    img_cols = 28\n",
        "    #as each image is 28 by 28 pixel\n",
        "\n",
        "    mnist = tf.keras.datasets.mnist\n",
        "\n",
        "    (x_train, y_train),(x_test, y_test) = mnist.load_data()\n",
        "    # YOUR CODE SHOULD START HERE\n",
        "    x_train =x_train.astype(float)\n",
        "    x_train =x_train/255\n",
        "    x_test =x_test.astype(float)\n",
        "    x_test =x_test/255\n",
        "\n",
        "    y_train = to_categorical(y_train, num_classes = 10, dtype = 'float32')\n",
        "    y_test = to_categorical(y_test, num_classes = 10, dtype = 'float32')\n",
        "\n",
        "    if K.image_data_format() =='channels_first':\n",
        "        x_train = x_train.reshape(x_train.shape[0],1,img_rows,img_cols)\n",
        "        x_test = x_test.reshape(x_test.shape[0],1,img_rows,img_cols)\n",
        "        input_shape = (1,img_rows,img_cols)\n",
        "    else:\n",
        "        x_train = x_train.reshape(x_train.shape[0],img_rows,img_cols,1)\n",
        "        x_test = x_test.reshape(x_test.shape[0],img_rows,img_cols,1)\n",
        "        input_shape = (img_rows,img_cols,1)\n",
        "    # YOUR CODE SHOULD END HERE\n",
        "    model = Sequential()\n",
        "    model.add(Conv2D(32, kernel_size = 3, activation='relu', input_shape = input_shape))\n",
        "    model.add(MaxPooling2D())\n",
        "    model.add(Conv2D(32, kernel_size = 3, activation='relu'))\n",
        "    model.add(BatchNormalization())\n",
        "    model.add(Conv2D(32, kernel_size = 5, strides=2, padding='same', activation='relu'))\n",
        "    model.add(BatchNormalization())\n",
        "    model.add(Dropout(0.4))\n",
        "    model.add(Conv2D(64, kernel_size = 3, activation='relu'))\n",
        "    model.add(BatchNormalization())\n",
        "    model.add(Conv2D(64, kernel_size = 3, activation='relu'))\n",
        "    model.add(BatchNormalization())\n",
        "    model.add(Conv2D(64, kernel_size = 5, strides=2, padding='same', activation='relu'))\n",
        "    model.add(BatchNormalization())\n",
        "    model.add(Dropout(0.4))\n",
        "    model.add(Flatten())\n",
        "    model.add(Dropout(0.4))\n",
        "    model.add(Dense(10, activation='softmax'))\n",
        "\n",
        "    model.compile(optimizer='adam',\n",
        "                  loss='categorical_crossentropy',\n",
        "                  metrics=['accuracy'])\n",
        "    \n",
        "    # model fitting\n",
        "    history = model.fit(x_train, y_train, epochs=10, validation_data=(x_test, y_test), callbacks=[callback], verbose=1)\n",
        "\n",
        "    # saving model\n",
        "    model.save(\"./artifacts/cnn_model.h5\")\n",
        "    # model fitting\n",
        "    return history.epoch, history.history['accuracy'][-1]"
      ]
    },
    {
      "cell_type": "code",
      "execution_count": 5,
      "metadata": {
        "colab": {
          "base_uri": "https://localhost:8080/"
        },
        "id": "edaRplvf7bsd",
        "outputId": "4d87ef4d-9811-4db3-ff98-95fe4ae093a8"
      },
      "outputs": [
        {
          "name": "stdout",
          "output_type": "stream",
          "text": [
            "Downloading data from https://storage.googleapis.com/tensorflow/tf-keras-datasets/mnist.npz\n",
            "11493376/11490434 [==============================] - 0s 0us/step\n",
            "11501568/11490434 [==============================] - 0s 0us/step\n",
            "Epoch 1/10\n",
            "1875/1875 [==============================] - 33s 11ms/step - loss: 0.3092 - accuracy: 0.9116 - val_loss: 0.0624 - val_accuracy: 0.9798\n",
            "Epoch 2/10\n",
            "1875/1875 [==============================] - 20s 10ms/step - loss: 0.1025 - accuracy: 0.9726 - val_loss: 0.0520 - val_accuracy: 0.9844\n",
            "Epoch 3/10\n",
            "1875/1875 [==============================] - 19s 10ms/step - loss: 0.0806 - accuracy: 0.9784 - val_loss: 0.0489 - val_accuracy: 0.9851\n",
            "Epoch 4/10\n",
            "1875/1875 [==============================] - 19s 10ms/step - loss: 0.0696 - accuracy: 0.9818 - val_loss: 0.0408 - val_accuracy: 0.9877\n",
            "Epoch 5/10\n",
            "1875/1875 [==============================] - 20s 11ms/step - loss: 0.0584 - accuracy: 0.9843 - val_loss: 0.0304 - val_accuracy: 0.9908\n",
            "Epoch 6/10\n",
            "1875/1875 [==============================] - 19s 10ms/step - loss: 0.0511 - accuracy: 0.9867 - val_loss: 0.0354 - val_accuracy: 0.9899\n",
            "Epoch 7/10\n",
            "1875/1875 [==============================] - 20s 11ms/step - loss: 0.0464 - accuracy: 0.9875 - val_loss: 0.0260 - val_accuracy: 0.9929\n",
            "Epoch 8/10\n",
            "1875/1875 [==============================] - 19s 10ms/step - loss: 0.0420 - accuracy: 0.9885 - val_loss: 0.0262 - val_accuracy: 0.9927\n",
            "Epoch 9/10\n",
            "1875/1875 [==============================] - 20s 11ms/step - loss: 0.0391 - accuracy: 0.9894 - val_loss: 0.0250 - val_accuracy: 0.9927\n",
            "Epoch 10/10\n",
            "1875/1875 [==============================] - 19s 10ms/step - loss: 0.0359 - accuracy: 0.9903 - val_loss: 0.0196 - val_accuracy: 0.9944\n"
          ]
        },
        {
          "data": {
            "text/plain": [
              "([0, 1, 2, 3, 4, 5, 6, 7, 8, 9], 0.9902833104133606)"
            ]
          },
          "execution_count": 5,
          "metadata": {},
          "output_type": "execute_result"
        }
      ],
      "source": [
        "train_cnn_mnist()"
      ]
    },
    {
      "cell_type": "markdown",
      "metadata": {
        "id": "4RPdt0Ji7bsf"
      },
      "source": [
        "# "
      ]
    },
    {
      "cell_type": "code",
      "execution_count": 1,
      "metadata": {
        "id": "vK4THoX97bsf"
      },
      "outputs": [],
      "source": [
        "!tensorflowjs_converter --input_format keras ./artifacts/cnn_model.h5 ./artifacts/cnn_model"
      ]
    }
  ],
  "metadata": {
    "accelerator": "GPU",
    "colab": {
      "name": "1_exercise_cnn.ipynb",
      "provenance": []
    },
    "interpreter": {
      "hash": "4476fe1481e390b114b1021416a2969c039ded7396dccfbdca9c6c68678e5f18"
    },
    "kernelspec": {
      "display_name": "Python 3.8.10 64-bit ('tfDL': conda)",
      "name": "python3"
    },
    "language_info": {
      "codemirror_mode": {
        "name": "ipython",
        "version": 3
      },
      "file_extension": ".py",
      "mimetype": "text/x-python",
      "name": "python",
      "nbconvert_exporter": "python",
      "pygments_lexer": "ipython3",
      "version": "3.9.7"
    },
    "orig_nbformat": 4
  },
  "nbformat": 4,
  "nbformat_minor": 0
}
