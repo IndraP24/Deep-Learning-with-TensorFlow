{
  "cells": [
    {
      "cell_type": "code",
      "execution_count": 2,
      "metadata": {
        "id": "LgzEHgM1H2xV"
      },
      "outputs": [],
      "source": [
        "import os\n",
        "import zipfile\n",
        "import random\n",
        "import tensorflow as tf\n",
        "import shutil\n",
        "from tensorflow.keras.optimizers import RMSprop\n",
        "from tensorflow.keras.preprocessing.image import ImageDataGenerator\n",
        "from tensorflow.keras.layers import Dense, Conv2D, MaxPool2D, Flatten\n",
        "from shutil import copyfile\n",
        "from os import getcwd"
      ]
    },
    {
      "cell_type": "code",
      "execution_count": 3,
      "metadata": {
        "id": "saznJbfCH2xY"
      },
      "outputs": [],
      "source": [
        "path_cats_and_dogs = f\"{getcwd()}/tmp/cats-and-dogs.zip\"\n",
        "\n",
        "local_zip = path_cats_and_dogs\n",
        "zip_ref = zipfile.ZipFile(local_zip, 'r')\n",
        "zip_ref.extractall('./tmp')\n",
        "zip_ref.close()"
      ]
    },
    {
      "cell_type": "code",
      "execution_count": 4,
      "metadata": {
        "colab": {
          "base_uri": "https://localhost:8080/"
        },
        "id": "0xQ3LO1CH2xZ",
        "outputId": "4a1887e7-2b53-401e-fd4f-1acdc2680a0e"
      },
      "outputs": [
        {
          "name": "stdout",
          "output_type": "stream",
          "text": [
            "1500\n",
            "1500\n"
          ]
        }
      ],
      "source": [
        "print(len(os.listdir('./tmp/PetImages/Cat/')))\n",
        "print(len(os.listdir('./tmp/PetImages/Dog/')))"
      ]
    },
    {
      "cell_type": "code",
      "execution_count": 5,
      "metadata": {
        "colab": {
          "base_uri": "https://localhost:8080/"
        },
        "id": "vKJ2_0i0H2xa",
        "outputId": "a40f9738-dffa-4643-b6a0-982a230efbf7"
      },
      "outputs": [
        {
          "name": "stdout",
          "output_type": "stream",
          "text": [
            "./cats-v-dogs created\n",
            "./cats-v-dogs/training created\n",
            "./cats-v-dogs/testing created\n",
            "./cats-v-dogs/training/cats created\n",
            "./cats-v-dogs/training/dogs created\n",
            "./cats-v-dogs/testing/cats created\n",
            "./cats-v-dogs/testing/dogs created\n"
          ]
        }
      ],
      "source": [
        "to_create = [\n",
        "    './cats-v-dogs',\n",
        "    './cats-v-dogs/training',\n",
        "    './cats-v-dogs/testing',\n",
        "    './cats-v-dogs/training/cats',\n",
        "    './cats-v-dogs/training/dogs',\n",
        "    './cats-v-dogs/testing/cats',\n",
        "    './cats-v-dogs/testing/dogs'\n",
        "]\n",
        "\n",
        "for directory in to_create:\n",
        "    try:\n",
        "        os.mkdir(directory)\n",
        "        print(directory, 'created')\n",
        "    except:\n",
        "        print(directory, 'failed')"
      ]
    },
    {
      "cell_type": "code",
      "execution_count": 6,
      "metadata": {
        "id": "1OpA2wfvH2xa"
      },
      "outputs": [],
      "source": [
        "def split_data(SOURCE, TRAINING, TESTING, SPLIT_SIZE):\n",
        "    images = os.listdir(SOURCE)\n",
        "\n",
        "    TRAIN = random.sample(images, int(SPLIT_SIZE * len(images)))\n",
        "    for file in TRAIN:\n",
        "        path = SOURCE+file\n",
        "        if os.path.getsize(path) > 0:\n",
        "            copyfile(path, TRAINING+file)\n",
        "        else:\n",
        "            print(f'{path} is zero length, so ignoring')\n",
        "    \n",
        "    TEST = list(set(images) - set(TRAIN))\n",
        "    for file in TEST:\n",
        "        path = SOURCE+file\n",
        "        if os.path.getsize(path) > 0:\n",
        "            copyfile(path, TESTING+file)\n",
        "        else:\n",
        "            print(f'{path} is zero length, so ignoring')\n",
        "\n",
        "\n",
        "\n",
        "CAT_SOURCE_DIR = \"./tmp/PetImages/Cat/\"\n",
        "TRAINING_CATS_DIR = \"./cats-v-dogs/training/cats/\"\n",
        "TESTING_CATS_DIR = \"./cats-v-dogs/testing/cats/\"\n",
        "DOG_SOURCE_DIR = \"./tmp/PetImages/Dog/\"\n",
        "TRAINING_DOGS_DIR = \"./cats-v-dogs/training/dogs/\"\n",
        "TESTING_DOGS_DIR = \"./cats-v-dogs/testing/dogs/\"\n",
        "\n",
        "split_size = .9\n",
        "split_data(CAT_SOURCE_DIR, TRAINING_CATS_DIR, TESTING_CATS_DIR, split_size)\n",
        "split_data(DOG_SOURCE_DIR, TRAINING_DOGS_DIR, TESTING_DOGS_DIR, split_size)"
      ]
    },
    {
      "cell_type": "code",
      "execution_count": 7,
      "metadata": {
        "colab": {
          "base_uri": "https://localhost:8080/"
        },
        "id": "ANzKGPc6H2xb",
        "outputId": "bebf832a-531e-49ef-f293-51bd0d423eb3"
      },
      "outputs": [
        {
          "name": "stdout",
          "output_type": "stream",
          "text": [
            "1350\n",
            "1350\n",
            "150\n",
            "150\n"
          ]
        }
      ],
      "source": [
        "print(len(os.listdir(TRAINING_CATS_DIR)))\n",
        "print(len(os.listdir(TRAINING_DOGS_DIR)))\n",
        "print(len(os.listdir(TESTING_CATS_DIR)))\n",
        "print(len(os.listdir(TESTING_DOGS_DIR)))"
      ]
    },
    {
      "cell_type": "code",
      "execution_count": 8,
      "metadata": {
        "id": "i9IiVPaAH2xb"
      },
      "outputs": [],
      "source": [
        "model = tf.keras.models.Sequential([\n",
        "    Conv2D(32, (3, 3), input_shape=(150, 150, 3), activation='relu'),\n",
        "    MaxPool2D(2,2),\n",
        "    Conv2D(64, (3, 3), activation='relu'),\n",
        "    MaxPool2D(2,2),\n",
        "    Conv2D(64, (3, 3), activation='relu'),\n",
        "    MaxPool2D(2,2),\n",
        "    Flatten(),\n",
        "    Dense(512, activation='relu'),\n",
        "    Dense(1, activation='sigmoid')\n",
        "    \n",
        "])\n",
        "\n",
        "model.compile(optimizer=RMSprop(learning_rate=0.001), loss='binary_crossentropy', metrics=['acc'])"
      ]
    },
    {
      "cell_type": "code",
      "execution_count": 9,
      "metadata": {
        "colab": {
          "base_uri": "https://localhost:8080/"
        },
        "id": "09bDqhsqH2xc",
        "outputId": "0b5c2d51-108b-4880-a873-c6da5b23c120"
      },
      "outputs": [
        {
          "name": "stdout",
          "output_type": "stream",
          "text": [
            "Model: \"sequential\"\n",
            "_________________________________________________________________\n",
            "Layer (type)                 Output Shape              Param #   \n",
            "=================================================================\n",
            "conv2d (Conv2D)              (None, 148, 148, 32)      896       \n",
            "_________________________________________________________________\n",
            "max_pooling2d (MaxPooling2D) (None, 74, 74, 32)        0         \n",
            "_________________________________________________________________\n",
            "conv2d_1 (Conv2D)            (None, 72, 72, 64)        18496     \n",
            "_________________________________________________________________\n",
            "max_pooling2d_1 (MaxPooling2 (None, 36, 36, 64)        0         \n",
            "_________________________________________________________________\n",
            "conv2d_2 (Conv2D)            (None, 34, 34, 64)        36928     \n",
            "_________________________________________________________________\n",
            "max_pooling2d_2 (MaxPooling2 (None, 17, 17, 64)        0         \n",
            "_________________________________________________________________\n",
            "flatten (Flatten)            (None, 18496)             0         \n",
            "_________________________________________________________________\n",
            "dense (Dense)                (None, 512)               9470464   \n",
            "_________________________________________________________________\n",
            "dense_1 (Dense)              (None, 1)                 513       \n",
            "=================================================================\n",
            "Total params: 9,527,297\n",
            "Trainable params: 9,527,297\n",
            "Non-trainable params: 0\n",
            "_________________________________________________________________\n"
          ]
        }
      ],
      "source": [
        "model.summary()"
      ]
    },
    {
      "cell_type": "code",
      "execution_count": 10,
      "metadata": {
        "colab": {
          "base_uri": "https://localhost:8080/"
        },
        "id": "wBTfLLbOH2xd",
        "outputId": "1ba4c85f-147a-4192-c5ae-53b8b431360c"
      },
      "outputs": [
        {
          "name": "stdout",
          "output_type": "stream",
          "text": [
            "Found 2700 images belonging to 2 classes.\n",
            "Found 300 images belonging to 2 classes.\n"
          ]
        }
      ],
      "source": [
        "TRAINING_DIR = \"./cats-v-dogs/training/\"\n",
        "train_datagen = ImageDataGenerator(rescale= 1.0/255.0)\n",
        "\n",
        "# NOTE: YOU MUST USE A BATCH SIZE OF 10 (batch_size=10) FOR THE \n",
        "# TRAIN GENERATOR.\n",
        "train_generator = train_datagen.flow_from_directory(TRAINING_DIR, \n",
        "                                                   batch_size=10,\n",
        "                                                   class_mode='binary',\n",
        "                                                   target_size=(150,150))\n",
        "\n",
        "VALIDATION_DIR = \"./cats-v-dogs/testing/\"\n",
        "validation_datagen = ImageDataGenerator(rescale= 1.0/255.0)\n",
        "\n",
        "# NOTE: YOU MUST USE A BACTH SIZE OF 10 (batch_size=10) FOR THE \n",
        "# VALIDATION GENERATOR.\n",
        "validation_generator = validation_datagen.flow_from_directory(VALIDATION_DIR, \n",
        "                                                   batch_size=10,\n",
        "                                                   class_mode='binary',\n",
        "                                                   target_size=(150,150))\n",
        "\n",
        "\n",
        "\n",
        "# Expected Output:\n",
        "# Found 2700 images belonging to 2 classes.\n",
        "# Found 300 images belonging to 2 classes."
      ]
    },
    {
      "cell_type": "code",
      "execution_count": 11,
      "metadata": {
        "colab": {
          "base_uri": "https://localhost:8080/"
        },
        "id": "E9m23UKTH2xe",
        "outputId": "af7ff50c-2296-4b13-d715-7c3aa2881147"
      },
      "outputs": [
        {
          "name": "stdout",
          "output_type": "stream",
          "text": [
            "Epoch 1/10\n",
            "270/270 [==============================] - 43s 48ms/step - loss: 0.7570 - acc: 0.5789 - val_loss: 0.5923 - val_acc: 0.7000\n",
            "Epoch 2/10\n",
            "270/270 [==============================] - 12s 44ms/step - loss: 0.6041 - acc: 0.6856 - val_loss: 0.6619 - val_acc: 0.6933\n",
            "Epoch 3/10\n",
            "270/270 [==============================] - 12s 43ms/step - loss: 0.5427 - acc: 0.7459 - val_loss: 0.4904 - val_acc: 0.7600\n",
            "Epoch 4/10\n",
            "270/270 [==============================] - 12s 44ms/step - loss: 0.4966 - acc: 0.7544 - val_loss: 0.5141 - val_acc: 0.7467\n",
            "Epoch 5/10\n",
            "270/270 [==============================] - 12s 43ms/step - loss: 0.4443 - acc: 0.7911 - val_loss: 0.5560 - val_acc: 0.7500\n",
            "Epoch 6/10\n",
            "270/270 [==============================] - 12s 43ms/step - loss: 0.3802 - acc: 0.8337 - val_loss: 0.7270 - val_acc: 0.7000\n",
            "Epoch 7/10\n",
            "270/270 [==============================] - 12s 44ms/step - loss: 0.3268 - acc: 0.8630 - val_loss: 0.5648 - val_acc: 0.7167\n",
            "Epoch 8/10\n",
            "270/270 [==============================] - 12s 44ms/step - loss: 0.2520 - acc: 0.8981 - val_loss: 0.7511 - val_acc: 0.7200\n",
            "Epoch 9/10\n",
            "270/270 [==============================] - 12s 43ms/step - loss: 0.2115 - acc: 0.9115 - val_loss: 0.7446 - val_acc: 0.7567\n",
            "Epoch 10/10\n",
            "270/270 [==============================] - 11s 42ms/step - loss: 0.1294 - acc: 0.9507 - val_loss: 1.3249 - val_acc: 0.7467\n"
          ]
        }
      ],
      "source": [
        "history = model.fit(train_generator,\n",
        "                    epochs=10, \n",
        "                    verbose=1,\n",
        "                    validation_data=validation_generator)"
      ]
    },
    {
      "cell_type": "code",
      "execution_count": 13,
      "metadata": {
        "colab": {
          "base_uri": "https://localhost:8080/",
          "height": 562
        },
        "id": "lJIa62BrH2xf",
        "outputId": "85e9f846-ac3d-4b99-fbd3-9da047a51df1"
      },
      "outputs": [
        {
          "data": {
            "text/plain": [
              "Text(0.5, 1.0, 'Training and validation loss')"
            ]
          },
          "execution_count": 13,
          "metadata": {},
          "output_type": "execute_result"
        },
        {
          "data": {
            "image/png": "[encoded data removed]",
            "text/plain": [
              "<Figure size 432x288 with 1 Axes>"
            ]
          },
          "metadata": {
            "needs_background": "light"
          },
          "output_type": "display_data"
        },
        {
          "data": {
            "image/png": "[encoded data removed]",
            "text/plain": [
              "<Figure size 432x288 with 1 Axes>"
            ]
          },
          "metadata": {
            "needs_background": "light"
          },
          "output_type": "display_data"
        }
      ],
      "source": [
        "# PLOT LOSS AND ACCURACY\n",
        "%matplotlib inline\n",
        "\n",
        "import matplotlib.image  as mpimg\n",
        "import matplotlib.pyplot as plt\n",
        "\n",
        "#-----------------------------------------------------------\n",
        "# Retrieve a list of list results on training and test data\n",
        "# sets for each training epoch\n",
        "#-----------------------------------------------------------\n",
        "acc=history.history['acc']\n",
        "val_acc=history.history['val_acc']\n",
        "loss=history.history['loss']\n",
        "val_loss=history.history['val_loss']\n",
        "\n",
        "epochs=range(len(acc)) # Get number of epochs\n",
        "\n",
        "#------------------------------------------------\n",
        "# Plot training and validation accuracy per epoch\n",
        "#------------------------------------------------\n",
        "plt.plot(epochs, acc, 'r', \"Training Accuracy\")\n",
        "plt.plot(epochs, val_acc, 'b', \"Validation Accuracy\")\n",
        "plt.title('Training and validation accuracy')\n",
        "plt.figure()\n",
        "\n",
        "#------------------------------------------------\n",
        "# Plot training and validation loss per epoch\n",
        "#------------------------------------------------\n",
        "plt.plot(epochs, loss, 'r', \"Training Loss\")\n",
        "plt.plot(epochs, val_loss, 'b', \"Validation Loss\")\n",
        "\n",
        "\n",
        "plt.title('Training and validation loss')\n",
        "\n",
        "# Desired output. Charts with training and validation metrics. No crash :)"
      ]
    },
    {
      "cell_type": "code",
      "execution_count": 14,
      "metadata": {
        "colab": {
          "base_uri": "https://localhost:8080/"
        },
        "id": "RbOGPl6CSlgb",
        "outputId": "cab2a576-7066-4ec7-e279-875c04ecbd96"
      },
      "outputs": [
        {
          "name": "stdout",
          "output_type": "stream",
          "text": [
            "['Himalayan-chocolate-point.jpg', '322868_1100-800x825.jpg', 'gettyimages-171117216_web.jpg', 'orange-tabby-kitten-walking-across-floor.jpg', '1800x1200_cat_relaxing_on_patio_other.jpg', '3408.jpg']\n",
            "\n",
            "[0.]\n",
            "Himalayan-chocolate-point.jpg is a cat\n",
            "\n",
            "[1.]\n",
            "322868_1100-800x825.jpg is a dog\n",
            "\n",
            "[1.]\n",
            "gettyimages-171117216_web.jpg is a dog\n",
            "\n",
            "[0.]\n",
            "orange-tabby-kitten-walking-across-floor.jpg is a cat\n",
            "\n",
            "[0.]\n",
            "1800x1200_cat_relaxing_on_patio_other.jpg is a cat\n",
            "\n",
            "[1.]\n",
            "3408.jpg is a dog\n"
          ]
        }
      ],
      "source": [
        "import numpy as np\n",
        "from keras.preprocessing import image\n",
        "import os\n",
        "\n",
        "images = os.listdir(\"./tmp/images\")\n",
        "\n",
        "print(images)\n",
        "\n",
        "for i in images:\n",
        " print()\n",
        " # predicting images\n",
        " path = './tmp/images/' + i\n",
        " img = image.load_img(path, target_size=(150, 150))\n",
        " x = image.img_to_array(img)\n",
        " x = np.expand_dims(x, axis=0)\n",
        "\n",
        " images = np.vstack([x])\n",
        " classes = model.predict(images, batch_size=10)\n",
        " print(classes[0])\n",
        " if classes[0]>0.5:\n",
        "   print(i + \" is a dog\")\n",
        " else:\n",
        "   print(i + \" is a cat\")"
      ]
    }
  ],
  "metadata": {
    "accelerator": "GPU",
    "colab": {
      "name": "1_exercise.ipynb",
      "provenance": []
    },
    "interpreter": {
      "hash": "4476fe1481e390b114b1021416a2969c039ded7396dccfbdca9c6c68678e5f18"
    },
    "kernelspec": {
      "display_name": "Python 3.8.10 64-bit ('tfDL': conda)",
      "name": "python3"
    },
    "language_info": {
      "codemirror_mode": {
        "name": "ipython",
        "version": 3
      },
      "file_extension": ".py",
      "mimetype": "text/x-python",
      "name": "python",
      "nbconvert_exporter": "python",
      "pygments_lexer": "ipython3",
      "version": "3.8.10"
    },
    "orig_nbformat": 4
  },
  "nbformat": 4,
  "nbformat_minor": 0
}
