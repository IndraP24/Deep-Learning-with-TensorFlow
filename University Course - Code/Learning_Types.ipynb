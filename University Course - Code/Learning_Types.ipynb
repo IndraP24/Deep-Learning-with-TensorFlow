{
 "cells": [
  {
   "cell_type": "markdown",
   "metadata": {},
   "source": [
    "# Class Activity - Implement different learning types on a sample data"
   ]
  },
  {
   "cell_type": "markdown",
   "metadata": {},
   "source": [
    "# Importing the Libraries"
   ]
  },
  {
   "cell_type": "code",
   "execution_count": 28,
   "metadata": {},
   "outputs": [],
   "source": [
    "import random\n",
    "import numpy as np\n",
    "import matplotlib.pyplot as plt\n",
    "import pandas as pd\n",
    "from sklearn.preprocessing import LabelEncoder\n",
    "from sklearn.model_selection import train_test_split\n",
    "from sklearn.linear_model import Perceptron\n",
    "from sklearn.metrics import accuracy_score"
   ]
  },
  {
   "cell_type": "markdown",
   "metadata": {},
   "source": [
    "# Data Loading and Preprocessing"
   ]
  },
  {
   "cell_type": "code",
   "execution_count": 5,
   "metadata": {},
   "outputs": [
    {
     "name": "stdout",
     "output_type": "stream",
     "text": [
      "(150, 6)\n"
     ]
    },
    {
     "data": {
      "text/html": [
       "<div>\n",
       "<style scoped>\n",
       "    .dataframe tbody tr th:only-of-type {\n",
       "        vertical-align: middle;\n",
       "    }\n",
       "\n",
       "    .dataframe tbody tr th {\n",
       "        vertical-align: top;\n",
       "    }\n",
       "\n",
       "    .dataframe thead th {\n",
       "        text-align: right;\n",
       "    }\n",
       "</style>\n",
       "<table border=\"1\" class=\"dataframe\">\n",
       "  <thead>\n",
       "    <tr style=\"text-align: right;\">\n",
       "      <th></th>\n",
       "      <th>Id</th>\n",
       "      <th>LengthCm</th>\n",
       "      <th>SepalCm</th>\n",
       "      <th>LengthCm.1</th>\n",
       "      <th>PetalCm</th>\n",
       "      <th>output</th>\n",
       "    </tr>\n",
       "  </thead>\n",
       "  <tbody>\n",
       "    <tr>\n",
       "      <th>0</th>\n",
       "      <td>1</td>\n",
       "      <td>5.1</td>\n",
       "      <td>3.5</td>\n",
       "      <td>1.4</td>\n",
       "      <td>0.2</td>\n",
       "      <td>100</td>\n",
       "    </tr>\n",
       "    <tr>\n",
       "      <th>1</th>\n",
       "      <td>2</td>\n",
       "      <td>4.9</td>\n",
       "      <td>3.0</td>\n",
       "      <td>1.4</td>\n",
       "      <td>0.2</td>\n",
       "      <td>100</td>\n",
       "    </tr>\n",
       "    <tr>\n",
       "      <th>2</th>\n",
       "      <td>3</td>\n",
       "      <td>4.7</td>\n",
       "      <td>3.2</td>\n",
       "      <td>1.3</td>\n",
       "      <td>0.2</td>\n",
       "      <td>100</td>\n",
       "    </tr>\n",
       "    <tr>\n",
       "      <th>3</th>\n",
       "      <td>4</td>\n",
       "      <td>4.6</td>\n",
       "      <td>3.1</td>\n",
       "      <td>1.5</td>\n",
       "      <td>0.2</td>\n",
       "      <td>100</td>\n",
       "    </tr>\n",
       "    <tr>\n",
       "      <th>4</th>\n",
       "      <td>5</td>\n",
       "      <td>5.0</td>\n",
       "      <td>3.6</td>\n",
       "      <td>1.4</td>\n",
       "      <td>0.2</td>\n",
       "      <td>100</td>\n",
       "    </tr>\n",
       "  </tbody>\n",
       "</table>\n",
       "</div>"
      ],
      "text/plain": [
       "   Id  LengthCm  SepalCm  LengthCm.1  PetalCm  output\n",
       "0   1       5.1      3.5         1.4      0.2     100\n",
       "1   2       4.9      3.0         1.4      0.2     100\n",
       "2   3       4.7      3.2         1.3      0.2     100\n",
       "3   4       4.6      3.1         1.5      0.2     100\n",
       "4   5       5.0      3.6         1.4      0.2     100"
      ]
     },
     "execution_count": 5,
     "metadata": {},
     "output_type": "execute_result"
    }
   ],
   "source": [
    "df = pd.read_csv('./sample_data.csv')\n",
    "print(df.shape)\n",
    "df.head()"
   ]
  },
  {
   "cell_type": "code",
   "execution_count": 6,
   "metadata": {},
   "outputs": [
    {
     "name": "stdout",
     "output_type": "stream",
     "text": [
      "<class 'pandas.core.frame.DataFrame'>\n",
      "RangeIndex: 150 entries, 0 to 149\n",
      "Data columns (total 6 columns):\n",
      " #   Column      Non-Null Count  Dtype  \n",
      "---  ------      --------------  -----  \n",
      " 0   Id          150 non-null    int64  \n",
      " 1   LengthCm    150 non-null    float64\n",
      " 2   SepalCm     150 non-null    float64\n",
      " 3   LengthCm.1  150 non-null    float64\n",
      " 4   PetalCm     150 non-null    float64\n",
      " 5   output      150 non-null    int64  \n",
      "dtypes: float64(4), int64(2)\n",
      "memory usage: 7.2 KB\n"
     ]
    }
   ],
   "source": [
    "df.info()"
   ]
  },
  {
   "cell_type": "code",
   "execution_count": 77,
   "metadata": {},
   "outputs": [],
   "source": [
    "le = LabelEncoder()\n",
    "y = df.iloc[:, -1]\n",
    "y = le.fit_transform(y)"
   ]
  },
  {
   "cell_type": "code",
   "execution_count": 78,
   "metadata": {},
   "outputs": [
    {
     "name": "stdout",
     "output_type": "stream",
     "text": [
      "(150, 4) (150,)\n"
     ]
    }
   ],
   "source": [
    "X = df.iloc[:, 1:-1].values\n",
    "\n",
    "print(X.shape, y.shape)"
   ]
  },
  {
   "cell_type": "markdown",
   "metadata": {},
   "source": [
    "### 1. Perceptron Learning"
   ]
  },
  {
   "cell_type": "code",
   "execution_count": 79,
   "metadata": {},
   "outputs": [
    {
     "name": "stdout",
     "output_type": "stream",
     "text": [
      "0.9666666666666667\n"
     ]
    }
   ],
   "source": [
    "X_train, X_test, y_train, y_test = train_test_split(X, y, test_size = 0.2, random_state = 0)\n",
    "\n",
    "\n",
    "clf = Perceptron(tol=1e-3, random_state=0)\n",
    "clf.fit(X_train, y_train)\n",
    "clf.predict(X_test)\n",
    "print (clf.score(X_test, y_test))"
   ]
  },
  {
   "cell_type": "code",
   "execution_count": 48,
   "metadata": {},
   "outputs": [],
   "source": [
    "class Perceptron_self:\n",
    "  \n",
    "  #constructor\n",
    "  def __init__ (self):\n",
    "    self.w = None\n",
    "    self.b = None\n",
    "    \n",
    "  #model  \n",
    "  def model(self, x):\n",
    "    return 1 if (np.dot(self.w, x) >= self.b) else 0\n",
    "  \n",
    "  #predictor to predict on the data based on w\n",
    "  def predict(self, X):\n",
    "    Y = []\n",
    "    for x in X:\n",
    "      result = self.model(x)\n",
    "      Y.append(result)\n",
    "    return np.array(Y)\n",
    "    \n",
    "  def fit(self, X, Y, epochs = 1, lr = 1):\n",
    "    self.w = np.zeros(X.shape[1])\n",
    "    self.b = 0\n",
    "    accuracy = {}\n",
    "    max_accuracy = 0\n",
    "    wt_matrix = []\n",
    "    #for all epochs\n",
    "    for i in range(epochs):\n",
    "      for x, y in zip(X, Y):\n",
    "        y_pred = self.model(x)\n",
    "        if y == 1 and y_pred == 0:\n",
    "          self.w = self.w + lr * x\n",
    "          self.b = self.b - lr * 1\n",
    "        elif y == 0 and y_pred == 1:\n",
    "          self.w = self.w - lr * x\n",
    "          self.b = self.b + lr * 1\n",
    "          \n",
    "      wt_matrix.append(self.w)    \n",
    "      accuracy[i] = accuracy_score(self.predict(X), Y)\n",
    "      if (accuracy[i] > max_accuracy):\n",
    "        max_accuracy = accuracy[i]\n",
    "        chkptw = self.w\n",
    "        chkptb = self.b\n",
    "    #checkpoint (Save the weights and b value)\n",
    "    self.w = chkptw\n",
    "    self.b = chkptb\n",
    "        \n",
    "    print(max_accuracy)\n",
    "    #plot the accuracy values over epochs\n",
    "    plt.plot(accuracy.values())\n",
    "    plt.xlabel(\"Epoch #\")\n",
    "    plt.ylabel(\"Accuracy\")\n",
    "    plt.ylim([0, 1])\n",
    "    plt.show()\n",
    "    \n",
    "    #return the weight matrix, that contains weights over all epochs\n",
    "    return np.array(wt_matrix)"
   ]
  },
  {
   "cell_type": "code",
   "execution_count": 50,
   "metadata": {},
   "outputs": [
    {
     "name": "stdout",
     "output_type": "stream",
     "text": [
      "0.85\n"
     ]
    },
    {
     "data": {
      "image/png": "[encoded data removed]",
      "text/plain": [
       "<Figure size 432x288 with 1 Axes>"
      ]
     },
     "metadata": {},
     "output_type": "display_data"
    },
    {
     "data": {
      "text/plain": [
       "0.9333333333333333"
      ]
     },
     "execution_count": 50,
     "metadata": {},
     "output_type": "execute_result"
    }
   ],
   "source": [
    "model = Perceptron_self()\n",
    "\n",
    "wt_matrix = model.fit(X_train, y_train, 10000, 0.001)\n",
    "y_hat = model.predict(X_test)\n",
    "\n",
    "accuracy_score(y_test, y_hat)"
   ]
  },
  {
   "cell_type": "markdown",
   "metadata": {},
   "source": [
    "### 2. Delta Learning Rule"
   ]
  },
  {
   "cell_type": "code",
   "execution_count": 72,
   "metadata": {},
   "outputs": [],
   "source": [
    "class Perceptron_delta:\n",
    "\n",
    "    def __init__(self):\n",
    "        self.weights=[]\n",
    "\n",
    "    def activation(self,data):\n",
    "        #initializing with threshold value\n",
    "        activation_val=self.weights[0]\n",
    "        activation_val+=np.dot(self.weights[1:],data)\n",
    "        return 1 if activation_val>=0 else 0\n",
    "\n",
    "    def fit(self,X,y,lrate,epochs):\n",
    "        #initializing weight vector\n",
    "        self.weights=[0.0 for i in range(len(X.columns)+1)]\n",
    "        #no.of iterations to train the neural network\n",
    "        for epoch in range(epochs):\n",
    "            print(f\"Epoch {epoch+1} ...\")\n",
    "            for index in range(len(X)):\n",
    "                x=X.iloc[index]\n",
    "                predicted=self.activation(x)\n",
    "                #check for misclassification\n",
    "                if(y[index]==predicted):\n",
    "                    pass\n",
    "                else:\n",
    "                    #calculate the error value\n",
    "                    error=y[index]-predicted\n",
    "                    #updation of threshold\n",
    "                    self.weights[0]=self.weights[0]+lrate*error\n",
    "                    #updation of associated self.weights acccording to Delta rule\n",
    "                    for j in range(len(x)):\n",
    "                        self.weights[j+1]=self.weights[j+1]+lrate*error*x[j]\n",
    "    \n",
    "    def predict(self,x_test):\n",
    "        predicted=[]\n",
    "        for i in range(len(x_test)):\n",
    "            #prediction for test set using obtained weights\n",
    "            predicted.append(self.activation(x_test.iloc[i]))\n",
    "        return predicted\n",
    "    \n",
    "    def accuracy(self,predicted,original):\n",
    "        correct=0\n",
    "        lent=len(predicted)\n",
    "        for i in range(lent):\n",
    "            if(predicted[i]==original[i]):\n",
    "                correct+=1\n",
    "        return (correct/lent)*100\n",
    "    \n",
    "    def getweights(self):\n",
    "        return self.weights\n"
   ]
  },
  {
   "cell_type": "code",
   "execution_count": 73,
   "metadata": {},
   "outputs": [
    {
     "name": "stdout",
     "output_type": "stream",
     "text": [
      "(150, 4) (150,)\n"
     ]
    }
   ],
   "source": [
    "X = df.iloc[:, 1:-1]\n",
    "\n",
    "print(X.shape, y.shape)\n",
    "X_train, X_test, y_train, y_test = train_test_split(X, y, test_size = 0.2, random_state = 0)"
   ]
  },
  {
   "cell_type": "code",
   "execution_count": 74,
   "metadata": {},
   "outputs": [
    {
     "name": "stdout",
     "output_type": "stream",
     "text": [
      "Epoch 1 ...\n",
      "Epoch 2 ...\n",
      "Epoch 3 ...\n",
      "Epoch 4 ...\n",
      "Epoch 5 ...\n",
      "Epoch 6 ...\n",
      "Epoch 7 ...\n",
      "Epoch 8 ...\n",
      "Epoch 9 ...\n",
      "Epoch 10 ...\n",
      "accuracy:  96.66666666666667\n",
      "weights:  [-6.5, -0.8499999999999903, 9.90000000000002, -10.350000000000005, 10.54999999999999]\n"
     ]
    }
   ],
   "source": [
    "#training the percpetron\n",
    "model = Perceptron_delta()\n",
    "model.fit(X_train, y_train,0.5,10)\n",
    "pred = model.predict(X_test)\n",
    "print(\"accuracy: \",model.accuracy(pred, y_test))\n",
    "print(\"weights: \",model.getweights())"
   ]
  },
  {
   "cell_type": "markdown",
   "metadata": {},
   "source": [
    "### 3. Hebbian Learning"
   ]
  },
  {
   "cell_type": "code",
   "execution_count": 75,
   "metadata": {},
   "outputs": [],
   "source": [
    "import time\n",
    "\n",
    "class Hebbian(object):\n",
    "    \"\"\"\n",
    "    Hebbian Classifier.\n",
    "    This module implements the Hebbian Learning algorithm.\n",
    "    Parameters:\n",
    "        eta (float): Learning rate (between 0.0 and 1.0)\n",
    "        n_iter (int): Set to 1 for Hebb training rule, but can be adjusted for debugging.\n",
    "    Attributes:\n",
    "        w_ (1-d array): Weights after fitting.\n",
    "        errors_ (list): Number of misclassifications.\n",
    "    \"\"\"\n",
    "\n",
    "    def __init__(self, eta=0.01, n_iter=1):\n",
    "        self.eta = eta\n",
    "        self.n_iter = n_iter\n",
    "\n",
    "    def fit(self, X, y):\n",
    "        \"\"\"\n",
    "        Fits the training data, and allows for Hebbian learning.\n",
    "        Args:\n",
    "            X (array-like): Training vectors, where n_samples is the number of samples and n_features is the number of\n",
    "            features. Shape = [n_samples, n_feature].\n",
    "            y (array-like): Target Values. Shape =[n_samples]\n",
    "        Returns:\n",
    "            self (object): Returns itself with updated weights.\n",
    "        \"\"\"\n",
    "\n",
    "        #   Weight initialization. Note shape[1] is number of columns, and shape[0] is number of rows.\n",
    "        self.w_ = np.zeros(1 + X.shape[1])\n",
    "\n",
    "        #   Track the misclassifications the single pass over the data.\n",
    "        self.errors_ = []\n",
    "\n",
    "        for _ in range(self.n_iter):\n",
    "\n",
    "            errors = 0\n",
    "\n",
    "            #   The 'zip()' function returns a list of tuples, where the i-th tuple contains the i-th element from\n",
    "            #   each of the argument sequences or iterables.\n",
    "            for xi, target in zip(X, y):\n",
    "\n",
    "                #   Hebb Learning Rule (self.eta is the learning rate).\n",
    "                #   Weights updated based on\n",
    "                #       weight_change = learning_rate * input * output\n",
    "                #\n",
    "                hebb_update = self.eta * self.predict( xi )\n",
    "\n",
    "                #   Update the weights (including the bias)\n",
    "                self.w_[1:] += hebb_update * xi\n",
    "                self.w_[0] += hebb_update\n",
    "\n",
    "                #   Stopping Condition - Keep track of the errors\n",
    "                errors += int(hebb_update != 0.0)\n",
    "\n",
    "            self.errors_.append(errors)\n",
    "\n",
    "        print( \"[ \" + time.strftime( '%d-%b-%Y %H:%M:%S', time.localtime() ) + \" ] HEBB: Last Weights\" )\n",
    "        print(self.w_[1:])\n",
    "\n",
    "        return self\n",
    "\n",
    "    def net_input(self, X):\n",
    "        \"\"\"\n",
    "        Calculates the Net Input for a neuron.\n",
    "        Args:\n",
    "            X (array-like): Training vectors, where n_samples is the number of samples and n_features is the number of\n",
    "            features. Shape = [n_samples, n_feature].\n",
    "        Returns:\n",
    "            float: The net input (dot product) calculated from the input layer.\n",
    "        \"\"\"\n",
    "\n",
    "        #   Return the dot-product of w (transposed) and x\n",
    "        #   Note: self.w_[0] is basically the \"threshold\" or so-called \"bias unit.\"\n",
    "        # print(\"Bias: \" + str(self.w_[0]))\n",
    "        return np.dot(X, self.w_[1:]) + self.w_[0]\n",
    "\n",
    "    def predict(self, X):\n",
    "        \"\"\"\n",
    "        Returns the class label after a unit step.\n",
    "        Args:\n",
    "            X (array-like): Training vectors, where n_samples is the number of samples and n_features is the number of\n",
    "            features. Shape = [n_samples, n_feature].\n",
    "        Returns:\n",
    "            ndarray: A Numpy array value with the expected (predicted) label of the pattern.\n",
    "        \"\"\"\n",
    "        return np.where(self.net_input(X) >= 0.0, 1, -1)"
   ]
  },
  {
   "cell_type": "code",
   "execution_count": 85,
   "metadata": {},
   "outputs": [
    {
     "name": "stdout",
     "output_type": "stream",
     "text": [
      "[ 25-Oct-2021 21:33:45 ] HEBB: Last Weights\n",
      "[7057. 3664. 4579. 1477.]\n"
     ]
    },
    {
     "data": {
      "text/plain": [
       "<__main__.Hebbian at 0x7fd11e7d9910>"
      ]
     },
     "execution_count": 85,
     "metadata": {},
     "output_type": "execute_result"
    }
   ],
   "source": [
    "hebb = Hebbian(eta=0.01, n_iter=1000)\n",
    "hebb.fit(X_train, y_train)"
   ]
  },
  {
   "cell_type": "code",
   "execution_count": 86,
   "metadata": {},
   "outputs": [
    {
     "data": {
      "text/plain": [
       "0.4"
      ]
     },
     "execution_count": 86,
     "metadata": {},
     "output_type": "execute_result"
    }
   ],
   "source": [
    "y_hat = hebb.predict(X_test)\n",
    "accuracy_score(y_test, y_hat)"
   ]
  }
 ],
 "metadata": {
  "interpreter": {
   "hash": "4476fe1481e390b114b1021416a2969c039ded7396dccfbdca9c6c68678e5f18"
  },
  "kernelspec": {
   "display_name": "Python 3.8.10 64-bit ('tfDL': conda)",
   "name": "python3"
  },
  "language_info": {
   "codemirror_mode": {
    "name": "ipython",
    "version": 3
   },
   "file_extension": ".py",
   "mimetype": "text/x-python",
   "name": "python",
   "nbconvert_exporter": "python",
   "pygments_lexer": "ipython3",
   "version": "3.8.10"
  },
  "orig_nbformat": 4
 },
 "nbformat": 4,
 "nbformat_minor": 2
}
