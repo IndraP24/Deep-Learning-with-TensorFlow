{
 "cells": [
  {
   "cell_type": "markdown",
   "metadata": {},
   "source": [
    "# Assignment 7"
   ]
  },
  {
   "cell_type": "markdown",
   "metadata": {},
   "source": [
    "### 1. Generate a .csv file consisting of 20,000 sequences of random strings consisting of asci letters and digits of varying length (6-10 both including).\n",
    "\n",
    "Example:\n",
    "|Sequences|\n",
    "|---------|\n",
    "|  EIHZQ  |\n",
    "| XcXsbaW |\n",
    "|  C2efhr |\n",
    "|  lRqfX  |\n",
    "| huNeASD9|\n",
    "|  aEiiOU |"
   ]
  },
  {
   "cell_type": "code",
   "execution_count": 2,
   "metadata": {},
   "outputs": [],
   "source": [
    "import pandas as pd\n",
    "import random, string, re"
   ]
  },
  {
   "cell_type": "code",
   "execution_count": 2,
   "metadata": {},
   "outputs": [],
   "source": [
    "def get_random_string():\n",
    "    \"\"\"function to get random strings of varying length 6 to 10\"\"\"\n",
    "    return ''.join(random.choices(string.ascii_letters + string.digits, k=random.randint(6, 10)))"
   ]
  },
  {
   "cell_type": "code",
   "execution_count": 3,
   "metadata": {},
   "outputs": [],
   "source": [
    "def generate_csv(n=20000):\n",
    "    \"\"\"function to generate a csv file with n sequences from get_random_string\"\"\"\n",
    "    df = pd.DataFrame(columns=['Sequences'])\n",
    "    for i in range(n):\n",
    "        df.loc[i] = [get_random_string()]\n",
    "    path = './data/random_strings_20000.csv'\n",
    "    df.to_csv(path, index=False)\n",
    "    return df, path"
   ]
  },
  {
   "cell_type": "code",
   "execution_count": 14,
   "metadata": {},
   "outputs": [
    {
     "data": {
      "text/plain": [
       "(        Sequences\n",
       " 0       INhdQkBfO\n",
       " 1         UmysQhl\n",
       " 2         j9AyeZc\n",
       " 3          WetS23\n",
       " 4      zjt8KP08tr\n",
       " ...           ...\n",
       " 19995    PVersIjz\n",
       " 19996     8ASgwAE\n",
       " 19997    zrqVowhU\n",
       " 19998    p6NlavwD\n",
       " 19999      9kEx8j\n",
       " \n",
       " [20000 rows x 1 columns],\n",
       " './data/random_strings_20000.csv')"
      ]
     },
     "execution_count": 14,
     "metadata": {},
     "output_type": "execute_result"
    }
   ],
   "source": [
    "generate_csv(20000)"
   ]
  },
  {
   "cell_type": "markdown",
   "metadata": {},
   "source": [
    "### 2. Identify the count of Vowels (A, E, I, O, U) and unique consonants. If the string consist of any digit then write that string into log file.\n",
    "\n",
    "Result file:\n",
    "|Sequences | A,a | E,e | I,i | O,o | U,u | Consonants|\n",
    "|----------|-----|-----|-----|-----|-----|-----------|\n",
    "|   EIHKQ  |  0  |  1  |  1  |  0  |  0  |     3     |\n",
    "| XcXKbkW  |  0  |  0  |  0  |  0  |  0  |     5     |\n",
    "|  aEiiOU  |  1  |  1  |  2  |  1  |  1  |     0     |\n",
    "\n",
    "Log file:\n",
    "|      |\n",
    "|------|\n",
    "|C2efhr|\n",
    "|1RqfX|\n",
    "|huNeASD9|"
   ]
  },
  {
   "cell_type": "code",
   "execution_count": 3,
   "metadata": {},
   "outputs": [],
   "source": [
    "# def generate_log():\n",
    "#     \"\"\"function to generate a log file if a string consist of a digit\"\"\"\n",
    "#     path = './data/random_strings_20000.csv'\n",
    "#     df = pd.read_csv(path)\n",
    "#     df['Digit'] = df['Sequences'].apply(lambda x: 1 if re.search('[0-9]', x) else 0)\n",
    "#     df.to_csv('./data/random_strings_20000_log.csv', index=False)\n",
    "#     return df"
   ]
  },
  {
   "cell_type": "code",
   "execution_count": 10,
   "metadata": {},
   "outputs": [],
   "source": [
    "def generate_log():\n",
    "    \"\"\"function to generate a log file that only contains string with a digit\"\"\"\n",
    "    path = './data/random_strings_20000.csv'\n",
    "    df = pd.read_csv(path)\n",
    "    df['Digit'] = df['Sequences'].apply(lambda x: 1 if re.search('[0-9]', x) else 0)\n",
    "    df = df[df['Digit'] == 1][\"Sequences\"]\n",
    "    df.to_csv('./data/random_strings_20000_log.csv', index=False)\n",
    "    return df"
   ]
  },
  {
   "cell_type": "code",
   "execution_count": 11,
   "metadata": {},
   "outputs": [
    {
     "data": {
      "text/plain": [
       "2           j9AyeZc\n",
       "3            WetS23\n",
       "4        zjt8KP08tr\n",
       "5            ZKPR8u\n",
       "6        cvibST5qPS\n",
       "            ...    \n",
       "19993    VxGglE5Uby\n",
       "19994      QVSfwfG2\n",
       "19996       8ASgwAE\n",
       "19998      p6NlavwD\n",
       "19999        9kEx8j\n",
       "Name: Sequences, Length: 14993, dtype: object"
      ]
     },
     "execution_count": 11,
     "metadata": {},
     "output_type": "execute_result"
    }
   ],
   "source": [
    "generate_log()"
   ]
  },
  {
   "cell_type": "code",
   "execution_count": 6,
   "metadata": {},
   "outputs": [],
   "source": [
    "def generate_count_csv():\n",
    "    \"\"\"function to generate a csv file with the count of each vowels and unique consonants in strings after removing with those containing digits\"\"\"\n",
    "    path = './data/random_strings_20000_log.csv'\n",
    "    df = pd.read_csv(path)\n",
    "    df['Vowels'] = df['Sequences'].apply(lambda x: len([i for i in x if i in 'aeiou']))\n",
    "    df['Consonants'] = df['Sequences'].apply(lambda x: len([i for i in x if i in 'bcdfghjklmnpqrstvwxyz']))\n",
    "    df.to_csv('./data/random_strings_20000_count.csv', index=False)\n",
    "    return df"
   ]
  },
  {
   "cell_type": "code",
   "execution_count": 4,
   "metadata": {},
   "outputs": [],
   "source": [
    "def generate_count_csv():\n",
    "    \"\"\"function to generate a csv file with the count of each vowels and unique consonants in a string (both having uppercase and lowercase characters) and containing no digits\"\"\"\n",
    "    path = './data/random_strings_20000.csv'\n",
    "    df = pd.read_csv(path)\n",
    "    df['A,a'] = df['Sequences'].apply(lambda x: len(re.findall('[a]', x, re.IGNORECASE)))\n",
    "    df['E,e'] = df['Sequences'].apply(lambda x: len(re.findall('[e]', x, re.IGNORECASE)))\n",
    "    df['I,i'] = df['Sequences'].apply(lambda x: len(re.findall('[i]', x, re.IGNORECASE)))\n",
    "    df['O,o'] = df['Sequences'].apply(lambda x: len(re.findall('[o]', x, re.IGNORECASE)))\n",
    "    df['U,u'] = df['Sequences'].apply(lambda x: len(re.findall('[u]', x, re.IGNORECASE)))\n",
    "    df['Consonants'] = df['Sequences'].apply(lambda x: len(re.findall('[^aeiou]', x, re.IGNORECASE)))\n",
    "    df.to_csv('./data/random_strings_20000_count.csv', index=False)\n",
    "    return df"
   ]
  },
  {
   "cell_type": "code",
   "execution_count": 5,
   "metadata": {},
   "outputs": [
    {
     "data": {
      "text/html": [
       "<div>\n",
       "<style scoped>\n",
       "    .dataframe tbody tr th:only-of-type {\n",
       "        vertical-align: middle;\n",
       "    }\n",
       "\n",
       "    .dataframe tbody tr th {\n",
       "        vertical-align: top;\n",
       "    }\n",
       "\n",
       "    .dataframe thead th {\n",
       "        text-align: right;\n",
       "    }\n",
       "</style>\n",
       "<table border=\"1\" class=\"dataframe\">\n",
       "  <thead>\n",
       "    <tr style=\"text-align: right;\">\n",
       "      <th></th>\n",
       "      <th>Sequences</th>\n",
       "      <th>A,a</th>\n",
       "      <th>E,e</th>\n",
       "      <th>I,i</th>\n",
       "      <th>O,o</th>\n",
       "      <th>U,u</th>\n",
       "      <th>Consonants</th>\n",
       "    </tr>\n",
       "  </thead>\n",
       "  <tbody>\n",
       "    <tr>\n",
       "      <th>0</th>\n",
       "      <td>INhdQkBfO</td>\n",
       "      <td>0</td>\n",
       "      <td>0</td>\n",
       "      <td>1</td>\n",
       "      <td>1</td>\n",
       "      <td>0</td>\n",
       "      <td>7</td>\n",
       "    </tr>\n",
       "    <tr>\n",
       "      <th>1</th>\n",
       "      <td>UmysQhl</td>\n",
       "      <td>0</td>\n",
       "      <td>0</td>\n",
       "      <td>0</td>\n",
       "      <td>0</td>\n",
       "      <td>1</td>\n",
       "      <td>6</td>\n",
       "    </tr>\n",
       "    <tr>\n",
       "      <th>2</th>\n",
       "      <td>j9AyeZc</td>\n",
       "      <td>1</td>\n",
       "      <td>1</td>\n",
       "      <td>0</td>\n",
       "      <td>0</td>\n",
       "      <td>0</td>\n",
       "      <td>5</td>\n",
       "    </tr>\n",
       "    <tr>\n",
       "      <th>3</th>\n",
       "      <td>WetS23</td>\n",
       "      <td>0</td>\n",
       "      <td>1</td>\n",
       "      <td>0</td>\n",
       "      <td>0</td>\n",
       "      <td>0</td>\n",
       "      <td>5</td>\n",
       "    </tr>\n",
       "    <tr>\n",
       "      <th>4</th>\n",
       "      <td>zjt8KP08tr</td>\n",
       "      <td>0</td>\n",
       "      <td>0</td>\n",
       "      <td>0</td>\n",
       "      <td>0</td>\n",
       "      <td>0</td>\n",
       "      <td>10</td>\n",
       "    </tr>\n",
       "    <tr>\n",
       "      <th>...</th>\n",
       "      <td>...</td>\n",
       "      <td>...</td>\n",
       "      <td>...</td>\n",
       "      <td>...</td>\n",
       "      <td>...</td>\n",
       "      <td>...</td>\n",
       "      <td>...</td>\n",
       "    </tr>\n",
       "    <tr>\n",
       "      <th>19995</th>\n",
       "      <td>PVersIjz</td>\n",
       "      <td>0</td>\n",
       "      <td>1</td>\n",
       "      <td>1</td>\n",
       "      <td>0</td>\n",
       "      <td>0</td>\n",
       "      <td>6</td>\n",
       "    </tr>\n",
       "    <tr>\n",
       "      <th>19996</th>\n",
       "      <td>8ASgwAE</td>\n",
       "      <td>2</td>\n",
       "      <td>1</td>\n",
       "      <td>0</td>\n",
       "      <td>0</td>\n",
       "      <td>0</td>\n",
       "      <td>4</td>\n",
       "    </tr>\n",
       "    <tr>\n",
       "      <th>19997</th>\n",
       "      <td>zrqVowhU</td>\n",
       "      <td>0</td>\n",
       "      <td>0</td>\n",
       "      <td>0</td>\n",
       "      <td>1</td>\n",
       "      <td>1</td>\n",
       "      <td>6</td>\n",
       "    </tr>\n",
       "    <tr>\n",
       "      <th>19998</th>\n",
       "      <td>p6NlavwD</td>\n",
       "      <td>1</td>\n",
       "      <td>0</td>\n",
       "      <td>0</td>\n",
       "      <td>0</td>\n",
       "      <td>0</td>\n",
       "      <td>7</td>\n",
       "    </tr>\n",
       "    <tr>\n",
       "      <th>19999</th>\n",
       "      <td>9kEx8j</td>\n",
       "      <td>0</td>\n",
       "      <td>1</td>\n",
       "      <td>0</td>\n",
       "      <td>0</td>\n",
       "      <td>0</td>\n",
       "      <td>5</td>\n",
       "    </tr>\n",
       "  </tbody>\n",
       "</table>\n",
       "<p>20000 rows × 7 columns</p>\n",
       "</div>"
      ],
      "text/plain": [
       "        Sequences  A,a  E,e  I,i  O,o  U,u  Consonants\n",
       "0       INhdQkBfO    0    0    1    1    0           7\n",
       "1         UmysQhl    0    0    0    0    1           6\n",
       "2         j9AyeZc    1    1    0    0    0           5\n",
       "3          WetS23    0    1    0    0    0           5\n",
       "4      zjt8KP08tr    0    0    0    0    0          10\n",
       "...           ...  ...  ...  ...  ...  ...         ...\n",
       "19995    PVersIjz    0    1    1    0    0           6\n",
       "19996     8ASgwAE    2    1    0    0    0           4\n",
       "19997    zrqVowhU    0    0    0    1    1           6\n",
       "19998    p6NlavwD    1    0    0    0    0           7\n",
       "19999      9kEx8j    0    1    0    0    0           5\n",
       "\n",
       "[20000 rows x 7 columns]"
      ]
     },
     "execution_count": 5,
     "metadata": {},
     "output_type": "execute_result"
    }
   ],
   "source": [
    "generate_count_csv()"
   ]
  },
  {
   "cell_type": "markdown",
   "metadata": {},
   "source": [
    "### 3: Create two separate .csv files “Vowel.csv” and “Consonant.csv” having vowels and consonants only.\n",
    "\n",
    "Vowel.csv\n",
    "|      |\n",
    "|------|\n",
    "|aEiiOU|\n",
    "\n",
    "\n",
    "Consonant.csv\n",
    "|      |\n",
    "|------|\n",
    "|XcXKbkW|"
   ]
  },
  {
   "cell_type": "markdown",
   "metadata": {},
   "source": []
  }
 ],
 "metadata": {
  "interpreter": {
   "hash": "4ee915b603d310a130ac14c22c060351c31c866e2af29f7ee966b3d55f25a8c2"
  },
  "kernelspec": {
   "display_name": "Python 3.8.8 ('base')",
   "language": "python",
   "name": "python3"
  },
  "language_info": {
   "codemirror_mode": {
    "name": "ipython",
    "version": 3
   },
   "file_extension": ".py",
   "mimetype": "text/x-python",
   "name": "python",
   "nbconvert_exporter": "python",
   "pygments_lexer": "ipython3",
   "version": "3.8.8"
  },
  "orig_nbformat": 4
 },
 "nbformat": 4,
 "nbformat_minor": 2
}
